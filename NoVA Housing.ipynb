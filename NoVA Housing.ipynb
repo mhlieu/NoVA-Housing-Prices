{
 "cells": [
  {
   "cell_type": "markdown",
   "id": "b0f0e4c3",
   "metadata": {},
   "source": [
    "## Data Loading"
   ]
  },
  {
   "cell_type": "code",
   "execution_count": 1,
   "id": "e04d4b81",
   "metadata": {},
   "outputs": [],
   "source": [
    "import pandas as pd\n",
    "import numpy as np\n",
    "import re\n",
    "import datetime as dt"
   ]
  },
  {
   "cell_type": "code",
   "execution_count": 2,
   "id": "0712e2e2",
   "metadata": {},
   "outputs": [],
   "source": [
    "import os\n",
    "os.chdir('C:\\\\Users\\\\megan.lieu')"
   ]
  },
  {
   "cell_type": "code",
   "execution_count": 3,
   "id": "cce38068",
   "metadata": {},
   "outputs": [],
   "source": [
    "herndon_data = pd.read_csv('zillow_herndon (1).csv')\n",
    "reston_data = pd.read_csv('zillow-reston (1).csv')\n",
    "ashburn_data = pd.read_csv('zillow-ashburn (1).csv')\n",
    "sterling_data = pd.read_csv('zillow-sterling.csv')\n",
    "fallschurch_data = pd.read_csv('zillow_fallschurch.csv')\n",
    "vienna_data = pd.read_csv('zillow_vienna.csv')\n",
    "fairfax_data = pd.read_csv('zillow_fairfax.csv')\n",
    "manassas_data = pd.read_csv('zillow_manassas.csv')\n",
    "chantilly_data = pd.read_csv('zillow_chantilly.csv')\n",
    "centreville_data = pd.read_csv('zillow_centreville.csv')\n",
    "arlington_data = pd.read_csv('zillow_arlington.csv')\n",
    "alexandria_data = pd.read_csv('zillow_alexandria.csv')\n",
    "annandale_data = pd.read_csv('zillow_annandale.csv')\n",
    "mclean_data = pd.read_csv('zillow_mclean.csv')\n",
    "greatfalls_data = pd.read_csv('zillow_greatfalls.csv')\n",
    "springfield_data = pd.read_csv('zillow_springfield.csv')"
   ]
  },
  {
   "cell_type": "code",
   "execution_count": 4,
   "id": "682f7bbb",
   "metadata": {},
   "outputs": [],
   "source": [
    "merged_housing_data = pd.concat([ashburn_data, herndon_data, reston_data, sterling_data, fallschurch_data, vienna_data, fairfax_data, manassas_data, chantilly_data, centreville_data, arlington_data, alexandria_data, annandale_data, mclean_data, greatfalls_data, springfield_data])"
   ]
  },
  {
   "cell_type": "code",
   "execution_count": 5,
   "id": "5a76d202",
   "metadata": {},
   "outputs": [
    {
     "data": {
      "text/html": [
       "<div>\n",
       "<style scoped>\n",
       "    .dataframe tbody tr th:only-of-type {\n",
       "        vertical-align: middle;\n",
       "    }\n",
       "\n",
       "    .dataframe tbody tr th {\n",
       "        vertical-align: top;\n",
       "    }\n",
       "\n",
       "    .dataframe thead th {\n",
       "        text-align: right;\n",
       "    }\n",
       "</style>\n",
       "<table border=\"1\" class=\"dataframe\">\n",
       "  <thead>\n",
       "    <tr style=\"text-align: right;\">\n",
       "      <th></th>\n",
       "      <th>web-scraper-order</th>\n",
       "      <th>web-scraper-start-url</th>\n",
       "      <th>listing_link</th>\n",
       "      <th>listing_link-href</th>\n",
       "      <th>Price</th>\n",
       "      <th>No_bd</th>\n",
       "      <th>No_ba</th>\n",
       "      <th>Sqft</th>\n",
       "      <th>Zestimate</th>\n",
       "      <th>Address</th>\n",
       "      <th>Est_pmt</th>\n",
       "      <th>Townhouse</th>\n",
       "      <th>Year_built</th>\n",
       "      <th>Price_sqft</th>\n",
       "      <th>linking_list</th>\n",
       "      <th>linking_list-href</th>\n",
       "    </tr>\n",
       "  </thead>\n",
       "  <tbody>\n",
       "    <tr>\n",
       "      <th>0</th>\n",
       "      <td>1640747444-69</td>\n",
       "      <td>https://www.zillow.com/homes/Ashburn,-VA_rb/</td>\n",
       "      <td>NaN</td>\n",
       "      <td>https://www.zillow.com/community/downtown-bram...</td>\n",
       "      <td>from</td>\n",
       "      <td>3</td>\n",
       "      <td>2</td>\n",
       "      <td>2,500</td>\n",
       "      <td>NaN</td>\n",
       "      <td>Buildable plan: Hudson, Downtown Brambleton, A...</td>\n",
       "      <td>$3,489/mo</td>\n",
       "      <td>Townhouse</td>\n",
       "      <td>Built in 2021</td>\n",
       "      <td>$286 price/sqft</td>\n",
       "      <td>NaN</td>\n",
       "      <td>NaN</td>\n",
       "    </tr>\n",
       "    <tr>\n",
       "      <th>1</th>\n",
       "      <td>1640747422-67</td>\n",
       "      <td>https://www.zillow.com/homes/Ashburn,-VA_rb/</td>\n",
       "      <td>NaN</td>\n",
       "      <td>https://www.zillow.com/homedetails/20695-Glenm...</td>\n",
       "      <td>$811,650</td>\n",
       "      <td>3</td>\n",
       "      <td>4</td>\n",
       "      <td>2,385</td>\n",
       "      <td>$810,900</td>\n",
       "      <td>20695 Glenmont Ter, Ashburn, VA 20147</td>\n",
       "      <td>$3,923/mo</td>\n",
       "      <td>Townhouse</td>\n",
       "      <td>Built in 2021</td>\n",
       "      <td>$340 price/sqft</td>\n",
       "      <td>NaN</td>\n",
       "      <td>NaN</td>\n",
       "    </tr>\n",
       "    <tr>\n",
       "      <th>2</th>\n",
       "      <td>1640747413-66</td>\n",
       "      <td>https://www.zillow.com/homes/Ashburn,-VA_rb/</td>\n",
       "      <td>NaN</td>\n",
       "      <td>https://www.zillow.com/community/downtown-bram...</td>\n",
       "      <td>from</td>\n",
       "      <td>3</td>\n",
       "      <td>2</td>\n",
       "      <td>2,726</td>\n",
       "      <td>NaN</td>\n",
       "      <td>Buildable plan: Manhattan, Downtown Brambleton...</td>\n",
       "      <td>$3,612/mo</td>\n",
       "      <td>Townhouse</td>\n",
       "      <td>Built in 2021</td>\n",
       "      <td>$273 price/sqft</td>\n",
       "      <td>NaN</td>\n",
       "      <td>NaN</td>\n",
       "    </tr>\n",
       "    <tr>\n",
       "      <th>3</th>\n",
       "      <td>1640747398-65</td>\n",
       "      <td>https://www.zillow.com/homes/Ashburn,-VA_rb/</td>\n",
       "      <td>NaN</td>\n",
       "      <td>https://www.zillow.com/homedetails/20434-Cool-...</td>\n",
       "      <td>$499,900</td>\n",
       "      <td>4</td>\n",
       "      <td>4</td>\n",
       "      <td>1,910</td>\n",
       "      <td>$502,500</td>\n",
       "      <td>20434 Cool Fern Sq, Ashburn, VA 20147</td>\n",
       "      <td>$2,414/mo</td>\n",
       "      <td>Townhouse</td>\n",
       "      <td>Built in 1998</td>\n",
       "      <td>$262 price/sqft</td>\n",
       "      <td>NaN</td>\n",
       "      <td>NaN</td>\n",
       "    </tr>\n",
       "    <tr>\n",
       "      <th>4</th>\n",
       "      <td>1640747499-73</td>\n",
       "      <td>https://www.zillow.com/homes/Ashburn,-VA_rb/</td>\n",
       "      <td>NaN</td>\n",
       "      <td>https://www.zillow.com/homedetails/23090-Dunlo...</td>\n",
       "      <td>$620,000</td>\n",
       "      <td>4</td>\n",
       "      <td>4</td>\n",
       "      <td>1,854</td>\n",
       "      <td>$574,400</td>\n",
       "      <td>23090 Dunlop Heights Ter, Ashburn, VA 20148</td>\n",
       "      <td>$2,954/mo</td>\n",
       "      <td>Townhouse</td>\n",
       "      <td>Built in 2010</td>\n",
       "      <td>$334 price/sqft</td>\n",
       "      <td>NaN</td>\n",
       "      <td>NaN</td>\n",
       "    </tr>\n",
       "    <tr>\n",
       "      <th>...</th>\n",
       "      <td>...</td>\n",
       "      <td>...</td>\n",
       "      <td>...</td>\n",
       "      <td>...</td>\n",
       "      <td>...</td>\n",
       "      <td>...</td>\n",
       "      <td>...</td>\n",
       "      <td>...</td>\n",
       "      <td>...</td>\n",
       "      <td>...</td>\n",
       "      <td>...</td>\n",
       "      <td>...</td>\n",
       "      <td>...</td>\n",
       "      <td>...</td>\n",
       "      <td>...</td>\n",
       "      <td>...</td>\n",
       "    </tr>\n",
       "    <tr>\n",
       "      <th>4</th>\n",
       "      <td>1641259459-196</td>\n",
       "      <td>https://www.zillow.com/homes/Springfield,-VA_rb/</td>\n",
       "      <td>NaN</td>\n",
       "      <td>https://www.zillow.com/homedetails/8527-Kentfo...</td>\n",
       "      <td>$785,000</td>\n",
       "      <td>5</td>\n",
       "      <td>3</td>\n",
       "      <td>1,680</td>\n",
       "      <td>$798,100</td>\n",
       "      <td>8527 Kentford Dr, Springfield, VA 22152</td>\n",
       "      <td>$3,546/mo</td>\n",
       "      <td>Single family residence</td>\n",
       "      <td>Built in 1968</td>\n",
       "      <td>NaN</td>\n",
       "      <td>NaN</td>\n",
       "      <td>NaN</td>\n",
       "    </tr>\n",
       "    <tr>\n",
       "      <th>5</th>\n",
       "      <td>1641259508-199</td>\n",
       "      <td>https://www.zillow.com/homes/Springfield,-VA_rb/</td>\n",
       "      <td>NaN</td>\n",
       "      <td>https://www.zillow.com/homedetails/8801-Law-Ct...</td>\n",
       "      <td>$875,000</td>\n",
       "      <td>4</td>\n",
       "      <td>3</td>\n",
       "      <td>2,791</td>\n",
       "      <td>$875,000</td>\n",
       "      <td>8801 Law Ct, Springfield, VA 22152</td>\n",
       "      <td>$3,953/mo</td>\n",
       "      <td>Single family residence</td>\n",
       "      <td>Built in 1967</td>\n",
       "      <td>NaN</td>\n",
       "      <td>NaN</td>\n",
       "      <td>NaN</td>\n",
       "    </tr>\n",
       "    <tr>\n",
       "      <th>6</th>\n",
       "      <td>1641259446-195</td>\n",
       "      <td>https://www.zillow.com/homes/Springfield,-VA_rb/</td>\n",
       "      <td>NaN</td>\n",
       "      <td>https://www.zillow.com/homedetails/7508-Mendot...</td>\n",
       "      <td>$520,000</td>\n",
       "      <td>4</td>\n",
       "      <td>2</td>\n",
       "      <td>1,424</td>\n",
       "      <td>$621,300</td>\n",
       "      <td>7508 Mendota Pl, Springfield, VA 22150</td>\n",
       "      <td>$2,366/mo</td>\n",
       "      <td>Single family residence</td>\n",
       "      <td>Built in 1955</td>\n",
       "      <td>NaN</td>\n",
       "      <td>NaN</td>\n",
       "      <td>NaN</td>\n",
       "    </tr>\n",
       "    <tr>\n",
       "      <th>7</th>\n",
       "      <td>1641259370-191</td>\n",
       "      <td>https://www.zillow.com/homes/Springfield,-VA_rb/</td>\n",
       "      <td>NaN</td>\n",
       "      <td>https://www.zillow.com/homedetails/6600-Huntsm...</td>\n",
       "      <td>$674,900</td>\n",
       "      <td>4</td>\n",
       "      <td>3</td>\n",
       "      <td>2,064</td>\n",
       "      <td>NaN</td>\n",
       "      <td>6600 Huntsman Blvd, Springfield, VA 22152</td>\n",
       "      <td>$3,049/mo</td>\n",
       "      <td>Single family residence</td>\n",
       "      <td>Built in 1966</td>\n",
       "      <td>NaN</td>\n",
       "      <td>NaN</td>\n",
       "      <td>NaN</td>\n",
       "    </tr>\n",
       "    <tr>\n",
       "      <th>8</th>\n",
       "      <td>1641259390-192</td>\n",
       "      <td>https://www.zillow.com/homes/Springfield,-VA_rb/</td>\n",
       "      <td>NaN</td>\n",
       "      <td>https://www.zillow.com/homedetails/6517-Field-...</td>\n",
       "      <td>$509,900</td>\n",
       "      <td>3</td>\n",
       "      <td>4</td>\n",
       "      <td>1,300</td>\n",
       "      <td>$486,900</td>\n",
       "      <td>6517 Field Master Dr, Springfield, VA 22152</td>\n",
       "      <td>$2,428/mo</td>\n",
       "      <td>Townhouse</td>\n",
       "      <td>Built in 1981</td>\n",
       "      <td>$392 price/sqft</td>\n",
       "      <td>NaN</td>\n",
       "      <td>NaN</td>\n",
       "    </tr>\n",
       "  </tbody>\n",
       "</table>\n",
       "<p>143 rows × 16 columns</p>\n",
       "</div>"
      ],
      "text/plain": [
       "   web-scraper-order                             web-scraper-start-url  \\\n",
       "0      1640747444-69      https://www.zillow.com/homes/Ashburn,-VA_rb/   \n",
       "1      1640747422-67      https://www.zillow.com/homes/Ashburn,-VA_rb/   \n",
       "2      1640747413-66      https://www.zillow.com/homes/Ashburn,-VA_rb/   \n",
       "3      1640747398-65      https://www.zillow.com/homes/Ashburn,-VA_rb/   \n",
       "4      1640747499-73      https://www.zillow.com/homes/Ashburn,-VA_rb/   \n",
       "..               ...                                               ...   \n",
       "4     1641259459-196  https://www.zillow.com/homes/Springfield,-VA_rb/   \n",
       "5     1641259508-199  https://www.zillow.com/homes/Springfield,-VA_rb/   \n",
       "6     1641259446-195  https://www.zillow.com/homes/Springfield,-VA_rb/   \n",
       "7     1641259370-191  https://www.zillow.com/homes/Springfield,-VA_rb/   \n",
       "8     1641259390-192  https://www.zillow.com/homes/Springfield,-VA_rb/   \n",
       "\n",
       "    listing_link                                  listing_link-href  \\\n",
       "0            NaN  https://www.zillow.com/community/downtown-bram...   \n",
       "1            NaN  https://www.zillow.com/homedetails/20695-Glenm...   \n",
       "2            NaN  https://www.zillow.com/community/downtown-bram...   \n",
       "3            NaN  https://www.zillow.com/homedetails/20434-Cool-...   \n",
       "4            NaN  https://www.zillow.com/homedetails/23090-Dunlo...   \n",
       "..           ...                                                ...   \n",
       "4            NaN  https://www.zillow.com/homedetails/8527-Kentfo...   \n",
       "5            NaN  https://www.zillow.com/homedetails/8801-Law-Ct...   \n",
       "6            NaN  https://www.zillow.com/homedetails/7508-Mendot...   \n",
       "7            NaN  https://www.zillow.com/homedetails/6600-Huntsm...   \n",
       "8            NaN  https://www.zillow.com/homedetails/6517-Field-...   \n",
       "\n",
       "        Price  No_bd  No_ba   Sqft  Zestimate  \\\n",
       "0        from      3      2  2,500        NaN   \n",
       "1   $811,650       3      4  2,385  $810,900    \n",
       "2        from      3      2  2,726        NaN   \n",
       "3   $499,900       4      4  1,910  $502,500    \n",
       "4   $620,000       4      4  1,854  $574,400    \n",
       "..        ...    ...    ...    ...        ...   \n",
       "4    $785,000      5      3  1,680   $798,100   \n",
       "5    $875,000      4      3  2,791   $875,000   \n",
       "6    $520,000      4      2  1,424   $621,300   \n",
       "7    $674,900      4      3  2,064        NaN   \n",
       "8    $509,900      3      4  1,300   $486,900   \n",
       "\n",
       "                                              Address    Est_pmt  \\\n",
       "0   Buildable plan: Hudson, Downtown Brambleton, A...  $3,489/mo   \n",
       "1               20695 Glenmont Ter, Ashburn, VA 20147  $3,923/mo   \n",
       "2   Buildable plan: Manhattan, Downtown Brambleton...  $3,612/mo   \n",
       "3               20434 Cool Fern Sq, Ashburn, VA 20147  $2,414/mo   \n",
       "4         23090 Dunlop Heights Ter, Ashburn, VA 20148  $2,954/mo   \n",
       "..                                                ...        ...   \n",
       "4             8527 Kentford Dr, Springfield, VA 22152  $3,546/mo   \n",
       "5                  8801 Law Ct, Springfield, VA 22152  $3,953/mo   \n",
       "6              7508 Mendota Pl, Springfield, VA 22150  $2,366/mo   \n",
       "7           6600 Huntsman Blvd, Springfield, VA 22152  $3,049/mo   \n",
       "8         6517 Field Master Dr, Springfield, VA 22152  $2,428/mo   \n",
       "\n",
       "                  Townhouse     Year_built       Price_sqft  linking_list  \\\n",
       "0                 Townhouse  Built in 2021  $286 price/sqft           NaN   \n",
       "1                 Townhouse  Built in 2021  $340 price/sqft           NaN   \n",
       "2                 Townhouse  Built in 2021  $273 price/sqft           NaN   \n",
       "3                 Townhouse  Built in 1998  $262 price/sqft           NaN   \n",
       "4                 Townhouse  Built in 2010  $334 price/sqft           NaN   \n",
       "..                      ...            ...              ...           ...   \n",
       "4   Single family residence  Built in 1968              NaN           NaN   \n",
       "5   Single family residence  Built in 1967              NaN           NaN   \n",
       "6   Single family residence  Built in 1955              NaN           NaN   \n",
       "7   Single family residence  Built in 1966              NaN           NaN   \n",
       "8                 Townhouse  Built in 1981  $392 price/sqft           NaN   \n",
       "\n",
       "   linking_list-href  \n",
       "0                NaN  \n",
       "1                NaN  \n",
       "2                NaN  \n",
       "3                NaN  \n",
       "4                NaN  \n",
       "..               ...  \n",
       "4                NaN  \n",
       "5                NaN  \n",
       "6                NaN  \n",
       "7                NaN  \n",
       "8                NaN  \n",
       "\n",
       "[143 rows x 16 columns]"
      ]
     },
     "execution_count": 5,
     "metadata": {},
     "output_type": "execute_result"
    }
   ],
   "source": [
    "merged_housing_data"
   ]
  },
  {
   "cell_type": "markdown",
   "id": "36b0f0f6",
   "metadata": {},
   "source": [
    "## Data Cleaning and Transforming"
   ]
  },
  {
   "cell_type": "code",
   "execution_count": 6,
   "id": "7056a184",
   "metadata": {},
   "outputs": [
    {
     "name": "stderr",
     "output_type": "stream",
     "text": [
      "<ipython-input-6-b2d5d62cfe19>:2: FutureWarning: The default value of regex will change from True to False in a future version. In addition, single character regular expressions will*not* be treated as literal strings when regex=True.\n",
      "  merged_housing_data['Est_pmt'] = merged_housing_data['Est_pmt'].str.replace('$','')\n",
      "<ipython-input-6-b2d5d62cfe19>:9: FutureWarning: The default value of regex will change from True to False in a future version. In addition, single character regular expressions will*not* be treated as literal strings when regex=True.\n",
      "  merged_housing_data['Zestimate'] = merged_housing_data['Zestimate'].str.replace('$','')\n",
      "<ipython-input-6-b2d5d62cfe19>:13: FutureWarning: The default value of regex will change from True to False in a future version. In addition, single character regular expressions will*not* be treated as literal strings when regex=True.\n",
      "  merged_housing_data['Price'] = merged_housing_data['Price'].str.replace('$','')\n",
      "<ipython-input-6-b2d5d62cfe19>:21: FutureWarning: The default value of regex will change from True to False in a future version. In addition, single character regular expressions will*not* be treated as literal strings when regex=True.\n",
      "  merged_housing_data['Est_pmt'] = merged_housing_data['Est_pmt'].str.replace('$','')\n"
     ]
    }
   ],
   "source": [
    "merged_housing_data['Est_pmt']=merged_housing_data['Est_pmt'].str.replace('/mo','')\n",
    "merged_housing_data['Est_pmt'] = merged_housing_data['Est_pmt'].str.replace('$','')\n",
    "merged_housing_data['Est_pmt'] = merged_housing_data['Est_pmt'].str.replace(',','')\n",
    "\n",
    "merged_housing_data['Sqft']=merged_housing_data['Sqft'].str.replace(',','')\n",
    "merged_housing_data[\"Sqft\"] = merged_housing_data[\"Sqft\"].apply(pd.to_numeric)\n",
    "\n",
    "#make sure Zestimates are not null before running this\n",
    "merged_housing_data['Zestimate'] = merged_housing_data['Zestimate'].str.replace('$','')\n",
    "merged_housing_data['Zestimate'] = merged_housing_data['Zestimate'].str.replace(',','')\n",
    "merged_housing_data['Zestimate'] = merged_housing_data['Zestimate'].apply(pd.to_numeric)\n",
    "\n",
    "merged_housing_data['Price'] = merged_housing_data['Price'].str.replace('$','')\n",
    "merged_housing_data['Price'] = merged_housing_data['Price'].str.replace(',','')\n",
    "merged_housing_data['Price'] = merged_housing_data['Price'].replace('from', np.NaN)\n",
    "merged_housing_data['Price'] = merged_housing_data['Price'].apply(pd.to_numeric)\n",
    "\n",
    "merged_housing_data['No_bd'] = merged_housing_data['No_bd'].apply(pd.to_numeric)\n",
    "merged_housing_data['No_ba'] = merged_housing_data['No_ba'].apply(pd.to_numeric)\n",
    "\n",
    "merged_housing_data['Est_pmt'] = merged_housing_data['Est_pmt'].str.replace('$','')\n",
    "merged_housing_data['Est_pmt'] = merged_housing_data['Est_pmt'].str.replace(',','')\n",
    "merged_housing_data['Est_pmt'] = merged_housing_data['Est_pmt'].str.replace('/mo','')\n",
    "merged_housing_data['Est_pmt'] = merged_housing_data['Est_pmt'].apply(pd.to_numeric)"
   ]
  },
  {
   "cell_type": "code",
   "execution_count": 7,
   "id": "262bfff7",
   "metadata": {},
   "outputs": [
    {
     "data": {
      "text/html": [
       "<div>\n",
       "<style scoped>\n",
       "    .dataframe tbody tr th:only-of-type {\n",
       "        vertical-align: middle;\n",
       "    }\n",
       "\n",
       "    .dataframe tbody tr th {\n",
       "        vertical-align: top;\n",
       "    }\n",
       "\n",
       "    .dataframe thead th {\n",
       "        text-align: right;\n",
       "    }\n",
       "</style>\n",
       "<table border=\"1\" class=\"dataframe\">\n",
       "  <thead>\n",
       "    <tr style=\"text-align: right;\">\n",
       "      <th></th>\n",
       "      <th>web-scraper-order</th>\n",
       "      <th>web-scraper-start-url</th>\n",
       "      <th>listing_link</th>\n",
       "      <th>listing_link-href</th>\n",
       "      <th>Price</th>\n",
       "      <th>No_bd</th>\n",
       "      <th>No_ba</th>\n",
       "      <th>Sqft</th>\n",
       "      <th>Zestimate</th>\n",
       "      <th>Address</th>\n",
       "      <th>Est_pmt</th>\n",
       "      <th>Townhouse</th>\n",
       "      <th>Year_built</th>\n",
       "      <th>Price_sqft</th>\n",
       "      <th>linking_list</th>\n",
       "      <th>linking_list-href</th>\n",
       "    </tr>\n",
       "  </thead>\n",
       "  <tbody>\n",
       "    <tr>\n",
       "      <th>0</th>\n",
       "      <td>1640747444-69</td>\n",
       "      <td>https://www.zillow.com/homes/Ashburn,-VA_rb/</td>\n",
       "      <td>NaN</td>\n",
       "      <td>https://www.zillow.com/community/downtown-bram...</td>\n",
       "      <td>NaN</td>\n",
       "      <td>3</td>\n",
       "      <td>2</td>\n",
       "      <td>2500</td>\n",
       "      <td>NaN</td>\n",
       "      <td>Buildable plan: Hudson, Downtown Brambleton, A...</td>\n",
       "      <td>3489</td>\n",
       "      <td>Townhouse</td>\n",
       "      <td>Built in 2021</td>\n",
       "      <td>$286 price/sqft</td>\n",
       "      <td>NaN</td>\n",
       "      <td>NaN</td>\n",
       "    </tr>\n",
       "    <tr>\n",
       "      <th>2</th>\n",
       "      <td>1640747413-66</td>\n",
       "      <td>https://www.zillow.com/homes/Ashburn,-VA_rb/</td>\n",
       "      <td>NaN</td>\n",
       "      <td>https://www.zillow.com/community/downtown-bram...</td>\n",
       "      <td>NaN</td>\n",
       "      <td>3</td>\n",
       "      <td>2</td>\n",
       "      <td>2726</td>\n",
       "      <td>NaN</td>\n",
       "      <td>Buildable plan: Manhattan, Downtown Brambleton...</td>\n",
       "      <td>3612</td>\n",
       "      <td>Townhouse</td>\n",
       "      <td>Built in 2021</td>\n",
       "      <td>$273 price/sqft</td>\n",
       "      <td>NaN</td>\n",
       "      <td>NaN</td>\n",
       "    </tr>\n",
       "    <tr>\n",
       "      <th>5</th>\n",
       "      <td>1640747472-71</td>\n",
       "      <td>https://www.zillow.com/homes/Ashburn,-VA_rb/</td>\n",
       "      <td>NaN</td>\n",
       "      <td>https://www.zillow.com/community/demott-silver...</td>\n",
       "      <td>NaN</td>\n",
       "      <td>3</td>\n",
       "      <td>3</td>\n",
       "      <td>2708</td>\n",
       "      <td>777900.0</td>\n",
       "      <td>Buildable plan: Mayfair, Demott &amp; Silver, Ashb...</td>\n",
       "      <td>3682</td>\n",
       "      <td>Townhouse</td>\n",
       "      <td>Built in 2021</td>\n",
       "      <td>$287 price/sqft</td>\n",
       "      <td>NaN</td>\n",
       "      <td>NaN</td>\n",
       "    </tr>\n",
       "    <tr>\n",
       "      <th>6</th>\n",
       "      <td>1640747431-68</td>\n",
       "      <td>https://www.zillow.com/homes/Ashburn,-VA_rb/</td>\n",
       "      <td>NaN</td>\n",
       "      <td>https://www.zillow.com/community/regency-at-be...</td>\n",
       "      <td>NaN</td>\n",
       "      <td>3</td>\n",
       "      <td>3</td>\n",
       "      <td>2953</td>\n",
       "      <td>NaN</td>\n",
       "      <td>Buildable plan: Dylan, Regency at Belmont, Ash...</td>\n",
       "      <td>3280</td>\n",
       "      <td>Townhouse</td>\n",
       "      <td>Built in 2021</td>\n",
       "      <td>NaN</td>\n",
       "      <td>NaN</td>\n",
       "      <td>NaN</td>\n",
       "    </tr>\n",
       "    <tr>\n",
       "      <th>2</th>\n",
       "      <td>1640747588-76</td>\n",
       "      <td>https://www.zillow.com/herndon-va/3-_beds/2.0-...</td>\n",
       "      <td>NaN</td>\n",
       "      <td>https://www.zillow.com/community/foster-s-glen...</td>\n",
       "      <td>NaN</td>\n",
       "      <td>4</td>\n",
       "      <td>4</td>\n",
       "      <td>2022</td>\n",
       "      <td>NaN</td>\n",
       "      <td>Buildable plan: Strauss, Foster's Glen, Herndo...</td>\n",
       "      <td>3301</td>\n",
       "      <td>Townhouse</td>\n",
       "      <td>Built in 2021</td>\n",
       "      <td>NaN</td>\n",
       "      <td>NaN</td>\n",
       "      <td>NaN</td>\n",
       "    </tr>\n",
       "    <tr>\n",
       "      <th>8</th>\n",
       "      <td>1640747676-82</td>\n",
       "      <td>https://www.zillow.com/herndon-va/3-_beds/2.0-...</td>\n",
       "      <td>NaN</td>\n",
       "      <td>https://www.zillow.com/community/liberty-park/...</td>\n",
       "      <td>NaN</td>\n",
       "      <td>3</td>\n",
       "      <td>3</td>\n",
       "      <td>2332</td>\n",
       "      <td>NaN</td>\n",
       "      <td>Buildable plan: The Ryder, Liberty Park, Hernd...</td>\n",
       "      <td>3167</td>\n",
       "      <td>Townhouse</td>\n",
       "      <td>Built in 2021</td>\n",
       "      <td>NaN</td>\n",
       "      <td>NaN</td>\n",
       "      <td>NaN</td>\n",
       "    </tr>\n",
       "    <tr>\n",
       "      <th>7</th>\n",
       "      <td>1641069999-143</td>\n",
       "      <td>https://www.zillow.com/homes/Falls-Church,-VA_rb/</td>\n",
       "      <td>NaN</td>\n",
       "      <td>NaN</td>\n",
       "      <td>NaN</td>\n",
       "      <td>4</td>\n",
       "      <td>5</td>\n",
       "      <td>5500</td>\n",
       "      <td>NaN</td>\n",
       "      <td>Buildable plan: Blue Diamond - Future Construc...</td>\n",
       "      <td>4485</td>\n",
       "      <td>Singlefamily</td>\n",
       "      <td>Built in 2022</td>\n",
       "      <td>NaN</td>\n",
       "      <td>NaN</td>\n",
       "      <td>https://www.zillow.com/community/by-botero-hom...</td>\n",
       "    </tr>\n",
       "    <tr>\n",
       "      <th>0</th>\n",
       "      <td>1641068098-108</td>\n",
       "      <td>https://www.zillow.com/homes/Fairfax,-VA_rb/</td>\n",
       "      <td>NaN</td>\n",
       "      <td>https://www.zillow.com/community/park-at-fair-...</td>\n",
       "      <td>NaN</td>\n",
       "      <td>3</td>\n",
       "      <td>3</td>\n",
       "      <td>2345</td>\n",
       "      <td>NaN</td>\n",
       "      <td>Buildable plan: The Julianne, Park at Fair Oak...</td>\n",
       "      <td>2965</td>\n",
       "      <td>Townhouse</td>\n",
       "      <td>Built in 2022</td>\n",
       "      <td>$281 price/sqft</td>\n",
       "      <td>NaN</td>\n",
       "      <td>NaN</td>\n",
       "    </tr>\n",
       "    <tr>\n",
       "      <th>2</th>\n",
       "      <td>1641067997-101</td>\n",
       "      <td>https://www.zillow.com/homes/Fairfax,-VA_rb/</td>\n",
       "      <td>NaN</td>\n",
       "      <td>https://www.zillow.com/community/towns-at-pend...</td>\n",
       "      <td>NaN</td>\n",
       "      <td>3</td>\n",
       "      <td>4</td>\n",
       "      <td>2818</td>\n",
       "      <td>NaN</td>\n",
       "      <td>Buildable plan: McDaniel I, The Towns at Pende...</td>\n",
       "      <td>4200</td>\n",
       "      <td>Townhouse</td>\n",
       "      <td>Built in 2022</td>\n",
       "      <td>$332 price/sqft</td>\n",
       "      <td>NaN</td>\n",
       "      <td>NaN</td>\n",
       "    </tr>\n",
       "    <tr>\n",
       "      <th>1</th>\n",
       "      <td>1641071651-170</td>\n",
       "      <td>https://www.zillow.com/homes/Arlington,-VA_rb/</td>\n",
       "      <td>NaN</td>\n",
       "      <td>https://www.zillow.com/homedetails/2244-23rd-S...</td>\n",
       "      <td>NaN</td>\n",
       "      <td>3</td>\n",
       "      <td>5</td>\n",
       "      <td>2300</td>\n",
       "      <td>918500.0</td>\n",
       "      <td>2244 23rd St S, Arlington, VA 22202</td>\n",
       "      <td>4288</td>\n",
       "      <td>Townhouse</td>\n",
       "      <td>Energy star qualified equipment, natural gas</td>\n",
       "      <td>$407 price/sqft</td>\n",
       "      <td>NaN</td>\n",
       "      <td>NaN</td>\n",
       "    </tr>\n",
       "    <tr>\n",
       "      <th>2</th>\n",
       "      <td>1641071551-165</td>\n",
       "      <td>https://www.zillow.com/homes/Arlington,-VA_rb/</td>\n",
       "      <td>NaN</td>\n",
       "      <td>https://www.zillow.com/homedetails/2232-23rd-S...</td>\n",
       "      <td>NaN</td>\n",
       "      <td>3</td>\n",
       "      <td>5</td>\n",
       "      <td>2300</td>\n",
       "      <td>928400.0</td>\n",
       "      <td>2232 23rd St S, Arlington, VA 22202</td>\n",
       "      <td>4333</td>\n",
       "      <td>Townhouse</td>\n",
       "      <td>Energy star qualified equipment, natural gas</td>\n",
       "      <td>$411 price/sqft</td>\n",
       "      <td>NaN</td>\n",
       "      <td>NaN</td>\n",
       "    </tr>\n",
       "    <tr>\n",
       "      <th>3</th>\n",
       "      <td>1641071613-168</td>\n",
       "      <td>https://www.zillow.com/homes/Arlington,-VA_rb/</td>\n",
       "      <td>NaN</td>\n",
       "      <td>https://www.zillow.com/homedetails/1420-S-Gleb...</td>\n",
       "      <td>NaN</td>\n",
       "      <td>3</td>\n",
       "      <td>4</td>\n",
       "      <td>2382</td>\n",
       "      <td>895000.0</td>\n",
       "      <td>1420 S Glebe Rd, Arlington, VA 22204</td>\n",
       "      <td>3942</td>\n",
       "      <td>Single family residence</td>\n",
       "      <td>Built in 2006</td>\n",
       "      <td>$376 price/sqft</td>\n",
       "      <td>NaN</td>\n",
       "      <td>NaN</td>\n",
       "    </tr>\n",
       "    <tr>\n",
       "      <th>5</th>\n",
       "      <td>1641071670-171</td>\n",
       "      <td>https://www.zillow.com/homes/Arlington,-VA_rb/</td>\n",
       "      <td>NaN</td>\n",
       "      <td>https://www.zillow.com/homedetails/2620-N-Syca...</td>\n",
       "      <td>NaN</td>\n",
       "      <td>4</td>\n",
       "      <td>4</td>\n",
       "      <td>3442</td>\n",
       "      <td>1700600.0</td>\n",
       "      <td>2620 N Sycamore St, Arlington, VA 22207</td>\n",
       "      <td>7535</td>\n",
       "      <td>Single family residence</td>\n",
       "      <td>Energy star qualified equipment, 90% forced ai...</td>\n",
       "      <td>NaN</td>\n",
       "      <td>NaN</td>\n",
       "      <td>NaN</td>\n",
       "    </tr>\n",
       "    <tr>\n",
       "      <th>8</th>\n",
       "      <td>1641071629-169</td>\n",
       "      <td>https://www.zillow.com/homes/Arlington,-VA_rb/</td>\n",
       "      <td>NaN</td>\n",
       "      <td>https://www.zillow.com/homedetails/2252-23rd-S...</td>\n",
       "      <td>NaN</td>\n",
       "      <td>3</td>\n",
       "      <td>5</td>\n",
       "      <td>2300</td>\n",
       "      <td>929600.0</td>\n",
       "      <td>2252 23rd St S, Arlington, VA 22202</td>\n",
       "      <td>4325</td>\n",
       "      <td>Townhouse</td>\n",
       "      <td>Energy star qualified equipment, natural gas</td>\n",
       "      <td>$411 price/sqft</td>\n",
       "      <td>NaN</td>\n",
       "      <td>NaN</td>\n",
       "    </tr>\n",
       "    <tr>\n",
       "      <th>4</th>\n",
       "      <td>1641078704-173</td>\n",
       "      <td>https://www.zillow.com/homes/McLean,-VA_rb/</td>\n",
       "      <td>NaN</td>\n",
       "      <td>https://www.zillow.com/community/pci-22101/209...</td>\n",
       "      <td>NaN</td>\n",
       "      <td>5</td>\n",
       "      <td>4</td>\n",
       "      <td>3100</td>\n",
       "      <td>NaN</td>\n",
       "      <td>Buildable plan: 1830 Hileman, PCI - 22101, McL...</td>\n",
       "      <td>7575</td>\n",
       "      <td>Singlefamily</td>\n",
       "      <td>Built in 2022</td>\n",
       "      <td>$544 price/sqft</td>\n",
       "      <td>NaN</td>\n",
       "      <td>NaN</td>\n",
       "    </tr>\n",
       "  </tbody>\n",
       "</table>\n",
       "</div>"
      ],
      "text/plain": [
       "  web-scraper-order                              web-scraper-start-url  \\\n",
       "0     1640747444-69       https://www.zillow.com/homes/Ashburn,-VA_rb/   \n",
       "2     1640747413-66       https://www.zillow.com/homes/Ashburn,-VA_rb/   \n",
       "5     1640747472-71       https://www.zillow.com/homes/Ashburn,-VA_rb/   \n",
       "6     1640747431-68       https://www.zillow.com/homes/Ashburn,-VA_rb/   \n",
       "2     1640747588-76  https://www.zillow.com/herndon-va/3-_beds/2.0-...   \n",
       "8     1640747676-82  https://www.zillow.com/herndon-va/3-_beds/2.0-...   \n",
       "7    1641069999-143  https://www.zillow.com/homes/Falls-Church,-VA_rb/   \n",
       "0    1641068098-108       https://www.zillow.com/homes/Fairfax,-VA_rb/   \n",
       "2    1641067997-101       https://www.zillow.com/homes/Fairfax,-VA_rb/   \n",
       "1    1641071651-170     https://www.zillow.com/homes/Arlington,-VA_rb/   \n",
       "2    1641071551-165     https://www.zillow.com/homes/Arlington,-VA_rb/   \n",
       "3    1641071613-168     https://www.zillow.com/homes/Arlington,-VA_rb/   \n",
       "5    1641071670-171     https://www.zillow.com/homes/Arlington,-VA_rb/   \n",
       "8    1641071629-169     https://www.zillow.com/homes/Arlington,-VA_rb/   \n",
       "4    1641078704-173        https://www.zillow.com/homes/McLean,-VA_rb/   \n",
       "\n",
       "   listing_link                                  listing_link-href  Price  \\\n",
       "0           NaN  https://www.zillow.com/community/downtown-bram...    NaN   \n",
       "2           NaN  https://www.zillow.com/community/downtown-bram...    NaN   \n",
       "5           NaN  https://www.zillow.com/community/demott-silver...    NaN   \n",
       "6           NaN  https://www.zillow.com/community/regency-at-be...    NaN   \n",
       "2           NaN  https://www.zillow.com/community/foster-s-glen...    NaN   \n",
       "8           NaN  https://www.zillow.com/community/liberty-park/...    NaN   \n",
       "7           NaN                                                NaN    NaN   \n",
       "0           NaN  https://www.zillow.com/community/park-at-fair-...    NaN   \n",
       "2           NaN  https://www.zillow.com/community/towns-at-pend...    NaN   \n",
       "1           NaN  https://www.zillow.com/homedetails/2244-23rd-S...    NaN   \n",
       "2           NaN  https://www.zillow.com/homedetails/2232-23rd-S...    NaN   \n",
       "3           NaN  https://www.zillow.com/homedetails/1420-S-Gleb...    NaN   \n",
       "5           NaN  https://www.zillow.com/homedetails/2620-N-Syca...    NaN   \n",
       "8           NaN  https://www.zillow.com/homedetails/2252-23rd-S...    NaN   \n",
       "4           NaN  https://www.zillow.com/community/pci-22101/209...    NaN   \n",
       "\n",
       "   No_bd  No_ba  Sqft  Zestimate  \\\n",
       "0      3      2  2500        NaN   \n",
       "2      3      2  2726        NaN   \n",
       "5      3      3  2708   777900.0   \n",
       "6      3      3  2953        NaN   \n",
       "2      4      4  2022        NaN   \n",
       "8      3      3  2332        NaN   \n",
       "7      4      5  5500        NaN   \n",
       "0      3      3  2345        NaN   \n",
       "2      3      4  2818        NaN   \n",
       "1      3      5  2300   918500.0   \n",
       "2      3      5  2300   928400.0   \n",
       "3      3      4  2382   895000.0   \n",
       "5      4      4  3442  1700600.0   \n",
       "8      3      5  2300   929600.0   \n",
       "4      5      4  3100        NaN   \n",
       "\n",
       "                                             Address  Est_pmt  \\\n",
       "0  Buildable plan: Hudson, Downtown Brambleton, A...     3489   \n",
       "2  Buildable plan: Manhattan, Downtown Brambleton...     3612   \n",
       "5  Buildable plan: Mayfair, Demott & Silver, Ashb...     3682   \n",
       "6  Buildable plan: Dylan, Regency at Belmont, Ash...     3280   \n",
       "2  Buildable plan: Strauss, Foster's Glen, Herndo...     3301   \n",
       "8  Buildable plan: The Ryder, Liberty Park, Hernd...     3167   \n",
       "7  Buildable plan: Blue Diamond - Future Construc...     4485   \n",
       "0  Buildable plan: The Julianne, Park at Fair Oak...     2965   \n",
       "2  Buildable plan: McDaniel I, The Towns at Pende...     4200   \n",
       "1                2244 23rd St S, Arlington, VA 22202     4288   \n",
       "2                2232 23rd St S, Arlington, VA 22202     4333   \n",
       "3               1420 S Glebe Rd, Arlington, VA 22204     3942   \n",
       "5            2620 N Sycamore St, Arlington, VA 22207     7535   \n",
       "8                2252 23rd St S, Arlington, VA 22202     4325   \n",
       "4  Buildable plan: 1830 Hileman, PCI - 22101, McL...     7575   \n",
       "\n",
       "                 Townhouse                                         Year_built  \\\n",
       "0                Townhouse                                      Built in 2021   \n",
       "2                Townhouse                                      Built in 2021   \n",
       "5                Townhouse                                      Built in 2021   \n",
       "6                Townhouse                                      Built in 2021   \n",
       "2                Townhouse                                      Built in 2021   \n",
       "8                Townhouse                                      Built in 2021   \n",
       "7             Singlefamily                                      Built in 2022   \n",
       "0                Townhouse                                      Built in 2022   \n",
       "2                Townhouse                                      Built in 2022   \n",
       "1                Townhouse       Energy star qualified equipment, natural gas   \n",
       "2                Townhouse       Energy star qualified equipment, natural gas   \n",
       "3  Single family residence                                      Built in 2006   \n",
       "5  Single family residence  Energy star qualified equipment, 90% forced ai...   \n",
       "8                Townhouse       Energy star qualified equipment, natural gas   \n",
       "4             Singlefamily                                      Built in 2022   \n",
       "\n",
       "        Price_sqft  linking_list  \\\n",
       "0  $286 price/sqft           NaN   \n",
       "2  $273 price/sqft           NaN   \n",
       "5  $287 price/sqft           NaN   \n",
       "6              NaN           NaN   \n",
       "2              NaN           NaN   \n",
       "8              NaN           NaN   \n",
       "7              NaN           NaN   \n",
       "0  $281 price/sqft           NaN   \n",
       "2  $332 price/sqft           NaN   \n",
       "1  $407 price/sqft           NaN   \n",
       "2  $411 price/sqft           NaN   \n",
       "3  $376 price/sqft           NaN   \n",
       "5              NaN           NaN   \n",
       "8  $411 price/sqft           NaN   \n",
       "4  $544 price/sqft           NaN   \n",
       "\n",
       "                                   linking_list-href  \n",
       "0                                                NaN  \n",
       "2                                                NaN  \n",
       "5                                                NaN  \n",
       "6                                                NaN  \n",
       "2                                                NaN  \n",
       "8                                                NaN  \n",
       "7  https://www.zillow.com/community/by-botero-hom...  \n",
       "0                                                NaN  \n",
       "2                                                NaN  \n",
       "1                                                NaN  \n",
       "2                                                NaN  \n",
       "3                                                NaN  \n",
       "5                                                NaN  \n",
       "8                                                NaN  \n",
       "4                                                NaN  "
      ]
     },
     "execution_count": 7,
     "metadata": {},
     "output_type": "execute_result"
    }
   ],
   "source": [
    "merged_housing_data[merged_housing_data['Price'].isna()]\n",
    "# merged_housing_data['Address'][merged_housing_data['web-scraper-order']=='1641069999-143'].to_clipboard()"
   ]
  },
  {
   "cell_type": "code",
   "execution_count": 8,
   "id": "6a6c24c5",
   "metadata": {},
   "outputs": [],
   "source": [
    "merged_housing_data.loc[merged_housing_data['web-scraper-order'] == '1640747431-68', \"Price\"] = 717995\n",
    "merged_housing_data.loc[merged_housing_data['web-scraper-order'] == '1640747588-76', \"Price\"] = 739990\n",
    "merged_housing_data.loc[merged_housing_data['web-scraper-order'] == '1640747676-82', \"Price\"] = 709990\n",
    "merged_housing_data.loc[merged_housing_data['web-scraper-order'] == '1641071670-171', \"Price\"] = 1714900\n",
    "merged_housing_data.loc[merged_housing_data['web-scraper-order'] == '1641069999-143', \"Price\"] = 998500\n",
    "merged_housing_data.loc[merged_housing_data['web-scraper-order'] == '1641078704-173', \"Price\"] = 1687324\n",
    "merged_housing_data.loc[merged_housing_data['web-scraper-order'] == '1641071651-170', \"Price\"] = 715900\n",
    "merged_housing_data.loc[merged_housing_data['web-scraper-order'] == '1640747413-66', \"Price\"] = 742900\n",
    "merged_housing_data.loc[merged_housing_data['web-scraper-order'] == '1640747472-71', \"Price\"] = 777865\n",
    "merged_housing_data.loc[merged_housing_data['web-scraper-order'] == '1641068098-108', \"Price\"] = 659990\n",
    "merged_housing_data.loc[merged_housing_data['web-scraper-order'] == '1641067997-101', \"Price\"] = 934990\n",
    "merged_housing_data.loc[merged_housing_data['web-scraper-order'] == '1641071651-170', \"Price\"] = 936125\n",
    "merged_housing_data.loc[merged_housing_data['web-scraper-order'] == '1641071551-165', \"Price\"] = 946175\n",
    "merged_housing_data.loc[merged_housing_data['web-scraper-order'] == '1641071613-168', \"Price\"] = 895000\n",
    "merged_housing_data.loc[merged_housing_data['web-scraper-order'] == '1641071629-169', \"Price\"] = 944335\n",
    "merged_housing_data.loc[merged_housing_data['web-scraper-order'] == '1640747444-69', \"Price\"] = 715900"
   ]
  },
  {
   "cell_type": "code",
   "execution_count": 9,
   "id": "4222f41a",
   "metadata": {
    "scrolled": true
   },
   "outputs": [
    {
     "data": {
      "text/html": [
       "<div>\n",
       "<style scoped>\n",
       "    .dataframe tbody tr th:only-of-type {\n",
       "        vertical-align: middle;\n",
       "    }\n",
       "\n",
       "    .dataframe tbody tr th {\n",
       "        vertical-align: top;\n",
       "    }\n",
       "\n",
       "    .dataframe thead th {\n",
       "        text-align: right;\n",
       "    }\n",
       "</style>\n",
       "<table border=\"1\" class=\"dataframe\">\n",
       "  <thead>\n",
       "    <tr style=\"text-align: right;\">\n",
       "      <th></th>\n",
       "      <th>web-scraper-order</th>\n",
       "      <th>web-scraper-start-url</th>\n",
       "      <th>listing_link</th>\n",
       "      <th>listing_link-href</th>\n",
       "      <th>Price</th>\n",
       "      <th>No_bd</th>\n",
       "      <th>No_ba</th>\n",
       "      <th>Sqft</th>\n",
       "      <th>Zestimate</th>\n",
       "      <th>Address</th>\n",
       "      <th>Est_pmt</th>\n",
       "      <th>Townhouse</th>\n",
       "      <th>Year_built</th>\n",
       "      <th>Price_sqft</th>\n",
       "      <th>linking_list</th>\n",
       "      <th>linking_list-href</th>\n",
       "    </tr>\n",
       "  </thead>\n",
       "  <tbody>\n",
       "  </tbody>\n",
       "</table>\n",
       "</div>"
      ],
      "text/plain": [
       "Empty DataFrame\n",
       "Columns: [web-scraper-order, web-scraper-start-url, listing_link, listing_link-href, Price, No_bd, No_ba, Sqft, Zestimate, Address, Est_pmt, Townhouse, Year_built, Price_sqft, linking_list, linking_list-href]\n",
       "Index: []"
      ]
     },
     "execution_count": 9,
     "metadata": {},
     "output_type": "execute_result"
    }
   ],
   "source": [
    "merged_housing_data[merged_housing_data['Price'].isna()]"
   ]
  },
  {
   "cell_type": "code",
   "execution_count": 10,
   "id": "47458ac4",
   "metadata": {},
   "outputs": [
    {
     "name": "stderr",
     "output_type": "stream",
     "text": [
      "<ipython-input-10-72fffd217cc0>:8: FutureWarning: The default value of regex will change from True to False in a future version. In addition, single character regular expressions will*not* be treated as literal strings when regex=True.\n",
      "  merged_housing_data['Price_sqft'] = merged_housing_data['Price_sqft'].str.replace(\"$\", \"\")\n"
     ]
    }
   ],
   "source": [
    "# merged_housing_data = merged_housing_data.drop(columns='Price_sqft2')\n",
    "replacement = {\n",
    "    \"$\": \"\",\n",
    "    \" price/sqft\": \"\"\n",
    "}\n",
    "\n",
    "merged_housing_data['Price_sqft'] = merged_housing_data['Price_sqft'].replace(replacement,regex=True)\n",
    "merged_housing_data['Price_sqft'] = merged_housing_data['Price_sqft'].str.replace(\"$\", \"\")\n",
    "\n",
    "# merged_housing_data['Price_sqft2'] = np.where(merged_housing_data['Price'].notna(), (merged_housing_data['Price']/merged_housing_data['Sqft']), merged_housing_data['Price_sqft'].replace(replacement,regex=True))\n",
    " "
   ]
  },
  {
   "cell_type": "code",
   "execution_count": 11,
   "id": "0b7ed5e7",
   "metadata": {},
   "outputs": [],
   "source": [
    "merged_housing_data['Price_sqft2'] = np.where(merged_housing_data['Price'].notna(), (merged_housing_data['Price']/merged_housing_data['Sqft']), merged_housing_data['Price_sqft'])\n",
    "merged_housing_data['Price_sqft2'] = np.where(merged_housing_data['Price_sqft']=='No data', (merged_housing_data['Price']/merged_housing_data['Sqft']), merged_housing_data['Price_sqft'])\n",
    "\n",
    "merged_housing_data['Price_sqft2'] = np.where(merged_housing_data['Price_sqft2'].isna(), (merged_housing_data['Price']/merged_housing_data['Sqft']), merged_housing_data['Price_sqft2'])"
   ]
  },
  {
   "cell_type": "code",
   "execution_count": 12,
   "id": "246eea26",
   "metadata": {},
   "outputs": [
    {
     "data": {
      "text/html": [
       "<div>\n",
       "<style scoped>\n",
       "    .dataframe tbody tr th:only-of-type {\n",
       "        vertical-align: middle;\n",
       "    }\n",
       "\n",
       "    .dataframe tbody tr th {\n",
       "        vertical-align: top;\n",
       "    }\n",
       "\n",
       "    .dataframe thead th {\n",
       "        text-align: right;\n",
       "    }\n",
       "</style>\n",
       "<table border=\"1\" class=\"dataframe\">\n",
       "  <thead>\n",
       "    <tr style=\"text-align: right;\">\n",
       "      <th></th>\n",
       "      <th>web-scraper-order</th>\n",
       "      <th>web-scraper-start-url</th>\n",
       "      <th>listing_link</th>\n",
       "      <th>listing_link-href</th>\n",
       "      <th>Price</th>\n",
       "      <th>No_bd</th>\n",
       "      <th>No_ba</th>\n",
       "      <th>Sqft</th>\n",
       "      <th>Zestimate</th>\n",
       "      <th>Address</th>\n",
       "      <th>Est_pmt</th>\n",
       "      <th>Townhouse</th>\n",
       "      <th>Year_built</th>\n",
       "      <th>Price_sqft</th>\n",
       "      <th>linking_list</th>\n",
       "      <th>linking_list-href</th>\n",
       "      <th>Price_sqft2</th>\n",
       "    </tr>\n",
       "  </thead>\n",
       "  <tbody>\n",
       "  </tbody>\n",
       "</table>\n",
       "</div>"
      ],
      "text/plain": [
       "Empty DataFrame\n",
       "Columns: [web-scraper-order, web-scraper-start-url, listing_link, listing_link-href, Price, No_bd, No_ba, Sqft, Zestimate, Address, Est_pmt, Townhouse, Year_built, Price_sqft, linking_list, linking_list-href, Price_sqft2]\n",
       "Index: []"
      ]
     },
     "execution_count": 12,
     "metadata": {},
     "output_type": "execute_result"
    }
   ],
   "source": [
    "merged_housing_data[merged_housing_data['Price_sqft2'].isna()]"
   ]
  },
  {
   "cell_type": "code",
   "execution_count": 13,
   "id": "30ba8e00",
   "metadata": {},
   "outputs": [],
   "source": [
    "merged_housing_data['Price_sqft2'] = merged_housing_data['Price_sqft2'].apply(pd.to_numeric).round(1)\n",
    "# merged_housing_data[merged_housing_data['Price_sqft2']=='1,742 sqft']"
   ]
  },
  {
   "cell_type": "code",
   "execution_count": 14,
   "id": "907cd35d",
   "metadata": {},
   "outputs": [],
   "source": [
    "# merged_housing_data[~merged_housing_data['Year_built'].str.contains('Built in')]\n",
    "merged_housing_data.loc[~merged_housing_data['Year_built'].str.contains('Built in'), 'Year_built'] = 'Built in 2022'"
   ]
  },
  {
   "cell_type": "code",
   "execution_count": 15,
   "id": "bb5b165d",
   "metadata": {},
   "outputs": [],
   "source": [
    "def split_year(date):\n",
    "    x = re.search('\\d{4}', date)\n",
    "    if x:\n",
    "        return(x.group())\n",
    "    \n",
    "merged_housing_data['Year'] = merged_housing_data['Year_built'].apply(split_year)"
   ]
  },
  {
   "cell_type": "code",
   "execution_count": 16,
   "id": "d9c75a00",
   "metadata": {},
   "outputs": [],
   "source": [
    "merged_housing_data['Year'] = merged_housing_data['Year'].apply(pd.to_numeric)"
   ]
  },
  {
   "cell_type": "code",
   "execution_count": 17,
   "id": "e753b6a6",
   "metadata": {},
   "outputs": [],
   "source": [
    "merged_housing_data['Year'] = merged_housing_data['Year'].fillna(0)\n",
    "merged_housing_data['Year'] = merged_housing_data.Year.astype(int)"
   ]
  },
  {
   "cell_type": "code",
   "execution_count": 18,
   "id": "c5fd5f6d",
   "metadata": {},
   "outputs": [],
   "source": [
    "merged_housing_data['Year'] = np.where(merged_housing_data['Year']==0, np.NaN, merged_housing_data['Year'])"
   ]
  },
  {
   "cell_type": "code",
   "execution_count": 19,
   "id": "9cfb609e",
   "metadata": {},
   "outputs": [],
   "source": [
    "merged_housing_data['Age'] = 2022 - merged_housing_data['Year']"
   ]
  },
  {
   "cell_type": "code",
   "execution_count": 20,
   "id": "13e50126",
   "metadata": {},
   "outputs": [
    {
     "data": {
      "text/html": [
       "<div>\n",
       "<style scoped>\n",
       "    .dataframe tbody tr th:only-of-type {\n",
       "        vertical-align: middle;\n",
       "    }\n",
       "\n",
       "    .dataframe tbody tr th {\n",
       "        vertical-align: top;\n",
       "    }\n",
       "\n",
       "    .dataframe thead th {\n",
       "        text-align: right;\n",
       "    }\n",
       "</style>\n",
       "<table border=\"1\" class=\"dataframe\">\n",
       "  <thead>\n",
       "    <tr style=\"text-align: right;\">\n",
       "      <th></th>\n",
       "      <th>web-scraper-order</th>\n",
       "      <th>web-scraper-start-url</th>\n",
       "      <th>listing_link</th>\n",
       "      <th>listing_link-href</th>\n",
       "      <th>Price</th>\n",
       "      <th>No_bd</th>\n",
       "      <th>No_ba</th>\n",
       "      <th>Sqft</th>\n",
       "      <th>Zestimate</th>\n",
       "      <th>Address</th>\n",
       "      <th>Est_pmt</th>\n",
       "      <th>Townhouse</th>\n",
       "      <th>Year_built</th>\n",
       "      <th>Price_sqft</th>\n",
       "      <th>linking_list</th>\n",
       "      <th>linking_list-href</th>\n",
       "      <th>Price_sqft2</th>\n",
       "      <th>Year</th>\n",
       "      <th>Age</th>\n",
       "    </tr>\n",
       "  </thead>\n",
       "  <tbody>\n",
       "    <tr>\n",
       "      <th>0</th>\n",
       "      <td>1640747444-69</td>\n",
       "      <td>https://www.zillow.com/homes/Ashburn,-VA_rb/</td>\n",
       "      <td>NaN</td>\n",
       "      <td>https://www.zillow.com/community/downtown-bram...</td>\n",
       "      <td>715900.0</td>\n",
       "      <td>3</td>\n",
       "      <td>2</td>\n",
       "      <td>2500</td>\n",
       "      <td>NaN</td>\n",
       "      <td>Buildable plan: Hudson, Downtown Brambleton, A...</td>\n",
       "      <td>3489</td>\n",
       "      <td>Townhouse</td>\n",
       "      <td>Built in 2021</td>\n",
       "      <td>286</td>\n",
       "      <td>NaN</td>\n",
       "      <td>NaN</td>\n",
       "      <td>286.0</td>\n",
       "      <td>2021.0</td>\n",
       "      <td>1.0</td>\n",
       "    </tr>\n",
       "    <tr>\n",
       "      <th>1</th>\n",
       "      <td>1640747422-67</td>\n",
       "      <td>https://www.zillow.com/homes/Ashburn,-VA_rb/</td>\n",
       "      <td>NaN</td>\n",
       "      <td>https://www.zillow.com/homedetails/20695-Glenm...</td>\n",
       "      <td>811650.0</td>\n",
       "      <td>3</td>\n",
       "      <td>4</td>\n",
       "      <td>2385</td>\n",
       "      <td>810900.0</td>\n",
       "      <td>20695 Glenmont Ter, Ashburn, VA 20147</td>\n",
       "      <td>3923</td>\n",
       "      <td>Townhouse</td>\n",
       "      <td>Built in 2021</td>\n",
       "      <td>340</td>\n",
       "      <td>NaN</td>\n",
       "      <td>NaN</td>\n",
       "      <td>340.0</td>\n",
       "      <td>2021.0</td>\n",
       "      <td>1.0</td>\n",
       "    </tr>\n",
       "    <tr>\n",
       "      <th>2</th>\n",
       "      <td>1640747413-66</td>\n",
       "      <td>https://www.zillow.com/homes/Ashburn,-VA_rb/</td>\n",
       "      <td>NaN</td>\n",
       "      <td>https://www.zillow.com/community/downtown-bram...</td>\n",
       "      <td>742900.0</td>\n",
       "      <td>3</td>\n",
       "      <td>2</td>\n",
       "      <td>2726</td>\n",
       "      <td>NaN</td>\n",
       "      <td>Buildable plan: Manhattan, Downtown Brambleton...</td>\n",
       "      <td>3612</td>\n",
       "      <td>Townhouse</td>\n",
       "      <td>Built in 2021</td>\n",
       "      <td>273</td>\n",
       "      <td>NaN</td>\n",
       "      <td>NaN</td>\n",
       "      <td>273.0</td>\n",
       "      <td>2021.0</td>\n",
       "      <td>1.0</td>\n",
       "    </tr>\n",
       "    <tr>\n",
       "      <th>3</th>\n",
       "      <td>1640747398-65</td>\n",
       "      <td>https://www.zillow.com/homes/Ashburn,-VA_rb/</td>\n",
       "      <td>NaN</td>\n",
       "      <td>https://www.zillow.com/homedetails/20434-Cool-...</td>\n",
       "      <td>499900.0</td>\n",
       "      <td>4</td>\n",
       "      <td>4</td>\n",
       "      <td>1910</td>\n",
       "      <td>502500.0</td>\n",
       "      <td>20434 Cool Fern Sq, Ashburn, VA 20147</td>\n",
       "      <td>2414</td>\n",
       "      <td>Townhouse</td>\n",
       "      <td>Built in 1998</td>\n",
       "      <td>262</td>\n",
       "      <td>NaN</td>\n",
       "      <td>NaN</td>\n",
       "      <td>262.0</td>\n",
       "      <td>1998.0</td>\n",
       "      <td>24.0</td>\n",
       "    </tr>\n",
       "    <tr>\n",
       "      <th>4</th>\n",
       "      <td>1640747499-73</td>\n",
       "      <td>https://www.zillow.com/homes/Ashburn,-VA_rb/</td>\n",
       "      <td>NaN</td>\n",
       "      <td>https://www.zillow.com/homedetails/23090-Dunlo...</td>\n",
       "      <td>620000.0</td>\n",
       "      <td>4</td>\n",
       "      <td>4</td>\n",
       "      <td>1854</td>\n",
       "      <td>574400.0</td>\n",
       "      <td>23090 Dunlop Heights Ter, Ashburn, VA 20148</td>\n",
       "      <td>2954</td>\n",
       "      <td>Townhouse</td>\n",
       "      <td>Built in 2010</td>\n",
       "      <td>334</td>\n",
       "      <td>NaN</td>\n",
       "      <td>NaN</td>\n",
       "      <td>334.0</td>\n",
       "      <td>2010.0</td>\n",
       "      <td>12.0</td>\n",
       "    </tr>\n",
       "    <tr>\n",
       "      <th>...</th>\n",
       "      <td>...</td>\n",
       "      <td>...</td>\n",
       "      <td>...</td>\n",
       "      <td>...</td>\n",
       "      <td>...</td>\n",
       "      <td>...</td>\n",
       "      <td>...</td>\n",
       "      <td>...</td>\n",
       "      <td>...</td>\n",
       "      <td>...</td>\n",
       "      <td>...</td>\n",
       "      <td>...</td>\n",
       "      <td>...</td>\n",
       "      <td>...</td>\n",
       "      <td>...</td>\n",
       "      <td>...</td>\n",
       "      <td>...</td>\n",
       "      <td>...</td>\n",
       "      <td>...</td>\n",
       "    </tr>\n",
       "    <tr>\n",
       "      <th>4</th>\n",
       "      <td>1641259459-196</td>\n",
       "      <td>https://www.zillow.com/homes/Springfield,-VA_rb/</td>\n",
       "      <td>NaN</td>\n",
       "      <td>https://www.zillow.com/homedetails/8527-Kentfo...</td>\n",
       "      <td>785000.0</td>\n",
       "      <td>5</td>\n",
       "      <td>3</td>\n",
       "      <td>1680</td>\n",
       "      <td>798100.0</td>\n",
       "      <td>8527 Kentford Dr, Springfield, VA 22152</td>\n",
       "      <td>3546</td>\n",
       "      <td>Single family residence</td>\n",
       "      <td>Built in 1968</td>\n",
       "      <td>NaN</td>\n",
       "      <td>NaN</td>\n",
       "      <td>NaN</td>\n",
       "      <td>467.3</td>\n",
       "      <td>1968.0</td>\n",
       "      <td>54.0</td>\n",
       "    </tr>\n",
       "    <tr>\n",
       "      <th>5</th>\n",
       "      <td>1641259508-199</td>\n",
       "      <td>https://www.zillow.com/homes/Springfield,-VA_rb/</td>\n",
       "      <td>NaN</td>\n",
       "      <td>https://www.zillow.com/homedetails/8801-Law-Ct...</td>\n",
       "      <td>875000.0</td>\n",
       "      <td>4</td>\n",
       "      <td>3</td>\n",
       "      <td>2791</td>\n",
       "      <td>875000.0</td>\n",
       "      <td>8801 Law Ct, Springfield, VA 22152</td>\n",
       "      <td>3953</td>\n",
       "      <td>Single family residence</td>\n",
       "      <td>Built in 1967</td>\n",
       "      <td>NaN</td>\n",
       "      <td>NaN</td>\n",
       "      <td>NaN</td>\n",
       "      <td>313.5</td>\n",
       "      <td>1967.0</td>\n",
       "      <td>55.0</td>\n",
       "    </tr>\n",
       "    <tr>\n",
       "      <th>6</th>\n",
       "      <td>1641259446-195</td>\n",
       "      <td>https://www.zillow.com/homes/Springfield,-VA_rb/</td>\n",
       "      <td>NaN</td>\n",
       "      <td>https://www.zillow.com/homedetails/7508-Mendot...</td>\n",
       "      <td>520000.0</td>\n",
       "      <td>4</td>\n",
       "      <td>2</td>\n",
       "      <td>1424</td>\n",
       "      <td>621300.0</td>\n",
       "      <td>7508 Mendota Pl, Springfield, VA 22150</td>\n",
       "      <td>2366</td>\n",
       "      <td>Single family residence</td>\n",
       "      <td>Built in 1955</td>\n",
       "      <td>NaN</td>\n",
       "      <td>NaN</td>\n",
       "      <td>NaN</td>\n",
       "      <td>365.2</td>\n",
       "      <td>1955.0</td>\n",
       "      <td>67.0</td>\n",
       "    </tr>\n",
       "    <tr>\n",
       "      <th>7</th>\n",
       "      <td>1641259370-191</td>\n",
       "      <td>https://www.zillow.com/homes/Springfield,-VA_rb/</td>\n",
       "      <td>NaN</td>\n",
       "      <td>https://www.zillow.com/homedetails/6600-Huntsm...</td>\n",
       "      <td>674900.0</td>\n",
       "      <td>4</td>\n",
       "      <td>3</td>\n",
       "      <td>2064</td>\n",
       "      <td>NaN</td>\n",
       "      <td>6600 Huntsman Blvd, Springfield, VA 22152</td>\n",
       "      <td>3049</td>\n",
       "      <td>Single family residence</td>\n",
       "      <td>Built in 1966</td>\n",
       "      <td>NaN</td>\n",
       "      <td>NaN</td>\n",
       "      <td>NaN</td>\n",
       "      <td>327.0</td>\n",
       "      <td>1966.0</td>\n",
       "      <td>56.0</td>\n",
       "    </tr>\n",
       "    <tr>\n",
       "      <th>8</th>\n",
       "      <td>1641259390-192</td>\n",
       "      <td>https://www.zillow.com/homes/Springfield,-VA_rb/</td>\n",
       "      <td>NaN</td>\n",
       "      <td>https://www.zillow.com/homedetails/6517-Field-...</td>\n",
       "      <td>509900.0</td>\n",
       "      <td>3</td>\n",
       "      <td>4</td>\n",
       "      <td>1300</td>\n",
       "      <td>486900.0</td>\n",
       "      <td>6517 Field Master Dr, Springfield, VA 22152</td>\n",
       "      <td>2428</td>\n",
       "      <td>Townhouse</td>\n",
       "      <td>Built in 1981</td>\n",
       "      <td>392</td>\n",
       "      <td>NaN</td>\n",
       "      <td>NaN</td>\n",
       "      <td>392.0</td>\n",
       "      <td>1981.0</td>\n",
       "      <td>41.0</td>\n",
       "    </tr>\n",
       "  </tbody>\n",
       "</table>\n",
       "<p>143 rows × 19 columns</p>\n",
       "</div>"
      ],
      "text/plain": [
       "   web-scraper-order                             web-scraper-start-url  \\\n",
       "0      1640747444-69      https://www.zillow.com/homes/Ashburn,-VA_rb/   \n",
       "1      1640747422-67      https://www.zillow.com/homes/Ashburn,-VA_rb/   \n",
       "2      1640747413-66      https://www.zillow.com/homes/Ashburn,-VA_rb/   \n",
       "3      1640747398-65      https://www.zillow.com/homes/Ashburn,-VA_rb/   \n",
       "4      1640747499-73      https://www.zillow.com/homes/Ashburn,-VA_rb/   \n",
       "..               ...                                               ...   \n",
       "4     1641259459-196  https://www.zillow.com/homes/Springfield,-VA_rb/   \n",
       "5     1641259508-199  https://www.zillow.com/homes/Springfield,-VA_rb/   \n",
       "6     1641259446-195  https://www.zillow.com/homes/Springfield,-VA_rb/   \n",
       "7     1641259370-191  https://www.zillow.com/homes/Springfield,-VA_rb/   \n",
       "8     1641259390-192  https://www.zillow.com/homes/Springfield,-VA_rb/   \n",
       "\n",
       "    listing_link                                  listing_link-href     Price  \\\n",
       "0            NaN  https://www.zillow.com/community/downtown-bram...  715900.0   \n",
       "1            NaN  https://www.zillow.com/homedetails/20695-Glenm...  811650.0   \n",
       "2            NaN  https://www.zillow.com/community/downtown-bram...  742900.0   \n",
       "3            NaN  https://www.zillow.com/homedetails/20434-Cool-...  499900.0   \n",
       "4            NaN  https://www.zillow.com/homedetails/23090-Dunlo...  620000.0   \n",
       "..           ...                                                ...       ...   \n",
       "4            NaN  https://www.zillow.com/homedetails/8527-Kentfo...  785000.0   \n",
       "5            NaN  https://www.zillow.com/homedetails/8801-Law-Ct...  875000.0   \n",
       "6            NaN  https://www.zillow.com/homedetails/7508-Mendot...  520000.0   \n",
       "7            NaN  https://www.zillow.com/homedetails/6600-Huntsm...  674900.0   \n",
       "8            NaN  https://www.zillow.com/homedetails/6517-Field-...  509900.0   \n",
       "\n",
       "    No_bd  No_ba  Sqft  Zestimate  \\\n",
       "0       3      2  2500        NaN   \n",
       "1       3      4  2385   810900.0   \n",
       "2       3      2  2726        NaN   \n",
       "3       4      4  1910   502500.0   \n",
       "4       4      4  1854   574400.0   \n",
       "..    ...    ...   ...        ...   \n",
       "4       5      3  1680   798100.0   \n",
       "5       4      3  2791   875000.0   \n",
       "6       4      2  1424   621300.0   \n",
       "7       4      3  2064        NaN   \n",
       "8       3      4  1300   486900.0   \n",
       "\n",
       "                                              Address  Est_pmt  \\\n",
       "0   Buildable plan: Hudson, Downtown Brambleton, A...     3489   \n",
       "1               20695 Glenmont Ter, Ashburn, VA 20147     3923   \n",
       "2   Buildable plan: Manhattan, Downtown Brambleton...     3612   \n",
       "3               20434 Cool Fern Sq, Ashburn, VA 20147     2414   \n",
       "4         23090 Dunlop Heights Ter, Ashburn, VA 20148     2954   \n",
       "..                                                ...      ...   \n",
       "4             8527 Kentford Dr, Springfield, VA 22152     3546   \n",
       "5                  8801 Law Ct, Springfield, VA 22152     3953   \n",
       "6              7508 Mendota Pl, Springfield, VA 22150     2366   \n",
       "7           6600 Huntsman Blvd, Springfield, VA 22152     3049   \n",
       "8         6517 Field Master Dr, Springfield, VA 22152     2428   \n",
       "\n",
       "                  Townhouse     Year_built Price_sqft  linking_list  \\\n",
       "0                 Townhouse  Built in 2021        286           NaN   \n",
       "1                 Townhouse  Built in 2021        340           NaN   \n",
       "2                 Townhouse  Built in 2021        273           NaN   \n",
       "3                 Townhouse  Built in 1998        262           NaN   \n",
       "4                 Townhouse  Built in 2010        334           NaN   \n",
       "..                      ...            ...        ...           ...   \n",
       "4   Single family residence  Built in 1968        NaN           NaN   \n",
       "5   Single family residence  Built in 1967        NaN           NaN   \n",
       "6   Single family residence  Built in 1955        NaN           NaN   \n",
       "7   Single family residence  Built in 1966        NaN           NaN   \n",
       "8                 Townhouse  Built in 1981        392           NaN   \n",
       "\n",
       "   linking_list-href  Price_sqft2    Year   Age  \n",
       "0                NaN        286.0  2021.0   1.0  \n",
       "1                NaN        340.0  2021.0   1.0  \n",
       "2                NaN        273.0  2021.0   1.0  \n",
       "3                NaN        262.0  1998.0  24.0  \n",
       "4                NaN        334.0  2010.0  12.0  \n",
       "..               ...          ...     ...   ...  \n",
       "4                NaN        467.3  1968.0  54.0  \n",
       "5                NaN        313.5  1967.0  55.0  \n",
       "6                NaN        365.2  1955.0  67.0  \n",
       "7                NaN        327.0  1966.0  56.0  \n",
       "8                NaN        392.0  1981.0  41.0  \n",
       "\n",
       "[143 rows x 19 columns]"
      ]
     },
     "execution_count": 20,
     "metadata": {},
     "output_type": "execute_result"
    }
   ],
   "source": [
    "merged_housing_data"
   ]
  },
  {
   "cell_type": "code",
   "execution_count": 21,
   "id": "7d385de6",
   "metadata": {},
   "outputs": [],
   "source": [
    "merged_housing_data = merged_housing_data.astype({'Est_pmt':'float'})\n",
    "merged_housing_data = merged_housing_data.astype({'Sqft':'float'})\n",
    "merged_housing_data = merged_housing_data.astype({'Address':'string'})\n",
    "merged_housing_data = merged_housing_data.astype({'Townhouse':'string'})\n",
    "merged_housing_data = merged_housing_data.astype({'Year_built':'string'})\n",
    "merged_housing_data = merged_housing_data.astype({'Price_sqft':'string'})"
   ]
  },
  {
   "cell_type": "code",
   "execution_count": 22,
   "id": "a2157650",
   "metadata": {},
   "outputs": [
    {
     "data": {
      "text/plain": [
       "web-scraper-order         object\n",
       "web-scraper-start-url     object\n",
       "listing_link             float64\n",
       "listing_link-href         object\n",
       "Price                    float64\n",
       "No_bd                      int64\n",
       "No_ba                      int64\n",
       "Sqft                     float64\n",
       "Zestimate                float64\n",
       "Address                   string\n",
       "Est_pmt                  float64\n",
       "Townhouse                 string\n",
       "Year_built                string\n",
       "Price_sqft                string\n",
       "linking_list             float64\n",
       "linking_list-href         object\n",
       "Price_sqft2              float64\n",
       "Year                     float64\n",
       "Age                      float64\n",
       "dtype: object"
      ]
     },
     "execution_count": 22,
     "metadata": {},
     "output_type": "execute_result"
    }
   ],
   "source": [
    "merged_housing_data.dtypes"
   ]
  },
  {
   "cell_type": "code",
   "execution_count": 23,
   "id": "d505e55a",
   "metadata": {},
   "outputs": [],
   "source": [
    "def split_city(address):\n",
    "    City = re.search('(.*), VA', address)\n",
    "    if City:\n",
    "        return(City.group(1))\n",
    "\n",
    "merged_housing_data['City'] = merged_housing_data['Address'].apply(split_city)\n",
    "merged_housing_data = merged_housing_data.astype({'City':'string'})"
   ]
  },
  {
   "cell_type": "code",
   "execution_count": 24,
   "id": "d722b4d2",
   "metadata": {},
   "outputs": [],
   "source": [
    "# merged_housing_data['City2'] = merged_housing_data['City'].apply(split_city2)\n",
    "merged_housing_data[['Build', 'Street', 'City2']] = merged_housing_data['City'].str.split(',',expand=True)\n",
    "\n",
    "merged_housing_data.loc[merged_housing_data['City2'].isna(), 'City3'] = 'na'"
   ]
  },
  {
   "cell_type": "code",
   "execution_count": 25,
   "id": "1b9d0330",
   "metadata": {},
   "outputs": [],
   "source": [
    "merged_housing_data['City3'] = np.where(merged_housing_data['City2'].isna(), merged_housing_data['City3'], merged_housing_data['City2'])\n",
    "merged_housing_data['City3'] = np.where(merged_housing_data['City2'].notna(), merged_housing_data['City3'], merged_housing_data['Street'])\n",
    "\n",
    "merged_housing_data = merged_housing_data.astype({'City3':'string'})"
   ]
  },
  {
   "cell_type": "code",
   "execution_count": 26,
   "id": "1e55facb",
   "metadata": {},
   "outputs": [],
   "source": [
    "merged_housing_data = merged_housing_data.drop(columns=['listing_link', 'City', 'Build', 'Street', 'City2', 'linking_list', 'linking_list-href', 'Price_sqft'])"
   ]
  },
  {
   "cell_type": "code",
   "execution_count": 27,
   "id": "cf24346f",
   "metadata": {},
   "outputs": [],
   "source": [
    "merged_housing_data = merged_housing_data.rename(columns = {'Price_sqft2':'Price_sqft'})\n",
    "merged_housing_data = merged_housing_data.rename(columns = {'City3':'City'})"
   ]
  },
  {
   "cell_type": "code",
   "execution_count": 28,
   "id": "49315cfd",
   "metadata": {},
   "outputs": [],
   "source": [
    "merged_housing_data['City'] = merged_housing_data['City'].str.replace('Mc Lean', 'McLean')"
   ]
  },
  {
   "cell_type": "code",
   "execution_count": 29,
   "id": "aa9cb651",
   "metadata": {},
   "outputs": [],
   "source": [
    "merged_housing_data['Price'] = np.where(merged_housing_data['Price'].isna() & merged_housing_data['Price_sqft'].notna(), (merged_housing_data['Sqft']*merged_housing_data['Price_sqft']), merged_housing_data['Price'])\n",
    "merged_housing_data['Zestimate'] = np.where(merged_housing_data['Zestimate'].isna() & merged_housing_data['Price'].notna(), merged_housing_data['Price'], merged_housing_data['Zestimate'])"
   ]
  },
  {
   "cell_type": "code",
   "execution_count": 30,
   "id": "c015873f",
   "metadata": {},
   "outputs": [],
   "source": [
    "merged_housing_data['Townhouse'] = merged_housing_data['Townhouse'].str.replace('Singlefamily', 'Single family residence')"
   ]
  },
  {
   "cell_type": "code",
   "execution_count": 31,
   "id": "18224d98",
   "metadata": {},
   "outputs": [
    {
     "data": {
      "text/html": [
       "<div>\n",
       "<style scoped>\n",
       "    .dataframe tbody tr th:only-of-type {\n",
       "        vertical-align: middle;\n",
       "    }\n",
       "\n",
       "    .dataframe tbody tr th {\n",
       "        vertical-align: top;\n",
       "    }\n",
       "\n",
       "    .dataframe thead th {\n",
       "        text-align: right;\n",
       "    }\n",
       "</style>\n",
       "<table border=\"1\" class=\"dataframe\">\n",
       "  <thead>\n",
       "    <tr style=\"text-align: right;\">\n",
       "      <th></th>\n",
       "      <th>web-scraper-order</th>\n",
       "      <th>web-scraper-start-url</th>\n",
       "      <th>listing_link-href</th>\n",
       "      <th>Price</th>\n",
       "      <th>No_bd</th>\n",
       "      <th>No_ba</th>\n",
       "      <th>Sqft</th>\n",
       "      <th>Zestimate</th>\n",
       "      <th>Address</th>\n",
       "      <th>Est_pmt</th>\n",
       "      <th>Townhouse</th>\n",
       "      <th>Year_built</th>\n",
       "      <th>Price_sqft</th>\n",
       "      <th>Year</th>\n",
       "      <th>Age</th>\n",
       "      <th>City</th>\n",
       "    </tr>\n",
       "  </thead>\n",
       "  <tbody>\n",
       "    <tr>\n",
       "      <th>0</th>\n",
       "      <td>1640747444-69</td>\n",
       "      <td>https://www.zillow.com/homes/Ashburn,-VA_rb/</td>\n",
       "      <td>https://www.zillow.com/community/downtown-bram...</td>\n",
       "      <td>715900.0</td>\n",
       "      <td>3</td>\n",
       "      <td>2</td>\n",
       "      <td>2500.0</td>\n",
       "      <td>715900.0</td>\n",
       "      <td>Buildable plan: Hudson, Downtown Brambleton, A...</td>\n",
       "      <td>3489.0</td>\n",
       "      <td>Townhouse</td>\n",
       "      <td>Built in 2021</td>\n",
       "      <td>286.0</td>\n",
       "      <td>2021.0</td>\n",
       "      <td>1.0</td>\n",
       "      <td>Ashburn</td>\n",
       "    </tr>\n",
       "    <tr>\n",
       "      <th>1</th>\n",
       "      <td>1640747422-67</td>\n",
       "      <td>https://www.zillow.com/homes/Ashburn,-VA_rb/</td>\n",
       "      <td>https://www.zillow.com/homedetails/20695-Glenm...</td>\n",
       "      <td>811650.0</td>\n",
       "      <td>3</td>\n",
       "      <td>4</td>\n",
       "      <td>2385.0</td>\n",
       "      <td>810900.0</td>\n",
       "      <td>20695 Glenmont Ter, Ashburn, VA 20147</td>\n",
       "      <td>3923.0</td>\n",
       "      <td>Townhouse</td>\n",
       "      <td>Built in 2021</td>\n",
       "      <td>340.0</td>\n",
       "      <td>2021.0</td>\n",
       "      <td>1.0</td>\n",
       "      <td>Ashburn</td>\n",
       "    </tr>\n",
       "    <tr>\n",
       "      <th>2</th>\n",
       "      <td>1640747413-66</td>\n",
       "      <td>https://www.zillow.com/homes/Ashburn,-VA_rb/</td>\n",
       "      <td>https://www.zillow.com/community/downtown-bram...</td>\n",
       "      <td>742900.0</td>\n",
       "      <td>3</td>\n",
       "      <td>2</td>\n",
       "      <td>2726.0</td>\n",
       "      <td>742900.0</td>\n",
       "      <td>Buildable plan: Manhattan, Downtown Brambleton...</td>\n",
       "      <td>3612.0</td>\n",
       "      <td>Townhouse</td>\n",
       "      <td>Built in 2021</td>\n",
       "      <td>273.0</td>\n",
       "      <td>2021.0</td>\n",
       "      <td>1.0</td>\n",
       "      <td>Ashburn</td>\n",
       "    </tr>\n",
       "    <tr>\n",
       "      <th>3</th>\n",
       "      <td>1640747398-65</td>\n",
       "      <td>https://www.zillow.com/homes/Ashburn,-VA_rb/</td>\n",
       "      <td>https://www.zillow.com/homedetails/20434-Cool-...</td>\n",
       "      <td>499900.0</td>\n",
       "      <td>4</td>\n",
       "      <td>4</td>\n",
       "      <td>1910.0</td>\n",
       "      <td>502500.0</td>\n",
       "      <td>20434 Cool Fern Sq, Ashburn, VA 20147</td>\n",
       "      <td>2414.0</td>\n",
       "      <td>Townhouse</td>\n",
       "      <td>Built in 1998</td>\n",
       "      <td>262.0</td>\n",
       "      <td>1998.0</td>\n",
       "      <td>24.0</td>\n",
       "      <td>Ashburn</td>\n",
       "    </tr>\n",
       "    <tr>\n",
       "      <th>4</th>\n",
       "      <td>1640747499-73</td>\n",
       "      <td>https://www.zillow.com/homes/Ashburn,-VA_rb/</td>\n",
       "      <td>https://www.zillow.com/homedetails/23090-Dunlo...</td>\n",
       "      <td>620000.0</td>\n",
       "      <td>4</td>\n",
       "      <td>4</td>\n",
       "      <td>1854.0</td>\n",
       "      <td>574400.0</td>\n",
       "      <td>23090 Dunlop Heights Ter, Ashburn, VA 20148</td>\n",
       "      <td>2954.0</td>\n",
       "      <td>Townhouse</td>\n",
       "      <td>Built in 2010</td>\n",
       "      <td>334.0</td>\n",
       "      <td>2010.0</td>\n",
       "      <td>12.0</td>\n",
       "      <td>Ashburn</td>\n",
       "    </tr>\n",
       "  </tbody>\n",
       "</table>\n",
       "</div>"
      ],
      "text/plain": [
       "  web-scraper-order                         web-scraper-start-url  \\\n",
       "0     1640747444-69  https://www.zillow.com/homes/Ashburn,-VA_rb/   \n",
       "1     1640747422-67  https://www.zillow.com/homes/Ashburn,-VA_rb/   \n",
       "2     1640747413-66  https://www.zillow.com/homes/Ashburn,-VA_rb/   \n",
       "3     1640747398-65  https://www.zillow.com/homes/Ashburn,-VA_rb/   \n",
       "4     1640747499-73  https://www.zillow.com/homes/Ashburn,-VA_rb/   \n",
       "\n",
       "                                   listing_link-href     Price  No_bd  No_ba  \\\n",
       "0  https://www.zillow.com/community/downtown-bram...  715900.0      3      2   \n",
       "1  https://www.zillow.com/homedetails/20695-Glenm...  811650.0      3      4   \n",
       "2  https://www.zillow.com/community/downtown-bram...  742900.0      3      2   \n",
       "3  https://www.zillow.com/homedetails/20434-Cool-...  499900.0      4      4   \n",
       "4  https://www.zillow.com/homedetails/23090-Dunlo...  620000.0      4      4   \n",
       "\n",
       "     Sqft  Zestimate                                            Address  \\\n",
       "0  2500.0   715900.0  Buildable plan: Hudson, Downtown Brambleton, A...   \n",
       "1  2385.0   810900.0              20695 Glenmont Ter, Ashburn, VA 20147   \n",
       "2  2726.0   742900.0  Buildable plan: Manhattan, Downtown Brambleton...   \n",
       "3  1910.0   502500.0              20434 Cool Fern Sq, Ashburn, VA 20147   \n",
       "4  1854.0   574400.0        23090 Dunlop Heights Ter, Ashburn, VA 20148   \n",
       "\n",
       "   Est_pmt  Townhouse     Year_built  Price_sqft    Year   Age      City  \n",
       "0   3489.0  Townhouse  Built in 2021       286.0  2021.0   1.0   Ashburn  \n",
       "1   3923.0  Townhouse  Built in 2021       340.0  2021.0   1.0   Ashburn  \n",
       "2   3612.0  Townhouse  Built in 2021       273.0  2021.0   1.0   Ashburn  \n",
       "3   2414.0  Townhouse  Built in 1998       262.0  1998.0  24.0   Ashburn  \n",
       "4   2954.0  Townhouse  Built in 2010       334.0  2010.0  12.0   Ashburn  "
      ]
     },
     "execution_count": 31,
     "metadata": {},
     "output_type": "execute_result"
    }
   ],
   "source": [
    "merged_housing_data.head()"
   ]
  },
  {
   "cell_type": "code",
   "execution_count": 32,
   "id": "7485e5f0",
   "metadata": {},
   "outputs": [],
   "source": [
    "merged_housing_data.to_excel(\"merged_housing_data.xlsx\")"
   ]
  },
  {
   "cell_type": "markdown",
   "id": "8c793f2a",
   "metadata": {},
   "source": [
    "## Creating Final Dataset"
   ]
  },
  {
   "cell_type": "code",
   "execution_count": 33,
   "id": "b7159e3e",
   "metadata": {},
   "outputs": [],
   "source": [
    "city_stats_dict = [\n",
    "    {'City': 'Ashburn', 'City_population': 56377, 'City_med_income': 122687, 'City_med_age': 34.4},\n",
    "    {'City': 'Herndon', 'City_population': 24573, 'City_med_income': 100399, 'City_med_age': 34.2},\n",
    "    {'City': 'Alexandria', 'City_population': 158726, 'City_med_income': 87319, 'City_med_age': 35.8},\n",
    "    {'City': 'Annandale', 'City_population': 44887, 'City_med_income': 78780, 'City_med_age': 37.6},\n",
    "    {'City': 'Arlington', 'City_population': 240798, 'City_med_income': 105120, 'City_med_age': 33.8},\n",
    "    {'City': 'Centreville', 'City_population': 75268, 'City_med_income': 103696, 'City_med_age': 34},\n",
    "    {'City': 'Chantilly', 'City_population': 25015, 'City_med_income': 118991, 'City_med_age': 35.3},\n",
    "    {'City': 'Fairfax', 'City_population': 23429, 'City_med_income': 100584, 'City_med_age': 39},\n",
    "    {'City': 'Falls Church', 'City_population': 14631, 'City_med_income': 120500, 'City_med_age': 36.7},\n",
    "    {'City': 'Great Falls', 'City_population': 15723, 'City_med_income': 229200, 'City_med_age': 45.4},\n",
    "    {'City': 'Manassas', 'City_population': 40869, 'City_med_income': 71215, 'City_med_age': 32.6},\n",
    "    {'City': 'Reston', 'City_population': 60871, 'City_med_income': 110321, 'City_med_age': 39},\n",
    "    {'City': 'Sterling', 'City_population': 34324, 'City_med_income': 86968, 'City_med_age': 33},\n",
    "    {'City': 'Vienna', 'City_population': 16518, 'City_med_income': 133776, 'City_med_age': 40.9},\n",
    "    {'City': 'McLean', 'City_population': 47712, 'City_med_income': 188639, 'City_med_age': 46},\n",
    "    {'City': 'Springfield', 'City_population': 30819, 'City_med_income': 89516, 'City_med_age': 37.8},\n",
    "]\n",
    "\n",
    "city_stats = pd.DataFrame(city_stats_dict)"
   ]
  },
  {
   "cell_type": "code",
   "execution_count": 34,
   "id": "3e15344b",
   "metadata": {},
   "outputs": [
    {
     "data": {
      "text/plain": [
       "City                object\n",
       "City_population      int64\n",
       "City_med_income      int64\n",
       "City_med_age       float64\n",
       "dtype: object"
      ]
     },
     "execution_count": 34,
     "metadata": {},
     "output_type": "execute_result"
    }
   ],
   "source": [
    "# city_stats = city_stats.astype({'City':'string'})\n",
    "city_stats.dtypes"
   ]
  },
  {
   "cell_type": "code",
   "execution_count": 35,
   "id": "a5845fe2",
   "metadata": {},
   "outputs": [
    {
     "data": {
      "text/html": [
       "<div>\n",
       "<style scoped>\n",
       "    .dataframe tbody tr th:only-of-type {\n",
       "        vertical-align: middle;\n",
       "    }\n",
       "\n",
       "    .dataframe tbody tr th {\n",
       "        vertical-align: top;\n",
       "    }\n",
       "\n",
       "    .dataframe thead th {\n",
       "        text-align: right;\n",
       "    }\n",
       "</style>\n",
       "<table border=\"1\" class=\"dataframe\">\n",
       "  <thead>\n",
       "    <tr style=\"text-align: right;\">\n",
       "      <th></th>\n",
       "      <th>web-scraper-order</th>\n",
       "      <th>web-scraper-start-url</th>\n",
       "      <th>listing_link-href</th>\n",
       "      <th>Price</th>\n",
       "      <th>No_bd</th>\n",
       "      <th>No_ba</th>\n",
       "      <th>Sqft</th>\n",
       "      <th>Zestimate</th>\n",
       "      <th>Address</th>\n",
       "      <th>Est_pmt</th>\n",
       "      <th>Townhouse</th>\n",
       "      <th>Year_built</th>\n",
       "      <th>Price_sqft</th>\n",
       "      <th>Year</th>\n",
       "      <th>Age</th>\n",
       "      <th>City</th>\n",
       "      <th>City_population</th>\n",
       "      <th>City_med_income</th>\n",
       "      <th>City_med_age</th>\n",
       "    </tr>\n",
       "  </thead>\n",
       "  <tbody>\n",
       "    <tr>\n",
       "      <th>0</th>\n",
       "      <td>1640747444-69</td>\n",
       "      <td>https://www.zillow.com/homes/Ashburn,-VA_rb/</td>\n",
       "      <td>https://www.zillow.com/community/downtown-bram...</td>\n",
       "      <td>715900.0</td>\n",
       "      <td>3</td>\n",
       "      <td>2</td>\n",
       "      <td>2500.0</td>\n",
       "      <td>715900.0</td>\n",
       "      <td>Buildable plan: Hudson, Downtown Brambleton, A...</td>\n",
       "      <td>3489.0</td>\n",
       "      <td>Townhouse</td>\n",
       "      <td>Built in 2021</td>\n",
       "      <td>286.0</td>\n",
       "      <td>2021.0</td>\n",
       "      <td>1.0</td>\n",
       "      <td>Ashburn</td>\n",
       "      <td>56377</td>\n",
       "      <td>122687</td>\n",
       "      <td>34.4</td>\n",
       "    </tr>\n",
       "    <tr>\n",
       "      <th>1</th>\n",
       "      <td>1640747422-67</td>\n",
       "      <td>https://www.zillow.com/homes/Ashburn,-VA_rb/</td>\n",
       "      <td>https://www.zillow.com/homedetails/20695-Glenm...</td>\n",
       "      <td>811650.0</td>\n",
       "      <td>3</td>\n",
       "      <td>4</td>\n",
       "      <td>2385.0</td>\n",
       "      <td>810900.0</td>\n",
       "      <td>20695 Glenmont Ter, Ashburn, VA 20147</td>\n",
       "      <td>3923.0</td>\n",
       "      <td>Townhouse</td>\n",
       "      <td>Built in 2021</td>\n",
       "      <td>340.0</td>\n",
       "      <td>2021.0</td>\n",
       "      <td>1.0</td>\n",
       "      <td>Ashburn</td>\n",
       "      <td>56377</td>\n",
       "      <td>122687</td>\n",
       "      <td>34.4</td>\n",
       "    </tr>\n",
       "    <tr>\n",
       "      <th>2</th>\n",
       "      <td>1640747413-66</td>\n",
       "      <td>https://www.zillow.com/homes/Ashburn,-VA_rb/</td>\n",
       "      <td>https://www.zillow.com/community/downtown-bram...</td>\n",
       "      <td>742900.0</td>\n",
       "      <td>3</td>\n",
       "      <td>2</td>\n",
       "      <td>2726.0</td>\n",
       "      <td>742900.0</td>\n",
       "      <td>Buildable plan: Manhattan, Downtown Brambleton...</td>\n",
       "      <td>3612.0</td>\n",
       "      <td>Townhouse</td>\n",
       "      <td>Built in 2021</td>\n",
       "      <td>273.0</td>\n",
       "      <td>2021.0</td>\n",
       "      <td>1.0</td>\n",
       "      <td>Ashburn</td>\n",
       "      <td>56377</td>\n",
       "      <td>122687</td>\n",
       "      <td>34.4</td>\n",
       "    </tr>\n",
       "    <tr>\n",
       "      <th>3</th>\n",
       "      <td>1640747398-65</td>\n",
       "      <td>https://www.zillow.com/homes/Ashburn,-VA_rb/</td>\n",
       "      <td>https://www.zillow.com/homedetails/20434-Cool-...</td>\n",
       "      <td>499900.0</td>\n",
       "      <td>4</td>\n",
       "      <td>4</td>\n",
       "      <td>1910.0</td>\n",
       "      <td>502500.0</td>\n",
       "      <td>20434 Cool Fern Sq, Ashburn, VA 20147</td>\n",
       "      <td>2414.0</td>\n",
       "      <td>Townhouse</td>\n",
       "      <td>Built in 1998</td>\n",
       "      <td>262.0</td>\n",
       "      <td>1998.0</td>\n",
       "      <td>24.0</td>\n",
       "      <td>Ashburn</td>\n",
       "      <td>56377</td>\n",
       "      <td>122687</td>\n",
       "      <td>34.4</td>\n",
       "    </tr>\n",
       "    <tr>\n",
       "      <th>4</th>\n",
       "      <td>1640747499-73</td>\n",
       "      <td>https://www.zillow.com/homes/Ashburn,-VA_rb/</td>\n",
       "      <td>https://www.zillow.com/homedetails/23090-Dunlo...</td>\n",
       "      <td>620000.0</td>\n",
       "      <td>4</td>\n",
       "      <td>4</td>\n",
       "      <td>1854.0</td>\n",
       "      <td>574400.0</td>\n",
       "      <td>23090 Dunlop Heights Ter, Ashburn, VA 20148</td>\n",
       "      <td>2954.0</td>\n",
       "      <td>Townhouse</td>\n",
       "      <td>Built in 2010</td>\n",
       "      <td>334.0</td>\n",
       "      <td>2010.0</td>\n",
       "      <td>12.0</td>\n",
       "      <td>Ashburn</td>\n",
       "      <td>56377</td>\n",
       "      <td>122687</td>\n",
       "      <td>34.4</td>\n",
       "    </tr>\n",
       "    <tr>\n",
       "      <th>...</th>\n",
       "      <td>...</td>\n",
       "      <td>...</td>\n",
       "      <td>...</td>\n",
       "      <td>...</td>\n",
       "      <td>...</td>\n",
       "      <td>...</td>\n",
       "      <td>...</td>\n",
       "      <td>...</td>\n",
       "      <td>...</td>\n",
       "      <td>...</td>\n",
       "      <td>...</td>\n",
       "      <td>...</td>\n",
       "      <td>...</td>\n",
       "      <td>...</td>\n",
       "      <td>...</td>\n",
       "      <td>...</td>\n",
       "      <td>...</td>\n",
       "      <td>...</td>\n",
       "      <td>...</td>\n",
       "    </tr>\n",
       "    <tr>\n",
       "      <th>138</th>\n",
       "      <td>1641259459-196</td>\n",
       "      <td>https://www.zillow.com/homes/Springfield,-VA_rb/</td>\n",
       "      <td>https://www.zillow.com/homedetails/8527-Kentfo...</td>\n",
       "      <td>785000.0</td>\n",
       "      <td>5</td>\n",
       "      <td>3</td>\n",
       "      <td>1680.0</td>\n",
       "      <td>798100.0</td>\n",
       "      <td>8527 Kentford Dr, Springfield, VA 22152</td>\n",
       "      <td>3546.0</td>\n",
       "      <td>Single family residence</td>\n",
       "      <td>Built in 1968</td>\n",
       "      <td>467.3</td>\n",
       "      <td>1968.0</td>\n",
       "      <td>54.0</td>\n",
       "      <td>Springfield</td>\n",
       "      <td>30819</td>\n",
       "      <td>89516</td>\n",
       "      <td>37.8</td>\n",
       "    </tr>\n",
       "    <tr>\n",
       "      <th>139</th>\n",
       "      <td>1641259508-199</td>\n",
       "      <td>https://www.zillow.com/homes/Springfield,-VA_rb/</td>\n",
       "      <td>https://www.zillow.com/homedetails/8801-Law-Ct...</td>\n",
       "      <td>875000.0</td>\n",
       "      <td>4</td>\n",
       "      <td>3</td>\n",
       "      <td>2791.0</td>\n",
       "      <td>875000.0</td>\n",
       "      <td>8801 Law Ct, Springfield, VA 22152</td>\n",
       "      <td>3953.0</td>\n",
       "      <td>Single family residence</td>\n",
       "      <td>Built in 1967</td>\n",
       "      <td>313.5</td>\n",
       "      <td>1967.0</td>\n",
       "      <td>55.0</td>\n",
       "      <td>Springfield</td>\n",
       "      <td>30819</td>\n",
       "      <td>89516</td>\n",
       "      <td>37.8</td>\n",
       "    </tr>\n",
       "    <tr>\n",
       "      <th>140</th>\n",
       "      <td>1641259446-195</td>\n",
       "      <td>https://www.zillow.com/homes/Springfield,-VA_rb/</td>\n",
       "      <td>https://www.zillow.com/homedetails/7508-Mendot...</td>\n",
       "      <td>520000.0</td>\n",
       "      <td>4</td>\n",
       "      <td>2</td>\n",
       "      <td>1424.0</td>\n",
       "      <td>621300.0</td>\n",
       "      <td>7508 Mendota Pl, Springfield, VA 22150</td>\n",
       "      <td>2366.0</td>\n",
       "      <td>Single family residence</td>\n",
       "      <td>Built in 1955</td>\n",
       "      <td>365.2</td>\n",
       "      <td>1955.0</td>\n",
       "      <td>67.0</td>\n",
       "      <td>Springfield</td>\n",
       "      <td>30819</td>\n",
       "      <td>89516</td>\n",
       "      <td>37.8</td>\n",
       "    </tr>\n",
       "    <tr>\n",
       "      <th>141</th>\n",
       "      <td>1641259370-191</td>\n",
       "      <td>https://www.zillow.com/homes/Springfield,-VA_rb/</td>\n",
       "      <td>https://www.zillow.com/homedetails/6600-Huntsm...</td>\n",
       "      <td>674900.0</td>\n",
       "      <td>4</td>\n",
       "      <td>3</td>\n",
       "      <td>2064.0</td>\n",
       "      <td>674900.0</td>\n",
       "      <td>6600 Huntsman Blvd, Springfield, VA 22152</td>\n",
       "      <td>3049.0</td>\n",
       "      <td>Single family residence</td>\n",
       "      <td>Built in 1966</td>\n",
       "      <td>327.0</td>\n",
       "      <td>1966.0</td>\n",
       "      <td>56.0</td>\n",
       "      <td>Springfield</td>\n",
       "      <td>30819</td>\n",
       "      <td>89516</td>\n",
       "      <td>37.8</td>\n",
       "    </tr>\n",
       "    <tr>\n",
       "      <th>142</th>\n",
       "      <td>1641259390-192</td>\n",
       "      <td>https://www.zillow.com/homes/Springfield,-VA_rb/</td>\n",
       "      <td>https://www.zillow.com/homedetails/6517-Field-...</td>\n",
       "      <td>509900.0</td>\n",
       "      <td>3</td>\n",
       "      <td>4</td>\n",
       "      <td>1300.0</td>\n",
       "      <td>486900.0</td>\n",
       "      <td>6517 Field Master Dr, Springfield, VA 22152</td>\n",
       "      <td>2428.0</td>\n",
       "      <td>Townhouse</td>\n",
       "      <td>Built in 1981</td>\n",
       "      <td>392.0</td>\n",
       "      <td>1981.0</td>\n",
       "      <td>41.0</td>\n",
       "      <td>Springfield</td>\n",
       "      <td>30819</td>\n",
       "      <td>89516</td>\n",
       "      <td>37.8</td>\n",
       "    </tr>\n",
       "  </tbody>\n",
       "</table>\n",
       "<p>143 rows × 19 columns</p>\n",
       "</div>"
      ],
      "text/plain": [
       "    web-scraper-order                             web-scraper-start-url  \\\n",
       "0       1640747444-69      https://www.zillow.com/homes/Ashburn,-VA_rb/   \n",
       "1       1640747422-67      https://www.zillow.com/homes/Ashburn,-VA_rb/   \n",
       "2       1640747413-66      https://www.zillow.com/homes/Ashburn,-VA_rb/   \n",
       "3       1640747398-65      https://www.zillow.com/homes/Ashburn,-VA_rb/   \n",
       "4       1640747499-73      https://www.zillow.com/homes/Ashburn,-VA_rb/   \n",
       "..                ...                                               ...   \n",
       "138    1641259459-196  https://www.zillow.com/homes/Springfield,-VA_rb/   \n",
       "139    1641259508-199  https://www.zillow.com/homes/Springfield,-VA_rb/   \n",
       "140    1641259446-195  https://www.zillow.com/homes/Springfield,-VA_rb/   \n",
       "141    1641259370-191  https://www.zillow.com/homes/Springfield,-VA_rb/   \n",
       "142    1641259390-192  https://www.zillow.com/homes/Springfield,-VA_rb/   \n",
       "\n",
       "                                     listing_link-href     Price  No_bd  \\\n",
       "0    https://www.zillow.com/community/downtown-bram...  715900.0      3   \n",
       "1    https://www.zillow.com/homedetails/20695-Glenm...  811650.0      3   \n",
       "2    https://www.zillow.com/community/downtown-bram...  742900.0      3   \n",
       "3    https://www.zillow.com/homedetails/20434-Cool-...  499900.0      4   \n",
       "4    https://www.zillow.com/homedetails/23090-Dunlo...  620000.0      4   \n",
       "..                                                 ...       ...    ...   \n",
       "138  https://www.zillow.com/homedetails/8527-Kentfo...  785000.0      5   \n",
       "139  https://www.zillow.com/homedetails/8801-Law-Ct...  875000.0      4   \n",
       "140  https://www.zillow.com/homedetails/7508-Mendot...  520000.0      4   \n",
       "141  https://www.zillow.com/homedetails/6600-Huntsm...  674900.0      4   \n",
       "142  https://www.zillow.com/homedetails/6517-Field-...  509900.0      3   \n",
       "\n",
       "     No_ba    Sqft  Zestimate  \\\n",
       "0        2  2500.0   715900.0   \n",
       "1        4  2385.0   810900.0   \n",
       "2        2  2726.0   742900.0   \n",
       "3        4  1910.0   502500.0   \n",
       "4        4  1854.0   574400.0   \n",
       "..     ...     ...        ...   \n",
       "138      3  1680.0   798100.0   \n",
       "139      3  2791.0   875000.0   \n",
       "140      2  1424.0   621300.0   \n",
       "141      3  2064.0   674900.0   \n",
       "142      4  1300.0   486900.0   \n",
       "\n",
       "                                               Address  Est_pmt  \\\n",
       "0    Buildable plan: Hudson, Downtown Brambleton, A...   3489.0   \n",
       "1                20695 Glenmont Ter, Ashburn, VA 20147   3923.0   \n",
       "2    Buildable plan: Manhattan, Downtown Brambleton...   3612.0   \n",
       "3                20434 Cool Fern Sq, Ashburn, VA 20147   2414.0   \n",
       "4          23090 Dunlop Heights Ter, Ashburn, VA 20148   2954.0   \n",
       "..                                                 ...      ...   \n",
       "138            8527 Kentford Dr, Springfield, VA 22152   3546.0   \n",
       "139                 8801 Law Ct, Springfield, VA 22152   3953.0   \n",
       "140             7508 Mendota Pl, Springfield, VA 22150   2366.0   \n",
       "141          6600 Huntsman Blvd, Springfield, VA 22152   3049.0   \n",
       "142        6517 Field Master Dr, Springfield, VA 22152   2428.0   \n",
       "\n",
       "                   Townhouse     Year_built  Price_sqft    Year   Age  \\\n",
       "0                  Townhouse  Built in 2021       286.0  2021.0   1.0   \n",
       "1                  Townhouse  Built in 2021       340.0  2021.0   1.0   \n",
       "2                  Townhouse  Built in 2021       273.0  2021.0   1.0   \n",
       "3                  Townhouse  Built in 1998       262.0  1998.0  24.0   \n",
       "4                  Townhouse  Built in 2010       334.0  2010.0  12.0   \n",
       "..                       ...            ...         ...     ...   ...   \n",
       "138  Single family residence  Built in 1968       467.3  1968.0  54.0   \n",
       "139  Single family residence  Built in 1967       313.5  1967.0  55.0   \n",
       "140  Single family residence  Built in 1955       365.2  1955.0  67.0   \n",
       "141  Single family residence  Built in 1966       327.0  1966.0  56.0   \n",
       "142                Townhouse  Built in 1981       392.0  1981.0  41.0   \n",
       "\n",
       "            City  City_population  City_med_income  City_med_age  \n",
       "0        Ashburn            56377           122687          34.4  \n",
       "1        Ashburn            56377           122687          34.4  \n",
       "2        Ashburn            56377           122687          34.4  \n",
       "3        Ashburn            56377           122687          34.4  \n",
       "4        Ashburn            56377           122687          34.4  \n",
       "..           ...              ...              ...           ...  \n",
       "138  Springfield            30819            89516          37.8  \n",
       "139  Springfield            30819            89516          37.8  \n",
       "140  Springfield            30819            89516          37.8  \n",
       "141  Springfield            30819            89516          37.8  \n",
       "142  Springfield            30819            89516          37.8  \n",
       "\n",
       "[143 rows x 19 columns]"
      ]
     },
     "execution_count": 35,
     "metadata": {},
     "output_type": "execute_result"
    }
   ],
   "source": [
    "merged_housing_data['City'].dtypes == city_stats['City'].dtypes\n",
    "merged_housing_data['City'] = merged_housing_data['City'].astype(str)\n",
    "merged_housing_data['City'] = merged_housing_data['City'].str.strip()\n",
    "final_housing_data = pd.merge(merged_housing_data, city_stats, on='City', how='left')\n",
    "final_housing_data"
   ]
  },
  {
   "cell_type": "code",
   "execution_count": 36,
   "id": "57c4fea4",
   "metadata": {},
   "outputs": [],
   "source": [
    "final_housing_data.to_csv(\"final_housing_data.csv\")"
   ]
  },
  {
   "cell_type": "markdown",
   "id": "dca5ee49",
   "metadata": {},
   "source": [
    "## EDA Visualizations"
   ]
  },
  {
   "cell_type": "code",
   "execution_count": 37,
   "id": "e032f7dc",
   "metadata": {},
   "outputs": [],
   "source": [
    "# !pip install hvplot\n",
    "\n",
    "import matplotlib.pyplot as plt\n",
    "import seaborn as sns\n",
    "# import hvplot.pandas\n",
    "from scipy.stats import norm\n",
    "from sklearn.preprocessing import StandardScaler\n",
    "from scipy import stats\n",
    "from sklearn.pipeline import Pipeline\n",
    "%matplotlib inline"
   ]
  },
  {
   "cell_type": "code",
   "execution_count": 38,
   "id": "b8cb9b01",
   "metadata": {},
   "outputs": [
    {
     "data": {
      "image/png": "[encoded data removed]",
      "text/plain": [
       "<Figure size 720x432 with 1 Axes>"
      ]
     },
     "metadata": {
      "needs_background": "light"
     },
     "output_type": "display_data"
    }
   ],
   "source": [
    "fig, ax = plt.subplots(figsize = ( 10 , 6 ))\n",
    "sns.histplot(final_housing_data['Price'])\n",
    "ax.set_xlabel('Price (MM USD)')\n",
    "plt.ylabel(\"Count\")\n",
    "plt.grid()\n",
    "plt.show()"
   ]
  },
  {
   "cell_type": "code",
   "execution_count": 39,
   "id": "5ca0c7c8",
   "metadata": {},
   "outputs": [],
   "source": [
    "# final_housing_data.hvplot.hist('Price')"
   ]
  },
  {
   "cell_type": "code",
   "execution_count": 40,
   "id": "1b463465",
   "metadata": {},
   "outputs": [
    {
     "data": {
      "text/plain": [
       "count    1.430000e+02\n",
       "mean     1.043646e+06\n",
       "std      8.028568e+05\n",
       "min      5.500000e+04\n",
       "25%      6.175000e+05\n",
       "50%      7.449900e+05\n",
       "75%      9.994500e+05\n",
       "max      5.160000e+06\n",
       "Name: Price, dtype: float64"
      ]
     },
     "execution_count": 40,
     "metadata": {},
     "output_type": "execute_result"
    }
   ],
   "source": [
    "final_housing_data['Price'].describe()"
   ]
  },
  {
   "cell_type": "code",
   "execution_count": 41,
   "id": "3c9c8af9",
   "metadata": {},
   "outputs": [
    {
     "name": "stderr",
     "output_type": "stream",
     "text": [
      "C:\\ProgramData\\Anaconda3\\lib\\site-packages\\seaborn\\distributions.py:2557: FutureWarning: `distplot` is a deprecated function and will be removed in a future version. Please adapt your code to use either `displot` (a figure-level function with similar flexibility) or `histplot` (an axes-level function for histograms).\n",
      "  warnings.warn(msg, FutureWarning)\n"
     ]
    },
    {
     "data": {
      "image/png": "[encoded data removed]",
      "text/plain": [
       "<Figure size 432x288 with 1 Axes>"
      ]
     },
     "metadata": {
      "needs_background": "light"
     },
     "output_type": "display_data"
    },
    {
     "data": {
      "image/png": "[encoded data removed]",
      "text/plain": [
       "<Figure size 432x288 with 1 Axes>"
      ]
     },
     "metadata": {
      "needs_background": "light"
     },
     "output_type": "display_data"
    }
   ],
   "source": [
    "#histogram and normal probability plot\n",
    "sns.distplot(final_housing_data['Price'], fit=norm)\n",
    "fig = plt.figure()\n",
    "res = stats.probplot(final_housing_data['Price'], plot=plt)"
   ]
  },
  {
   "cell_type": "code",
   "execution_count": 42,
   "id": "c35559a2",
   "metadata": {},
   "outputs": [
    {
     "data": {
      "text/plain": [
       "<AxesSubplot:xlabel='Sqft', ylabel='Price'>"
      ]
     },
     "execution_count": 42,
     "metadata": {},
     "output_type": "execute_result"
    },
    {
     "data": {
      "image/png": "[encoded data removed]",
      "text/plain": [
       "<Figure size 720x432 with 1 Axes>"
      ]
     },
     "metadata": {
      "needs_background": "light"
     },
     "output_type": "display_data"
    }
   ],
   "source": [
    "fig, ax = plt.subplots(figsize = ( 10 , 6 ))\n",
    "sns.scatterplot(x=final_housing_data['Sqft'], y=final_housing_data['Price'])"
   ]
  },
  {
   "cell_type": "code",
   "execution_count": 43,
   "id": "9848f147",
   "metadata": {},
   "outputs": [
    {
     "data": {
      "image/png": "[encoded data removed]",
      "text/plain": [
       "<Figure size 720x432 with 1 Axes>"
      ]
     },
     "metadata": {
      "needs_background": "light"
     },
     "output_type": "display_data"
    }
   ],
   "source": [
    "fig, ax = plt.subplots(figsize = ( 10 , 6 ))\n",
    "df = final_housing_data.groupby('No_bd').median()\n",
    "sns.barplot(x=df.index, y=df['Price'])\n",
    "plt.xlabel('No_bd')\n",
    "plt.ylabel(\"Median Price (MM USD)\")\n",
    "# plt.grid()\n",
    "plt.show()"
   ]
  },
  {
   "cell_type": "code",
   "execution_count": 44,
   "id": "30ef4f27",
   "metadata": {},
   "outputs": [],
   "source": [
    "# df = final_housing_data.groupby('No_bd').median()\n",
    "# df.hvplot.bar(y='Price', height=400)"
   ]
  },
  {
   "cell_type": "code",
   "execution_count": 45,
   "id": "701a6d0b",
   "metadata": {},
   "outputs": [],
   "source": [
    "#removing outliers\n",
    "final_housing_data = final_housing_data.drop(final_housing_data[final_housing_data['web-scraper-order']=='1641067270-92'].index)\n",
    "final_housing_data = final_housing_data.drop(final_housing_data[final_housing_data['No_bd']==10].index)"
   ]
  },
  {
   "cell_type": "code",
   "execution_count": 46,
   "id": "c9132aca",
   "metadata": {},
   "outputs": [
    {
     "data": {
      "text/plain": [
       "<AxesSubplot:xlabel='Sqft', ylabel='Price'>"
      ]
     },
     "execution_count": 46,
     "metadata": {},
     "output_type": "execute_result"
    },
    {
     "data": {
      "image/png": "[encoded data removed]",
      "text/plain": [
       "<Figure size 720x432 with 1 Axes>"
      ]
     },
     "metadata": {
      "needs_background": "light"
     },
     "output_type": "display_data"
    }
   ],
   "source": [
    "fig, ax = plt.subplots(figsize = ( 10 , 6 ))\n",
    "sns.scatterplot(x=final_housing_data['Sqft'], y=final_housing_data['Price'])"
   ]
  },
  {
   "cell_type": "code",
   "execution_count": 47,
   "id": "b6fd76c1",
   "metadata": {},
   "outputs": [],
   "source": [
    "# final_housing_data.hvplot.scatter(x='Sqft', y='Price')"
   ]
  },
  {
   "cell_type": "code",
   "execution_count": 48,
   "id": "350ae1bb",
   "metadata": {
    "scrolled": true
   },
   "outputs": [
    {
     "data": {
      "text/plain": [
       "count    1.410000e+02\n",
       "mean     1.050968e+06\n",
       "std      8.042002e+05\n",
       "min      2.749000e+05\n",
       "25%      6.200000e+05\n",
       "50%      7.449900e+05\n",
       "75%      9.990000e+05\n",
       "max      5.160000e+06\n",
       "Name: Price, dtype: float64"
      ]
     },
     "execution_count": 48,
     "metadata": {},
     "output_type": "execute_result"
    }
   ],
   "source": [
    "final_housing_data['Price'].describe()"
   ]
  },
  {
   "cell_type": "code",
   "execution_count": 49,
   "id": "65578718",
   "metadata": {},
   "outputs": [
    {
     "data": {
      "image/png": "[encoded data removed]",
      "text/plain": [
       "<Figure size 720x432 with 1 Axes>"
      ]
     },
     "metadata": {
      "needs_background": "light"
     },
     "output_type": "display_data"
    }
   ],
   "source": [
    "fig, ax = plt.subplots(figsize = ( 10 , 6 ))\n",
    "df = final_housing_data.groupby('City').median()\n",
    "sns.barplot(x=df.index, y=df['Price'])\n",
    "plt.xlabel('City')\n",
    "plt.ylabel(\"Median Price (MM USD)\")\n",
    "plt.xticks(rotation=60)\n",
    "plt.grid()\n",
    "plt.show()"
   ]
  },
  {
   "cell_type": "code",
   "execution_count": 50,
   "id": "11463d8f",
   "metadata": {},
   "outputs": [],
   "source": [
    "# df = final_housing_data.groupby('City').median()\n",
    "# df.hvplot.bar(y='Price', height=400, rot=60)"
   ]
  },
  {
   "cell_type": "code",
   "execution_count": 51,
   "id": "140ac670",
   "metadata": {},
   "outputs": [
    {
     "data": {
      "image/png": "[encoded data removed]",
      "text/plain": [
       "<Figure size 720x432 with 1 Axes>"
      ]
     },
     "metadata": {
      "needs_background": "light"
     },
     "output_type": "display_data"
    }
   ],
   "source": [
    "fig, ax = plt.subplots(figsize = ( 10 , 6 ))\n",
    "df = final_housing_data.groupby('City').median()\n",
    "sns.barplot(x=df.index, y=df['Sqft'])\n",
    "plt.xlabel('City')\n",
    "plt.ylabel(\"Median Sqft\")\n",
    "plt.xticks(rotation=60)\n",
    "plt.grid()\n",
    "plt.show()"
   ]
  },
  {
   "cell_type": "code",
   "execution_count": 52,
   "id": "a7e0b15b",
   "metadata": {},
   "outputs": [
    {
     "data": {
      "image/png": "[encoded data removed]",
      "text/plain": [
       "<Figure size 720x432 with 1 Axes>"
      ]
     },
     "metadata": {
      "needs_background": "light"
     },
     "output_type": "display_data"
    }
   ],
   "source": [
    "fig, ax = plt.subplots(figsize = ( 10 , 6 ))\n",
    "df = final_housing_data.groupby('City').median()\n",
    "sns.barplot(x=df.index, y=df['Price_sqft'])\n",
    "plt.xlabel('City')\n",
    "plt.ylabel(\"Median Price/Sqft (USD)\")\n",
    "plt.xticks(rotation=60)\n",
    "plt.grid()\n",
    "plt.show()\n",
    "# Most value out of Manassas & Annandale, least value out of Arlington and McLean"
   ]
  },
  {
   "cell_type": "code",
   "execution_count": 53,
   "id": "1c202b46",
   "metadata": {},
   "outputs": [
    {
     "data": {
      "image/png": "[encoded data removed]",
      "text/plain": [
       "<Figure size 720x432 with 1 Axes>"
      ]
     },
     "metadata": {
      "needs_background": "light"
     },
     "output_type": "display_data"
    }
   ],
   "source": [
    "fig, ax = plt.subplots(figsize = ( 10 , 6 ))\n",
    "# final_housing_data['Year'] = final_housing_data.Year.astype(int)\n",
    "sns.countplot(x=final_housing_data['Year'].astype(int))\n",
    "plt.xticks(size=7, rotation=60)\n",
    "plt.grid()\n",
    "plt.show()"
   ]
  },
  {
   "cell_type": "code",
   "execution_count": 54,
   "id": "dcb84040",
   "metadata": {},
   "outputs": [
    {
     "data": {
      "image/png": "[encoded data removed]",
      "text/plain": [
       "<Figure size 1080x720 with 1 Axes>"
      ]
     },
     "metadata": {
      "needs_background": "light"
     },
     "output_type": "display_data"
    }
   ],
   "source": [
    "#remove Great Falls outlier\n",
    "df = final_housing_data.drop(final_housing_data[final_housing_data['Year']==1988].index)\n",
    "\n",
    "fig, ax = plt.subplots(figsize = ( 15 , 10 ))\n",
    "df2 = df.groupby('Year').median().reset_index()\n",
    "df2['Year'] = df2.Year.astype(int)\n",
    "sns.barplot(x=df2['Year'].astype(str), y=df2['Price'])\n",
    "plt.xlabel('Year')\n",
    "plt.ylabel(\"Median Price (MM USD)\")\n",
    "plt.xticks(size=10, rotation=60)\n",
    "plt.grid()\n",
    "plt.show()"
   ]
  },
  {
   "cell_type": "code",
   "execution_count": 55,
   "id": "bded2ceb",
   "metadata": {},
   "outputs": [],
   "source": [
    "# df = final_housing_data.groupby('Year').median()\n",
    "# df.hvplot.bar(y='Price', height=400, rot=60)"
   ]
  },
  {
   "cell_type": "code",
   "execution_count": 56,
   "id": "4dd43261",
   "metadata": {},
   "outputs": [
    {
     "data": {
      "text/plain": [
       "<AxesSubplot:xlabel='Age', ylabel='Price'>"
      ]
     },
     "execution_count": 56,
     "metadata": {},
     "output_type": "execute_result"
    },
    {
     "data": {
      "image/png": "[encoded data removed]",
      "text/plain": [
       "<Figure size 720x432 with 1 Axes>"
      ]
     },
     "metadata": {
      "needs_background": "light"
     },
     "output_type": "display_data"
    }
   ],
   "source": [
    "fig, ax = plt.subplots(figsize = ( 10 , 6 ))\n",
    "sns.scatterplot(x=final_housing_data['Age'], y=final_housing_data['Price'])"
   ]
  },
  {
   "cell_type": "code",
   "execution_count": 57,
   "id": "3dbb374b",
   "metadata": {},
   "outputs": [
    {
     "data": {
      "image/png": "[encoded data removed]",
      "text/plain": [
       "<Figure size 720x432 with 1 Axes>"
      ]
     },
     "metadata": {
      "needs_background": "light"
     },
     "output_type": "display_data"
    },
    {
     "data": {
      "text/plain": [
       "<Figure size 2520x720 with 0 Axes>"
      ]
     },
     "metadata": {},
     "output_type": "display_data"
    }
   ],
   "source": [
    "fig, ax = plt.subplots(figsize = ( 10 , 6 ))\n",
    "df = final_housing_data.groupby('City_med_age').median().reset_index()\n",
    "plt.plot(df['City_med_age'], df['Price'])\n",
    "plt.xlabel('City Median Age')\n",
    "plt.ylabel(\"Median Price (MM USD)\")\n",
    "plt.xticks(size=10)\n",
    "plt.figure(figsize=(35,10))\n",
    "plt.show()"
   ]
  },
  {
   "cell_type": "code",
   "execution_count": 58,
   "id": "69af8101",
   "metadata": {},
   "outputs": [
    {
     "data": {
      "text/plain": [
       "<AxesSubplot:xlabel='Townhouse', ylabel='count'>"
      ]
     },
     "execution_count": 58,
     "metadata": {},
     "output_type": "execute_result"
    },
    {
     "data": {
      "image/png": "[encoded data removed]",
      "text/plain": [
       "<Figure size 720x432 with 1 Axes>"
      ]
     },
     "metadata": {
      "needs_background": "light"
     },
     "output_type": "display_data"
    }
   ],
   "source": [
    "fig, ax = plt.subplots(figsize = ( 10 , 6 ))\n",
    "sns.countplot(x=final_housing_data['Townhouse'])"
   ]
  },
  {
   "cell_type": "code",
   "execution_count": 59,
   "id": "0e1720cb",
   "metadata": {},
   "outputs": [
    {
     "data": {
      "image/png": "[encoded data removed]",
      "text/plain": [
       "<Figure size 1080x576 with 1 Axes>"
      ]
     },
     "metadata": {
      "needs_background": "light"
     },
     "output_type": "display_data"
    }
   ],
   "source": [
    "fig, ax = plt.subplots(figsize = ( 15 , 8 ))\n",
    "# df = final_housing_data.groupby('Townhouse')\n",
    "sns.countplot(x='City', hue='Townhouse', data=final_housing_data)\n",
    "# plt.xlabel('City Median Age')\n",
    "# plt.ylabel(\"Median Price (MM USD)\")\n",
    "plt.xticks(rotation=60)\n",
    "plt.show()"
   ]
  },
  {
   "cell_type": "code",
   "execution_count": 60,
   "id": "c36d777a",
   "metadata": {},
   "outputs": [
    {
     "data": {
      "text/plain": [
       "<seaborn.axisgrid.PairGrid at 0x1d7eb5eea60>"
      ]
     },
     "execution_count": 60,
     "metadata": {},
     "output_type": "execute_result"
    },
    {
     "data": {
      "image/png": "[encoded data removed]",
      "text/plain": [
       "<Figure size 1440x1440 with 72 Axes>"
      ]
     },
     "metadata": {
      "needs_background": "light"
     },
     "output_type": "display_data"
    }
   ],
   "source": [
    "sns.pairplot(final_housing_data, vars=['Price', 'No_bd', 'No_ba', 'Sqft', 'Age', 'City_population', 'City_med_income', 'City_med_age'])"
   ]
  },
  {
   "cell_type": "code",
   "execution_count": 61,
   "id": "79056596",
   "metadata": {},
   "outputs": [
    {
     "data": {
      "text/plain": [
       "<AxesSubplot:>"
      ]
     },
     "execution_count": 61,
     "metadata": {},
     "output_type": "execute_result"
    },
    {
     "data": {
      "image/png": "[encoded data removed]",
      "text/plain": [
       "<Figure size 432x288 with 2 Axes>"
      ]
     },
     "metadata": {
      "needs_background": "light"
     },
     "output_type": "display_data"
    }
   ],
   "source": [
    "sns.heatmap(final_housing_data[['Price', 'No_bd', 'No_ba', 'Sqft', 'Age', 'City_population', 'City_med_income', 'City_med_age']].corr(), vmax=.8, annot=True)"
   ]
  },
  {
   "cell_type": "markdown",
   "id": "d9201688",
   "metadata": {},
   "source": [
    "### Herndon housing data"
   ]
  },
  {
   "cell_type": "code",
   "execution_count": 62,
   "id": "f520331d",
   "metadata": {},
   "outputs": [
    {
     "data": {
      "image/png": "[encoded data removed]",
      "text/plain": [
       "<Figure size 576x360 with 1 Axes>"
      ]
     },
     "metadata": {
      "needs_background": "light"
     },
     "output_type": "display_data"
    }
   ],
   "source": [
    "df = final_housing_data[final_housing_data['City']=='Herndon']\n",
    "fig, ax = plt.subplots(figsize = ( 8 , 5 ))\n",
    "sns.histplot(df['Price'])\n",
    "ax.set_xlabel('Price (USD)')\n",
    "plt.ylabel(\"Count\")\n",
    "plt.show()"
   ]
  },
  {
   "cell_type": "code",
   "execution_count": 63,
   "id": "d0fb9496",
   "metadata": {},
   "outputs": [
    {
     "data": {
      "image/png": "[encoded data removed]",
      "text/plain": [
       "<Figure size 576x360 with 1 Axes>"
      ]
     },
     "metadata": {
      "needs_background": "light"
     },
     "output_type": "display_data"
    },
    {
     "data": {
      "text/plain": [
       "<Figure size 2520x720 with 0 Axes>"
      ]
     },
     "metadata": {},
     "output_type": "display_data"
    }
   ],
   "source": [
    "df = final_housing_data[final_housing_data['City']=='Herndon']\n",
    "fig, ax = plt.subplots(figsize = ( 8 , 5 ))\n",
    "df1 = df.groupby('Year').median().reset_index()\n",
    "df1['Year'] = df1.Year.astype(int)\n",
    "sns.barplot(x=df1['Year'].astype(str), y=df1['Price'])\n",
    "plt.xlabel('Year')\n",
    "plt.ylabel(\"Median Price (MM USD)\")\n",
    "# plt.xticks(size=7, rotation=60)\n",
    "plt.figure(figsize=(35,10))\n",
    "plt.show()\n",
    "#fairly new homes in Herndon"
   ]
  },
  {
   "cell_type": "code",
   "execution_count": 64,
   "id": "18207c33",
   "metadata": {},
   "outputs": [
    {
     "data": {
      "image/png": "[encoded data removed]",
      "text/plain": [
       "<Figure size 576x360 with 1 Axes>"
      ]
     },
     "metadata": {
      "needs_background": "light"
     },
     "output_type": "display_data"
    }
   ],
   "source": [
    "df = final_housing_data[final_housing_data['City']=='Herndon']\n",
    "fig, ax = plt.subplots(figsize = ( 8 , 5 ))\n",
    "sns.histplot(df['Sqft'])\n",
    "ax.set_xlabel('Sqft')\n",
    "plt.ylabel(\"Count\")\n",
    "plt.show()"
   ]
  },
  {
   "cell_type": "code",
   "execution_count": 65,
   "id": "48db8c72",
   "metadata": {},
   "outputs": [
    {
     "data": {
      "text/plain": [
       "<AxesSubplot:xlabel='Townhouse', ylabel='count'>"
      ]
     },
     "execution_count": 65,
     "metadata": {},
     "output_type": "execute_result"
    },
    {
     "data": {
      "image/png": "[encoded data removed]",
      "text/plain": [
       "<Figure size 576x360 with 1 Axes>"
      ]
     },
     "metadata": {
      "needs_background": "light"
     },
     "output_type": "display_data"
    }
   ],
   "source": [
    "fig, ax = plt.subplots(figsize = ( 8 , 5 ))\n",
    "df = final_housing_data[final_housing_data['City']=='Herndon']\n",
    "sns.countplot(x=df['Townhouse'], data=df)"
   ]
  },
  {
   "cell_type": "code",
   "execution_count": 66,
   "id": "e33b8c4b",
   "metadata": {},
   "outputs": [],
   "source": [
    "# dealing with categorical data\n",
    "# final_housing_data = pd.get_dummies(final_housing_data)"
   ]
  },
  {
   "cell_type": "markdown",
   "id": "6b010a1d",
   "metadata": {},
   "source": [
    "## Linear Regression Models"
   ]
  },
  {
   "cell_type": "code",
   "execution_count": 67,
   "id": "ea28ffe3",
   "metadata": {},
   "outputs": [
    {
     "data": {
      "image/png": "[encoded data removed]",
      "text/plain": [
       "<Figure size 576x360 with 1 Axes>"
      ]
     },
     "metadata": {
      "needs_background": "light"
     },
     "output_type": "display_data"
    }
   ],
   "source": [
    "from sklearn.feature_selection import SelectKBest\n",
    "from sklearn.feature_selection import f_regression\n",
    "from numpy import set_printoptions\n",
    "from pandas import read_csv\n",
    "\n",
    "#feature extraction\n",
    "\n",
    "predictors = ['No_bd', 'No_ba', 'Sqft', 'Age', 'City_population', 'City_med_income', 'City_med_age']\n",
    "\n",
    "test = SelectKBest(score_func=f_regression, k='all')\n",
    "fit = test.fit(final_housing_data[predictors], final_housing_data['Price'])\n",
    "#summarize scores\n",
    "fig, ax = plt.subplots(figsize = ( 8 , 5 ))\n",
    "scores = -np.log10(test.pvalues_)\n",
    "plt.bar(range(len(predictors)), scores)\n",
    "plt.xticks(range(len(predictors)), predictors, rotation=60)\n",
    "plt.ylabel('Predictor Score')\n",
    "plt.show()\n",
    "#best features to use are Sqft, No_ba, No_bd, City_med_income"
   ]
  },
  {
   "cell_type": "code",
   "execution_count": 138,
   "id": "b2b53569",
   "metadata": {},
   "outputs": [],
   "source": [
    "import statsmodels.formula.api as smf\n",
    "import statsmodels.stats.api as sms\n",
    "import statsmodels.api as sm\n",
    "from statsmodels.stats.outliers_influence import variance_inflation_factor\n",
    "from scipy import stats\n",
    "from statsmodels.compat import lzip\n",
    "import statsmodels\n",
    "import matplotlib.pyplot as plt\n",
    "from sklearn.pipeline import make_pipeline"
   ]
  },
  {
   "cell_type": "code",
   "execution_count": 69,
   "id": "0b54e038",
   "metadata": {},
   "outputs": [],
   "source": [
    "# X = final_housing_data[['Sqft', 'No_ba', 'No_bd', 'City_med_income']]\n",
    "X = final_housing_data[['Sqft', 'No_ba', 'No_bd', 'City_med_income']]\n",
    "Y = final_housing_data['Price']"
   ]
  },
  {
   "cell_type": "code",
   "execution_count": 70,
   "id": "159303e9",
   "metadata": {},
   "outputs": [
    {
     "data": {
      "text/html": [
       "<table class=\"simpletable\">\n",
       "<caption>OLS Regression Results</caption>\n",
       "<tr>\n",
       "  <th>Dep. Variable:</th>          <td>Price</td>      <th>  R-squared:         </th> <td>   0.852</td>\n",
       "</tr>\n",
       "<tr>\n",
       "  <th>Model:</th>                   <td>OLS</td>       <th>  Adj. R-squared:    </th> <td>   0.848</td>\n",
       "</tr>\n",
       "<tr>\n",
       "  <th>Method:</th>             <td>Least Squares</td>  <th>  F-statistic:       </th> <td>   37.88</td>\n",
       "</tr>\n",
       "<tr>\n",
       "  <th>Date:</th>             <td>Sat, 15 Jan 2022</td> <th>  Prob (F-statistic):</th> <td>2.86e-21</td>\n",
       "</tr>\n",
       "<tr>\n",
       "  <th>Time:</th>                 <td>21:55:03</td>     <th>  Log-Likelihood:    </th> <td> -1982.0</td>\n",
       "</tr>\n",
       "<tr>\n",
       "  <th>No. Observations:</th>      <td>   141</td>      <th>  AIC:               </th> <td>   3974.</td>\n",
       "</tr>\n",
       "<tr>\n",
       "  <th>Df Residuals:</th>          <td>   136</td>      <th>  BIC:               </th> <td>   3989.</td>\n",
       "</tr>\n",
       "<tr>\n",
       "  <th>Df Model:</th>              <td>     4</td>      <th>                     </th>     <td> </td>   \n",
       "</tr>\n",
       "<tr>\n",
       "  <th>Covariance Type:</th>         <td>HC3</td>       <th>                     </th>     <td> </td>   \n",
       "</tr>\n",
       "</table>\n",
       "<table class=\"simpletable\">\n",
       "<tr>\n",
       "         <td></td>            <th>coef</th>     <th>std err</th>      <th>z</th>      <th>P>|z|</th>  <th>[0.025</th>    <th>0.975]</th>  \n",
       "</tr>\n",
       "<tr>\n",
       "  <th>const</th>           <td>-5.767e+05</td> <td> 1.53e+05</td> <td>   -3.757</td> <td> 0.000</td> <td>-8.78e+05</td> <td>-2.76e+05</td>\n",
       "</tr>\n",
       "<tr>\n",
       "  <th>Sqft</th>            <td>  224.9459</td> <td>   46.621</td> <td>    4.825</td> <td> 0.000</td> <td>  133.570</td> <td>  316.321</td>\n",
       "</tr>\n",
       "<tr>\n",
       "  <th>No_ba</th>           <td> 6.898e+04</td> <td>  3.6e+04</td> <td>    1.914</td> <td> 0.056</td> <td>-1651.037</td> <td>  1.4e+05</td>\n",
       "</tr>\n",
       "<tr>\n",
       "  <th>No_bd</th>           <td>  1.85e+04</td> <td> 3.79e+04</td> <td>    0.488</td> <td> 0.626</td> <td>-5.58e+04</td> <td> 9.28e+04</td>\n",
       "</tr>\n",
       "<tr>\n",
       "  <th>City_med_income</th> <td>    4.7032</td> <td>    0.884</td> <td>    5.317</td> <td> 0.000</td> <td>    2.970</td> <td>    6.437</td>\n",
       "</tr>\n",
       "</table>\n",
       "<table class=\"simpletable\">\n",
       "<tr>\n",
       "  <th>Omnibus:</th>       <td>39.799</td> <th>  Durbin-Watson:     </th> <td>   1.400</td>\n",
       "</tr>\n",
       "<tr>\n",
       "  <th>Prob(Omnibus):</th> <td> 0.000</td> <th>  Jarque-Bera (JB):  </th> <td> 107.019</td>\n",
       "</tr>\n",
       "<tr>\n",
       "  <th>Skew:</th>          <td> 1.095</td> <th>  Prob(JB):          </th> <td>5.77e-24</td>\n",
       "</tr>\n",
       "<tr>\n",
       "  <th>Kurtosis:</th>      <td> 6.663</td> <th>  Cond. No.          </th> <td>6.69e+05</td>\n",
       "</tr>\n",
       "</table><br/><br/>Notes:<br/>[1] Standard Errors are heteroscedasticity robust (HC3)<br/>[2] The condition number is large, 6.69e+05. This might indicate that there are<br/>strong multicollinearity or other numerical problems."
      ],
      "text/plain": [
       "<class 'statsmodels.iolib.summary.Summary'>\n",
       "\"\"\"\n",
       "                            OLS Regression Results                            \n",
       "==============================================================================\n",
       "Dep. Variable:                  Price   R-squared:                       0.852\n",
       "Model:                            OLS   Adj. R-squared:                  0.848\n",
       "Method:                 Least Squares   F-statistic:                     37.88\n",
       "Date:                Sat, 15 Jan 2022   Prob (F-statistic):           2.86e-21\n",
       "Time:                        21:55:03   Log-Likelihood:                -1982.0\n",
       "No. Observations:                 141   AIC:                             3974.\n",
       "Df Residuals:                     136   BIC:                             3989.\n",
       "Df Model:                           4                                         \n",
       "Covariance Type:                  HC3                                         \n",
       "===================================================================================\n",
       "                      coef    std err          z      P>|z|      [0.025      0.975]\n",
       "-----------------------------------------------------------------------------------\n",
       "const           -5.767e+05   1.53e+05     -3.757      0.000   -8.78e+05   -2.76e+05\n",
       "Sqft              224.9459     46.621      4.825      0.000     133.570     316.321\n",
       "No_ba            6.898e+04    3.6e+04      1.914      0.056   -1651.037     1.4e+05\n",
       "No_bd             1.85e+04   3.79e+04      0.488      0.626   -5.58e+04    9.28e+04\n",
       "City_med_income     4.7032      0.884      5.317      0.000       2.970       6.437\n",
       "==============================================================================\n",
       "Omnibus:                       39.799   Durbin-Watson:                   1.400\n",
       "Prob(Omnibus):                  0.000   Jarque-Bera (JB):              107.019\n",
       "Skew:                           1.095   Prob(JB):                     5.77e-24\n",
       "Kurtosis:                       6.663   Cond. No.                     6.69e+05\n",
       "==============================================================================\n",
       "\n",
       "Notes:\n",
       "[1] Standard Errors are heteroscedasticity robust (HC3)\n",
       "[2] The condition number is large, 6.69e+05. This might indicate that there are\n",
       "strong multicollinearity or other numerical problems.\n",
       "\"\"\""
      ]
     },
     "execution_count": 70,
     "metadata": {},
     "output_type": "execute_result"
    }
   ],
   "source": [
    "# model = smf.ols(\"Price ~ No_ba + Sqft + City_med_income + City_med_age\", data=final_housing_data).fit(cov_type='HC3')\n",
    "X = sm.add_constant(X)\n",
    "model = sm.OLS(Y, X)\n",
    "results = model.fit(cov_type='HC3')\n",
    "results.summary()\n",
    "# df['pred'] = model.predict()"
   ]
  },
  {
   "cell_type": "code",
   "execution_count": 71,
   "id": "55a043d7",
   "metadata": {},
   "outputs": [
    {
     "data": {
      "text/html": [
       "<div>\n",
       "<style scoped>\n",
       "    .dataframe tbody tr th:only-of-type {\n",
       "        vertical-align: middle;\n",
       "    }\n",
       "\n",
       "    .dataframe tbody tr th {\n",
       "        vertical-align: top;\n",
       "    }\n",
       "\n",
       "    .dataframe thead th {\n",
       "        text-align: right;\n",
       "    }\n",
       "</style>\n",
       "<table border=\"1\" class=\"dataframe\">\n",
       "  <thead>\n",
       "    <tr style=\"text-align: right;\">\n",
       "      <th></th>\n",
       "      <th>feature</th>\n",
       "      <th>VIF</th>\n",
       "    </tr>\n",
       "  </thead>\n",
       "  <tbody>\n",
       "    <tr>\n",
       "      <th>0</th>\n",
       "      <td>const</td>\n",
       "      <td>28.436324</td>\n",
       "    </tr>\n",
       "    <tr>\n",
       "      <th>1</th>\n",
       "      <td>Sqft</td>\n",
       "      <td>4.400638</td>\n",
       "    </tr>\n",
       "    <tr>\n",
       "      <th>2</th>\n",
       "      <td>No_ba</td>\n",
       "      <td>3.662435</td>\n",
       "    </tr>\n",
       "    <tr>\n",
       "      <th>3</th>\n",
       "      <td>No_bd</td>\n",
       "      <td>2.198477</td>\n",
       "    </tr>\n",
       "    <tr>\n",
       "      <th>4</th>\n",
       "      <td>City_med_income</td>\n",
       "      <td>1.427982</td>\n",
       "    </tr>\n",
       "  </tbody>\n",
       "</table>\n",
       "</div>"
      ],
      "text/plain": [
       "           feature        VIF\n",
       "0            const  28.436324\n",
       "1             Sqft   4.400638\n",
       "2            No_ba   3.662435\n",
       "3            No_bd   2.198477\n",
       "4  City_med_income   1.427982"
      ]
     },
     "execution_count": 71,
     "metadata": {},
     "output_type": "execute_result"
    }
   ],
   "source": [
    "# investigating VIF for multicollinearity. All VIF (except for const) <5\n",
    "# VIF of constant can be ignored because the constant is not a predictor so should not be considered\n",
    "vif_df = pd.DataFrame()\n",
    "vif_df[\"feature\"] = X.columns\n",
    "vif_df[\"VIF\"] = [variance_inflation_factor(X.values, i)\n",
    "                for i in range(len(X.columns))]\n",
    "vif_df"
   ]
  },
  {
   "cell_type": "code",
   "execution_count": 126,
   "id": "7864549f",
   "metadata": {},
   "outputs": [],
   "source": [
    "from sklearn.model_selection import train_test_split\n",
    "X_train, X_test, Y_train, Y_test = train_test_split(X, Y, test_size=0.3, random_state=42)"
   ]
  },
  {
   "cell_type": "code",
   "execution_count": 73,
   "id": "6b8fd9c6",
   "metadata": {},
   "outputs": [],
   "source": [
    "from sklearn import metrics\n",
    "from sklearn.model_selection import cross_val_score\n",
    "\n",
    "def cross_val(model):\n",
    "    pred = cross_val_score(model, X, Y, cv=10, scoring='r2')\n",
    "    return pred.mean()\n",
    "\n",
    "def print_evaluate(true, predicted):\n",
    "    mae = metrics.mean_absolute_error(true, predicted)\n",
    "    mse = metrics.mean_squared_error(true, predicted)\n",
    "    rmse = np.sqrt(metrics.mean_squared_error(true, predicted))\n",
    "    r2_square = metrics.r2_score(true, predicted)\n",
    "    print('MAE: ', mae)\n",
    "    print('MSE: ', mse)\n",
    "    print('RMSE: ', rmse)\n",
    "    print('R2 Square: ', r2_square)\n",
    "    print('_________________________________')\n",
    "    \n",
    "def evaluate(true, predicted):\n",
    "    mae = metrics.mean_absolute_error(true, predicted)\n",
    "    mse = metrics.mean_squared_error(true, predicted)\n",
    "    rmse = np.sqrt(metrics.mean_squared_error(true, predicted))\n",
    "    r2_square = metrics.r2_score(true, predicted)\n",
    "    return mae, mse, rmse, r2_square"
   ]
  },
  {
   "cell_type": "code",
   "execution_count": 74,
   "id": "d302a806",
   "metadata": {},
   "outputs": [],
   "source": [
    "# standardizing used to rescale features so that they have properties of a standard normal distribution\n",
    "# standardizing is not always necessary for multiple regression, rescaling is good for interpreting how \n",
    "# \"important\" variables are relative to each other\n",
    "\n",
    "# pipeline = Pipeline([\n",
    "#     ('std_scaler', StandardScaler())\n",
    "# ])\n",
    "\n",
    "# X_train = pipeline.fit_transform(X_train)\n",
    "# X_test = pipeline.transform(X_test)"
   ]
  },
  {
   "cell_type": "code",
   "execution_count": 127,
   "id": "64176b68",
   "metadata": {},
   "outputs": [
    {
     "data": {
      "text/plain": [
       "LinearRegression(normalize=True)"
      ]
     },
     "execution_count": 127,
     "metadata": {},
     "output_type": "execute_result"
    }
   ],
   "source": [
    "from sklearn.linear_model import LinearRegression\n",
    "\n",
    "lin_reg = LinearRegression(normalize=True)\n",
    "lin_reg.fit(X_train, Y_train)"
   ]
  },
  {
   "cell_type": "code",
   "execution_count": 76,
   "id": "5d9a39e2",
   "metadata": {},
   "outputs": [
    {
     "data": {
      "text/html": [
       "<table class=\"simpletable\">\n",
       "<caption>OLS Regression Results</caption>\n",
       "<tr>\n",
       "  <th>Dep. Variable:</th>          <td>Price</td>      <th>  R-squared:         </th> <td>   0.865</td>\n",
       "</tr>\n",
       "<tr>\n",
       "  <th>Model:</th>                   <td>OLS</td>       <th>  Adj. R-squared:    </th> <td>   0.859</td>\n",
       "</tr>\n",
       "<tr>\n",
       "  <th>Method:</th>             <td>Least Squares</td>  <th>  F-statistic:       </th> <td>   29.07</td>\n",
       "</tr>\n",
       "<tr>\n",
       "  <th>Date:</th>             <td>Sat, 15 Jan 2022</td> <th>  Prob (F-statistic):</th> <td>1.12e-15</td>\n",
       "</tr>\n",
       "<tr>\n",
       "  <th>Time:</th>                 <td>21:55:03</td>     <th>  Log-Likelihood:    </th> <td> -1384.5</td>\n",
       "</tr>\n",
       "<tr>\n",
       "  <th>No. Observations:</th>      <td>    98</td>      <th>  AIC:               </th> <td>   2779.</td>\n",
       "</tr>\n",
       "<tr>\n",
       "  <th>Df Residuals:</th>          <td>    93</td>      <th>  BIC:               </th> <td>   2792.</td>\n",
       "</tr>\n",
       "<tr>\n",
       "  <th>Df Model:</th>              <td>     4</td>      <th>                     </th>     <td> </td>   \n",
       "</tr>\n",
       "<tr>\n",
       "  <th>Covariance Type:</th>         <td>HC3</td>       <th>                     </th>     <td> </td>   \n",
       "</tr>\n",
       "</table>\n",
       "<table class=\"simpletable\">\n",
       "<tr>\n",
       "         <td></td>            <th>coef</th>     <th>std err</th>      <th>z</th>      <th>P>|z|</th>  <th>[0.025</th>    <th>0.975]</th>  \n",
       "</tr>\n",
       "<tr>\n",
       "  <th>const</th>           <td>-6.096e+05</td> <td> 1.99e+05</td> <td>   -3.057</td> <td> 0.002</td> <td>   -1e+06</td> <td>-2.19e+05</td>\n",
       "</tr>\n",
       "<tr>\n",
       "  <th>Sqft</th>            <td>  226.0372</td> <td>   56.596</td> <td>    3.994</td> <td> 0.000</td> <td>  115.112</td> <td>  336.963</td>\n",
       "</tr>\n",
       "<tr>\n",
       "  <th>No_ba</th>           <td> 6.661e+04</td> <td> 4.47e+04</td> <td>    1.490</td> <td> 0.136</td> <td> -2.1e+04</td> <td> 1.54e+05</td>\n",
       "</tr>\n",
       "<tr>\n",
       "  <th>No_bd</th>           <td> 2.955e+04</td> <td> 4.82e+04</td> <td>    0.613</td> <td> 0.540</td> <td>-6.49e+04</td> <td> 1.24e+05</td>\n",
       "</tr>\n",
       "<tr>\n",
       "  <th>City_med_income</th> <td>    4.6021</td> <td>    1.126</td> <td>    4.086</td> <td> 0.000</td> <td>    2.394</td> <td>    6.810</td>\n",
       "</tr>\n",
       "</table>\n",
       "<table class=\"simpletable\">\n",
       "<tr>\n",
       "  <th>Omnibus:</th>       <td>26.848</td> <th>  Durbin-Watson:     </th> <td>   1.906</td>\n",
       "</tr>\n",
       "<tr>\n",
       "  <th>Prob(Omnibus):</th> <td> 0.000</td> <th>  Jarque-Bera (JB):  </th> <td>  62.257</td>\n",
       "</tr>\n",
       "<tr>\n",
       "  <th>Skew:</th>          <td> 0.985</td> <th>  Prob(JB):          </th> <td>3.03e-14</td>\n",
       "</tr>\n",
       "<tr>\n",
       "  <th>Kurtosis:</th>      <td> 6.371</td> <th>  Cond. No.          </th> <td>6.79e+05</td>\n",
       "</tr>\n",
       "</table><br/><br/>Notes:<br/>[1] Standard Errors are heteroscedasticity robust (HC3)<br/>[2] The condition number is large, 6.79e+05. This might indicate that there are<br/>strong multicollinearity or other numerical problems."
      ],
      "text/plain": [
       "<class 'statsmodels.iolib.summary.Summary'>\n",
       "\"\"\"\n",
       "                            OLS Regression Results                            \n",
       "==============================================================================\n",
       "Dep. Variable:                  Price   R-squared:                       0.865\n",
       "Model:                            OLS   Adj. R-squared:                  0.859\n",
       "Method:                 Least Squares   F-statistic:                     29.07\n",
       "Date:                Sat, 15 Jan 2022   Prob (F-statistic):           1.12e-15\n",
       "Time:                        21:55:03   Log-Likelihood:                -1384.5\n",
       "No. Observations:                  98   AIC:                             2779.\n",
       "Df Residuals:                      93   BIC:                             2792.\n",
       "Df Model:                           4                                         \n",
       "Covariance Type:                  HC3                                         \n",
       "===================================================================================\n",
       "                      coef    std err          z      P>|z|      [0.025      0.975]\n",
       "-----------------------------------------------------------------------------------\n",
       "const           -6.096e+05   1.99e+05     -3.057      0.002      -1e+06   -2.19e+05\n",
       "Sqft              226.0372     56.596      3.994      0.000     115.112     336.963\n",
       "No_ba            6.661e+04   4.47e+04      1.490      0.136    -2.1e+04    1.54e+05\n",
       "No_bd            2.955e+04   4.82e+04      0.613      0.540   -6.49e+04    1.24e+05\n",
       "City_med_income     4.6021      1.126      4.086      0.000       2.394       6.810\n",
       "==============================================================================\n",
       "Omnibus:                       26.848   Durbin-Watson:                   1.906\n",
       "Prob(Omnibus):                  0.000   Jarque-Bera (JB):               62.257\n",
       "Skew:                           0.985   Prob(JB):                     3.03e-14\n",
       "Kurtosis:                       6.371   Cond. No.                     6.79e+05\n",
       "==============================================================================\n",
       "\n",
       "Notes:\n",
       "[1] Standard Errors are heteroscedasticity robust (HC3)\n",
       "[2] The condition number is large, 6.79e+05. This might indicate that there are\n",
       "strong multicollinearity or other numerical problems.\n",
       "\"\"\""
      ]
     },
     "execution_count": 76,
     "metadata": {},
     "output_type": "execute_result"
    }
   ],
   "source": [
    "X_Train = sm.add_constant(X_train)\n",
    "ols_reg = sm.OLS(Y_train, X_Train)\n",
    "ols_results = ols_reg.fit(cov_type='HC3')\n",
    "ols_results.summary()"
   ]
  },
  {
   "cell_type": "code",
   "execution_count": 106,
   "id": "5b323e53",
   "metadata": {},
   "outputs": [
    {
     "data": {
      "text/html": [
       "<div>\n",
       "<style scoped>\n",
       "    .dataframe tbody tr th:only-of-type {\n",
       "        vertical-align: middle;\n",
       "    }\n",
       "\n",
       "    .dataframe tbody tr th {\n",
       "        vertical-align: top;\n",
       "    }\n",
       "\n",
       "    .dataframe thead th {\n",
       "        text-align: right;\n",
       "    }\n",
       "</style>\n",
       "<table border=\"1\" class=\"dataframe\">\n",
       "  <thead>\n",
       "    <tr style=\"text-align: right;\">\n",
       "      <th></th>\n",
       "      <th>Coefficient</th>\n",
       "    </tr>\n",
       "  </thead>\n",
       "  <tbody>\n",
       "    <tr>\n",
       "      <th>Intercept</th>\n",
       "      <td>-609612.008712</td>\n",
       "    </tr>\n",
       "    <tr>\n",
       "      <th>Sqft</th>\n",
       "      <td>226.037175</td>\n",
       "    </tr>\n",
       "    <tr>\n",
       "      <th>No_ba</th>\n",
       "      <td>66614.506811</td>\n",
       "    </tr>\n",
       "    <tr>\n",
       "      <th>No_bd</th>\n",
       "      <td>29547.154688</td>\n",
       "    </tr>\n",
       "    <tr>\n",
       "      <th>City_med_income</th>\n",
       "      <td>4.602088</td>\n",
       "    </tr>\n",
       "  </tbody>\n",
       "</table>\n",
       "</div>"
      ],
      "text/plain": [
       "                   Coefficient\n",
       "Intercept       -609612.008712\n",
       "Sqft                226.037175\n",
       "No_ba             66614.506811\n",
       "No_bd             29547.154688\n",
       "City_med_income       4.602088"
      ]
     },
     "execution_count": 106,
     "metadata": {},
     "output_type": "execute_result"
    }
   ],
   "source": [
    "#this model matches with output from sm.OLS.fit\n",
    "#Intercept: expected mean value of y when all x=0\n",
    "intercept2 = lin_reg.intercept_\n",
    "intercept_df2 = pd.DataFrame(data=[intercept2], columns=['Coefficient'], index=['Intercept'])\n",
    "\n",
    "#Coefficients: A unit increase of each will result in this much increase in Price\n",
    "coeff_df2 = pd.DataFrame(lin_reg.coef_, X.columns, columns=['Coefficient'])\n",
    "\n",
    "model_coeff_df2 = pd.concat([intercept_df2, coeff_df2])\n",
    "model_coeff_df2 = model_coeff_df2.drop(model_coeff_df2[model_coeff_df2['Coefficient']==0].index)\n",
    "model_coeff_df2"
   ]
  },
  {
   "cell_type": "code",
   "execution_count": 78,
   "id": "6c1dc825",
   "metadata": {},
   "outputs": [
    {
     "data": {
      "image/png": "[encoded data removed]",
      "text/plain": [
       "<Figure size 432x288 with 1 Axes>"
      ]
     },
     "metadata": {
      "needs_background": "light"
     },
     "output_type": "display_data"
    }
   ],
   "source": [
    "#Assumption of normality of residuals\n",
    "stats.probplot(ols_results.resid, dist = \"norm\", plot = plt)\n",
    "plt.show()"
   ]
  },
  {
   "cell_type": "code",
   "execution_count": 132,
   "id": "4a2d94b4",
   "metadata": {},
   "outputs": [
    {
     "data": {
      "text/plain": [
       "Text(0, 0.5, 'Predicted Values')"
      ]
     },
     "execution_count": 132,
     "metadata": {},
     "output_type": "execute_result"
    },
    {
     "data": {
      "image/png": "[encoded data removed]",
      "text/plain": [
       "<Figure size 720x432 with 1 Axes>"
      ]
     },
     "metadata": {
      "needs_background": "light"
     },
     "output_type": "display_data"
    }
   ],
   "source": [
    "pred = lin_reg.predict(X_test)\n",
    "# pd.DataFrame({'True Values': Y_test, 'Predicted Values': pred}).hvplot.scatter(x='True Values', y = 'Predicted Values')\n",
    "fig, ax = plt.subplots(figsize = ( 10 , 6 ))\n",
    "plt.scatter(Y_test, pred)\n",
    "plt.xlabel('True Values')\n",
    "plt.ylabel('Predicted Values')"
   ]
  },
  {
   "cell_type": "code",
   "execution_count": 80,
   "id": "ab505363",
   "metadata": {
    "scrolled": true
   },
   "outputs": [
    {
     "name": "stdout",
     "output_type": "stream",
     "text": [
      "Test set evaluation:\n",
      "____________________\n",
      "MAE:  172021.54514633387\n",
      "MSE:  62311306463.218315\n",
      "RMSE:  249622.32765363422\n",
      "R2 Square:  0.7444790358024711\n",
      "_________________________________\n",
      "Train set evaluation:\n",
      "_____________________\n",
      "MAE:  217078.62876810614\n",
      "MSE:  109372032854.17297\n",
      "RMSE:  330714.4279498144\n",
      "R2 Square:  0.8646820209398524\n",
      "_________________________________\n"
     ]
    }
   ],
   "source": [
    "test_pred = lin_reg.predict(X_test)\n",
    "train_pred = lin_reg.predict(X_train)\n",
    "\n",
    "print('Test set evaluation:\\n____________________')\n",
    "print_evaluate(Y_test, test_pred)\n",
    "print('Train set evaluation:\\n_____________________')\n",
    "print_evaluate(Y_train, train_pred)"
   ]
  },
  {
   "cell_type": "code",
   "execution_count": 81,
   "id": "1e8afff6",
   "metadata": {},
   "outputs": [
    {
     "data": {
      "text/html": [
       "<div>\n",
       "<style scoped>\n",
       "    .dataframe tbody tr th:only-of-type {\n",
       "        vertical-align: middle;\n",
       "    }\n",
       "\n",
       "    .dataframe tbody tr th {\n",
       "        vertical-align: top;\n",
       "    }\n",
       "\n",
       "    .dataframe thead th {\n",
       "        text-align: right;\n",
       "    }\n",
       "</style>\n",
       "<table border=\"1\" class=\"dataframe\">\n",
       "  <thead>\n",
       "    <tr style=\"text-align: right;\">\n",
       "      <th></th>\n",
       "      <th>Model</th>\n",
       "      <th>MAE</th>\n",
       "      <th>MSE</th>\n",
       "      <th>RMSE</th>\n",
       "      <th>R2 Square</th>\n",
       "      <th>Cross Validation</th>\n",
       "    </tr>\n",
       "  </thead>\n",
       "  <tbody>\n",
       "    <tr>\n",
       "      <th>0</th>\n",
       "      <td>Linear Regression</td>\n",
       "      <td>172021.545146</td>\n",
       "      <td>6.231131e+10</td>\n",
       "      <td>249622.327654</td>\n",
       "      <td>0.744479</td>\n",
       "      <td>0.110507</td>\n",
       "    </tr>\n",
       "  </tbody>\n",
       "</table>\n",
       "</div>"
      ],
      "text/plain": [
       "               Model            MAE           MSE           RMSE  R2 Square  \\\n",
       "0  Linear Regression  172021.545146  6.231131e+10  249622.327654   0.744479   \n",
       "\n",
       "   Cross Validation  \n",
       "0          0.110507  "
      ]
     },
     "execution_count": 81,
     "metadata": {},
     "output_type": "execute_result"
    }
   ],
   "source": [
    "results_df = pd.DataFrame(data=[[\"Linear Regression\", *evaluate(Y_test, test_pred), cross_val(LinearRegression())]],\n",
    "                         columns = ['Model', 'MAE', 'MSE', 'RMSE', 'R2 Square', \"Cross Validation\"])\n",
    "results_df"
   ]
  },
  {
   "cell_type": "code",
   "execution_count": 82,
   "id": "85e8c75f",
   "metadata": {},
   "outputs": [
    {
     "name": "stdout",
     "output_type": "stream",
     "text": [
      "Test set evaluation:\n",
      "____________________\n",
      "MAE:  190259.69717416144\n",
      "MSE:  98879754426.9693\n",
      "RMSE:  314451.51363440644\n",
      "R2 Square:  0.5945222203660868\n",
      "_________________________________\n",
      "Train set evaluation:\n",
      "_____________________\n",
      "MAE:  239083.57970485746\n",
      "MSE:  192462887353.41174\n",
      "RMSE:  438705.92354493204\n",
      "R2 Square:  0.7618798125891206\n",
      "_________________________________\n"
     ]
    }
   ],
   "source": [
    "# RANSAC regression excludes outliers from the training set so that outliers do not impact \n",
    "# the coefficients/parameters learned as part of training\n",
    "\n",
    "from sklearn.linear_model import RANSACRegressor\n",
    "\n",
    "robust_reg = RANSACRegressor(base_estimator=LinearRegression(), max_trials=100)\n",
    "robust_reg.fit(X_train, Y_train)\n",
    "\n",
    "test_pred = robust_reg.predict(X_test)\n",
    "train_pred = robust_reg.predict(X_train)\n",
    "\n",
    "print('Test set evaluation:\\n____________________')\n",
    "print_evaluate(Y_test, test_pred)\n",
    "print('Train set evaluation:\\n_____________________')\n",
    "print_evaluate(Y_train, train_pred)"
   ]
  },
  {
   "cell_type": "code",
   "execution_count": 83,
   "id": "362b482c",
   "metadata": {},
   "outputs": [
    {
     "data": {
      "text/plain": [
       "Text(0, 0.5, 'Predicted Values')"
      ]
     },
     "execution_count": 83,
     "metadata": {},
     "output_type": "execute_result"
    },
    {
     "data": {
      "image/png": "[encoded data removed]",
      "text/plain": [
       "<Figure size 720x432 with 1 Axes>"
      ]
     },
     "metadata": {
      "needs_background": "light"
     },
     "output_type": "display_data"
    }
   ],
   "source": [
    "pred = robust_reg.predict(X_test)\n",
    "# pd.DataFrame({'True Values': Y_test, 'Predicted Values': pred}).hvplot.scatter(x='True Values', y='Predicted Values')\n",
    "fig, ax = plt.subplots(figsize = ( 10 , 6 ))\n",
    "plt.scatter(Y_test, pred)\n",
    "plt.xlabel('True Values')\n",
    "plt.ylabel('Predicted Values')"
   ]
  },
  {
   "cell_type": "code",
   "execution_count": 84,
   "id": "8acef3bd",
   "metadata": {},
   "outputs": [
    {
     "data": {
      "text/html": [
       "<div>\n",
       "<style scoped>\n",
       "    .dataframe tbody tr th:only-of-type {\n",
       "        vertical-align: middle;\n",
       "    }\n",
       "\n",
       "    .dataframe tbody tr th {\n",
       "        vertical-align: top;\n",
       "    }\n",
       "\n",
       "    .dataframe thead th {\n",
       "        text-align: right;\n",
       "    }\n",
       "</style>\n",
       "<table border=\"1\" class=\"dataframe\">\n",
       "  <thead>\n",
       "    <tr style=\"text-align: right;\">\n",
       "      <th></th>\n",
       "      <th>Model</th>\n",
       "      <th>MAE</th>\n",
       "      <th>MSE</th>\n",
       "      <th>RMSE</th>\n",
       "      <th>R2 Square</th>\n",
       "      <th>Cross Validation</th>\n",
       "    </tr>\n",
       "  </thead>\n",
       "  <tbody>\n",
       "    <tr>\n",
       "      <th>0</th>\n",
       "      <td>Linear Regression</td>\n",
       "      <td>172021.545146</td>\n",
       "      <td>6.231131e+10</td>\n",
       "      <td>249622.327654</td>\n",
       "      <td>0.744479</td>\n",
       "      <td>0.110507</td>\n",
       "    </tr>\n",
       "    <tr>\n",
       "      <th>1</th>\n",
       "      <td>Robust Regression</td>\n",
       "      <td>190259.697174</td>\n",
       "      <td>9.887975e+10</td>\n",
       "      <td>314451.513634</td>\n",
       "      <td>0.594522</td>\n",
       "      <td>0.335220</td>\n",
       "    </tr>\n",
       "  </tbody>\n",
       "</table>\n",
       "</div>"
      ],
      "text/plain": [
       "               Model            MAE           MSE           RMSE  R2 Square  \\\n",
       "0  Linear Regression  172021.545146  6.231131e+10  249622.327654   0.744479   \n",
       "1  Robust Regression  190259.697174  9.887975e+10  314451.513634   0.594522   \n",
       "\n",
       "   Cross Validation  \n",
       "0          0.110507  \n",
       "1          0.335220  "
      ]
     },
     "execution_count": 84,
     "metadata": {},
     "output_type": "execute_result"
    }
   ],
   "source": [
    "results_df_2 = pd.DataFrame(data=[[\"Robust Regression\", *evaluate(Y_test, test_pred), cross_val(RANSACRegressor())]],\n",
    "                           columns=['Model', 'MAE', 'MSE', 'RMSE', 'R2 Square', 'Cross Validation'])\n",
    "results_df = results_df.append(results_df_2, ignore_index=True)\n",
    "results_df"
   ]
  },
  {
   "cell_type": "code",
   "execution_count": 85,
   "id": "8a3a8047",
   "metadata": {},
   "outputs": [
    {
     "name": "stdout",
     "output_type": "stream",
     "text": [
      "Test set evaluation:\n",
      "____________________\n",
      "MAE:  169159.5925470887\n",
      "MSE:  62926525787.81034\n",
      "RMSE:  250851.6011266628\n",
      "R2 Square:  0.7419561961456667\n",
      "_________________________________\n",
      "Train set evaluation:\n",
      "_____________________\n",
      "MAE:  217083.3351255912\n",
      "MSE:  110705984441.3002\n",
      "RMSE:  332725.08838574257\n",
      "R2 Square:  0.8630316206663674\n",
      "_________________________________\n"
     ]
    }
   ],
   "source": [
    "# ridge regression is suitable for when there's high correlation between IV's and is used to reduce model complexity\n",
    "# it introduces some bias, called 'ridge regression penalty' (L2) that makes model less susceptible to overfitting\n",
    "from sklearn.linear_model import Ridge\n",
    "\n",
    "ridge_reg = Ridge(alpha=100, solver='cholesky', tol=0.0001, random_state=42)\n",
    "ridge_reg.fit(X_train, Y_train)\n",
    "pred = ridge_reg.predict(X_test)\n",
    "\n",
    "test_pred = ridge_reg.predict(X_test)\n",
    "train_pred = ridge_reg.predict(X_train)\n",
    "\n",
    "print('Test set evaluation:\\n____________________')\n",
    "print_evaluate(Y_test, test_pred)\n",
    "print('Train set evaluation:\\n_____________________')\n",
    "print_evaluate(Y_train, train_pred)"
   ]
  },
  {
   "cell_type": "code",
   "execution_count": 86,
   "id": "ae5ee691",
   "metadata": {},
   "outputs": [
    {
     "data": {
      "text/plain": [
       "Text(0, 0.5, 'Predicted Values')"
      ]
     },
     "execution_count": 86,
     "metadata": {},
     "output_type": "execute_result"
    },
    {
     "data": {
      "image/png": "[encoded data removed]",
      "text/plain": [
       "<Figure size 720x432 with 1 Axes>"
      ]
     },
     "metadata": {
      "needs_background": "light"
     },
     "output_type": "display_data"
    }
   ],
   "source": [
    "pred = ridge_reg.predict(X_test)\n",
    "# pd.DataFrame({'True Values': Y_test, 'Predicted Values': pred}).hvplot.scatter(x='True Values', y='Predicted Values')\n",
    "fig, ax = plt.subplots(figsize = ( 10 , 6 ))\n",
    "plt.scatter(Y_test, pred)\n",
    "plt.xlabel('True Values')\n",
    "plt.ylabel('Predicted Values')"
   ]
  },
  {
   "cell_type": "code",
   "execution_count": 87,
   "id": "75a13a8b",
   "metadata": {},
   "outputs": [
    {
     "data": {
      "text/html": [
       "<div>\n",
       "<style scoped>\n",
       "    .dataframe tbody tr th:only-of-type {\n",
       "        vertical-align: middle;\n",
       "    }\n",
       "\n",
       "    .dataframe tbody tr th {\n",
       "        vertical-align: top;\n",
       "    }\n",
       "\n",
       "    .dataframe thead th {\n",
       "        text-align: right;\n",
       "    }\n",
       "</style>\n",
       "<table border=\"1\" class=\"dataframe\">\n",
       "  <thead>\n",
       "    <tr style=\"text-align: right;\">\n",
       "      <th></th>\n",
       "      <th>Model</th>\n",
       "      <th>MAE</th>\n",
       "      <th>MSE</th>\n",
       "      <th>RMSE</th>\n",
       "      <th>R2 Square</th>\n",
       "      <th>Cross Validation</th>\n",
       "    </tr>\n",
       "  </thead>\n",
       "  <tbody>\n",
       "    <tr>\n",
       "      <th>0</th>\n",
       "      <td>Linear Regression</td>\n",
       "      <td>172021.545146</td>\n",
       "      <td>6.231131e+10</td>\n",
       "      <td>249622.327654</td>\n",
       "      <td>0.744479</td>\n",
       "      <td>0.110507</td>\n",
       "    </tr>\n",
       "    <tr>\n",
       "      <th>1</th>\n",
       "      <td>Robust Regression</td>\n",
       "      <td>190259.697174</td>\n",
       "      <td>9.887975e+10</td>\n",
       "      <td>314451.513634</td>\n",
       "      <td>0.594522</td>\n",
       "      <td>0.335220</td>\n",
       "    </tr>\n",
       "    <tr>\n",
       "      <th>2</th>\n",
       "      <td>Ridge Regression</td>\n",
       "      <td>169159.592547</td>\n",
       "      <td>6.292653e+10</td>\n",
       "      <td>250851.601127</td>\n",
       "      <td>0.741956</td>\n",
       "      <td>0.111510</td>\n",
       "    </tr>\n",
       "  </tbody>\n",
       "</table>\n",
       "</div>"
      ],
      "text/plain": [
       "               Model            MAE           MSE           RMSE  R2 Square  \\\n",
       "0  Linear Regression  172021.545146  6.231131e+10  249622.327654   0.744479   \n",
       "1  Robust Regression  190259.697174  9.887975e+10  314451.513634   0.594522   \n",
       "2   Ridge Regression  169159.592547  6.292653e+10  250851.601127   0.741956   \n",
       "\n",
       "   Cross Validation  \n",
       "0          0.110507  \n",
       "1          0.335220  \n",
       "2          0.111510  "
      ]
     },
     "execution_count": 87,
     "metadata": {},
     "output_type": "execute_result"
    }
   ],
   "source": [
    "results_df_2 = pd.DataFrame(data=[[\"Ridge Regression\", *evaluate(Y_test, test_pred), cross_val(Ridge())]],\n",
    "                           columns=['Model', 'MAE', 'MSE', 'RMSE', 'R2 Square', 'Cross Validation'])\n",
    "results_df = results_df.append(results_df_2, ignore_index=True)\n",
    "results_df"
   ]
  },
  {
   "cell_type": "code",
   "execution_count": 88,
   "id": "dc4a895b",
   "metadata": {},
   "outputs": [
    {
     "name": "stdout",
     "output_type": "stream",
     "text": [
      "Test set evaluation:\n",
      "____________________\n",
      "MAE:  172043.219258646\n",
      "MSE:  62314639713.564545\n",
      "RMSE:  249629.00415128956\n",
      "R2 Square:  0.7444653670898294\n",
      "_________________________________\n",
      "Train set evaluation:\n",
      "_____________________\n",
      "MAE:  217098.1505628777\n",
      "MSE:  109372075485.49751\n",
      "RMSE:  330714.4924031868\n",
      "R2 Square:  0.8646819681952473\n",
      "_________________________________\n"
     ]
    }
   ],
   "source": [
    "# lasso reg reduces model complexity by prohibiting size of the regression coefficient closer to 0\n",
    "# only uses the required features and sets the rest to 0 (L1 penalty) --> avoids overfitting\n",
    "\n",
    "from sklearn.linear_model import Lasso\n",
    "\n",
    "lasso_reg = Lasso(alpha=0.1, precompute=True, positive=True, selection='random', random_state=42)\n",
    "lasso_reg.fit(X_train, Y_train)\n",
    "\n",
    "test_pred = lasso_reg.predict(X_test)\n",
    "train_pred = lasso_reg.predict(X_train)\n",
    "\n",
    "print('Test set evaluation:\\n____________________')\n",
    "print_evaluate(Y_test, test_pred)\n",
    "print('Train set evaluation:\\n_____________________')\n",
    "print_evaluate(Y_train, train_pred)"
   ]
  },
  {
   "cell_type": "code",
   "execution_count": 89,
   "id": "34d92e12",
   "metadata": {},
   "outputs": [
    {
     "data": {
      "text/plain": [
       "Text(0, 0.5, 'Predicted Values')"
      ]
     },
     "execution_count": 89,
     "metadata": {},
     "output_type": "execute_result"
    },
    {
     "data": {
      "image/png": "[encoded data removed]",
      "text/plain": [
       "<Figure size 720x432 with 1 Axes>"
      ]
     },
     "metadata": {
      "needs_background": "light"
     },
     "output_type": "display_data"
    }
   ],
   "source": [
    "pred = lasso_reg.predict(X_test)\n",
    "# pd.DataFrame({'True Values': Y_test, 'Predicted Values': pred}).hvplot.scatter(x='True Values', y='Predicted Values')\n",
    "fig, ax = plt.subplots(figsize = ( 10 , 6 ))\n",
    "plt.scatter(Y_test, pred)\n",
    "plt.xlabel('True Values')\n",
    "plt.ylabel('Predicted Values')"
   ]
  },
  {
   "cell_type": "code",
   "execution_count": 90,
   "id": "70de79be",
   "metadata": {},
   "outputs": [
    {
     "data": {
      "text/html": [
       "<div>\n",
       "<style scoped>\n",
       "    .dataframe tbody tr th:only-of-type {\n",
       "        vertical-align: middle;\n",
       "    }\n",
       "\n",
       "    .dataframe tbody tr th {\n",
       "        vertical-align: top;\n",
       "    }\n",
       "\n",
       "    .dataframe thead th {\n",
       "        text-align: right;\n",
       "    }\n",
       "</style>\n",
       "<table border=\"1\" class=\"dataframe\">\n",
       "  <thead>\n",
       "    <tr style=\"text-align: right;\">\n",
       "      <th></th>\n",
       "      <th>Model</th>\n",
       "      <th>MAE</th>\n",
       "      <th>MSE</th>\n",
       "      <th>RMSE</th>\n",
       "      <th>R2 Square</th>\n",
       "      <th>Cross Validation</th>\n",
       "    </tr>\n",
       "  </thead>\n",
       "  <tbody>\n",
       "    <tr>\n",
       "      <th>0</th>\n",
       "      <td>Linear Regression</td>\n",
       "      <td>172021.545146</td>\n",
       "      <td>6.231131e+10</td>\n",
       "      <td>249622.327654</td>\n",
       "      <td>0.744479</td>\n",
       "      <td>0.110507</td>\n",
       "    </tr>\n",
       "    <tr>\n",
       "      <th>1</th>\n",
       "      <td>Robust Regression</td>\n",
       "      <td>190259.697174</td>\n",
       "      <td>9.887975e+10</td>\n",
       "      <td>314451.513634</td>\n",
       "      <td>0.594522</td>\n",
       "      <td>0.335220</td>\n",
       "    </tr>\n",
       "    <tr>\n",
       "      <th>2</th>\n",
       "      <td>Ridge Regression</td>\n",
       "      <td>169159.592547</td>\n",
       "      <td>6.292653e+10</td>\n",
       "      <td>250851.601127</td>\n",
       "      <td>0.741956</td>\n",
       "      <td>0.111510</td>\n",
       "    </tr>\n",
       "    <tr>\n",
       "      <th>3</th>\n",
       "      <td>Lasso Regression</td>\n",
       "      <td>172043.219259</td>\n",
       "      <td>6.231464e+10</td>\n",
       "      <td>249629.004151</td>\n",
       "      <td>0.744465</td>\n",
       "      <td>0.110507</td>\n",
       "    </tr>\n",
       "  </tbody>\n",
       "</table>\n",
       "</div>"
      ],
      "text/plain": [
       "               Model            MAE           MSE           RMSE  R2 Square  \\\n",
       "0  Linear Regression  172021.545146  6.231131e+10  249622.327654   0.744479   \n",
       "1  Robust Regression  190259.697174  9.887975e+10  314451.513634   0.594522   \n",
       "2   Ridge Regression  169159.592547  6.292653e+10  250851.601127   0.741956   \n",
       "3   Lasso Regression  172043.219259  6.231464e+10  249629.004151   0.744465   \n",
       "\n",
       "   Cross Validation  \n",
       "0          0.110507  \n",
       "1          0.335220  \n",
       "2          0.111510  \n",
       "3          0.110507  "
      ]
     },
     "execution_count": 90,
     "metadata": {},
     "output_type": "execute_result"
    }
   ],
   "source": [
    "results_df_2 = pd.DataFrame(data=[[\"Lasso Regression\", *evaluate(Y_test, test_pred), cross_val(Lasso())]],\n",
    "                           columns=['Model', 'MAE', 'MSE', 'RMSE', 'R2 Square', 'Cross Validation'])\n",
    "results_df = results_df.append(results_df_2, ignore_index=True)\n",
    "results_df"
   ]
  },
  {
   "cell_type": "code",
   "execution_count": 91,
   "id": "899dffa1",
   "metadata": {},
   "outputs": [
    {
     "name": "stdout",
     "output_type": "stream",
     "text": [
      "Test set evaluation:\n",
      "____________________\n",
      "MAE:  171933.80610478955\n",
      "MSE:  62300382368.68136\n",
      "RMSE:  249600.44544968536\n",
      "R2 Square:  0.7445238324104626\n",
      "_________________________________\n",
      "Train set evaluation:\n",
      "_____________________\n",
      "MAE:  216997.56232256937\n",
      "MSE:  109372673546.4724\n",
      "RMSE:  330715.396597244\n",
      "R2 Square:  0.8646812282583515\n",
      "_________________________________\n"
     ]
    }
   ],
   "source": [
    "# elastic net address stability of the model by including penalties for large coefficients by combining L1 and L2 penalties\n",
    "# L1: penalizes a model based on the sum of the absolute coefficient values, coefficients can be minimized to 0, removed\n",
    "# L2: penalizes a model based on the sum of the squared coefficient values, but coeffs can't be removed\n",
    "\n",
    "from sklearn.linear_model import ElasticNet\n",
    "\n",
    "elasticnet_reg = ElasticNet(alpha=0.1, l1_ratio=0.9, selection='random', random_state=42)\n",
    "elasticnet_reg.fit(X_train, Y_train)\n",
    "\n",
    "test_pred = elasticnet_reg.predict(X_test)\n",
    "train_pred = elasticnet_reg.predict(X_train)\n",
    "\n",
    "print('Test set evaluation:\\n____________________')\n",
    "print_evaluate(Y_test, test_pred)\n",
    "print('Train set evaluation:\\n_____________________')\n",
    "print_evaluate(Y_train, train_pred)"
   ]
  },
  {
   "cell_type": "code",
   "execution_count": 121,
   "id": "d527ac66",
   "metadata": {},
   "outputs": [
    {
     "data": {
      "text/plain": [
       "Text(0, 0.5, 'Predicted Values')"
      ]
     },
     "execution_count": 121,
     "metadata": {},
     "output_type": "execute_result"
    },
    {
     "data": {
      "image/png": "[encoded data removed]",
      "text/plain": [
       "<Figure size 720x432 with 1 Axes>"
      ]
     },
     "metadata": {
      "needs_background": "light"
     },
     "output_type": "display_data"
    }
   ],
   "source": [
    "pred = elasticnet_reg.predict(X_test)\n",
    "# pd.DataFrame({'True Values': Y_test, 'Predicted Values': pred}).hvplot.scatter(x='True Values', y='Predicted Values')\n",
    "fig, ax = plt.subplots(figsize = ( 10 , 6 ))\n",
    "plt.scatter(Y_test, pred)\n",
    "plt.xlabel('True Values')\n",
    "plt.ylabel('Predicted Values')"
   ]
  },
  {
   "cell_type": "code",
   "execution_count": 93,
   "id": "cc0d13dd",
   "metadata": {},
   "outputs": [
    {
     "data": {
      "text/html": [
       "<div>\n",
       "<style scoped>\n",
       "    .dataframe tbody tr th:only-of-type {\n",
       "        vertical-align: middle;\n",
       "    }\n",
       "\n",
       "    .dataframe tbody tr th {\n",
       "        vertical-align: top;\n",
       "    }\n",
       "\n",
       "    .dataframe thead th {\n",
       "        text-align: right;\n",
       "    }\n",
       "</style>\n",
       "<table border=\"1\" class=\"dataframe\">\n",
       "  <thead>\n",
       "    <tr style=\"text-align: right;\">\n",
       "      <th></th>\n",
       "      <th>Model</th>\n",
       "      <th>MAE</th>\n",
       "      <th>MSE</th>\n",
       "      <th>RMSE</th>\n",
       "      <th>R2 Square</th>\n",
       "      <th>Cross Validation</th>\n",
       "    </tr>\n",
       "  </thead>\n",
       "  <tbody>\n",
       "    <tr>\n",
       "      <th>0</th>\n",
       "      <td>Linear Regression</td>\n",
       "      <td>172021.545146</td>\n",
       "      <td>6.231131e+10</td>\n",
       "      <td>249622.327654</td>\n",
       "      <td>0.744479</td>\n",
       "      <td>0.110507</td>\n",
       "    </tr>\n",
       "    <tr>\n",
       "      <th>1</th>\n",
       "      <td>Robust Regression</td>\n",
       "      <td>190259.697174</td>\n",
       "      <td>9.887975e+10</td>\n",
       "      <td>314451.513634</td>\n",
       "      <td>0.594522</td>\n",
       "      <td>0.335220</td>\n",
       "    </tr>\n",
       "    <tr>\n",
       "      <th>2</th>\n",
       "      <td>Ridge Regression</td>\n",
       "      <td>169159.592547</td>\n",
       "      <td>6.292653e+10</td>\n",
       "      <td>250851.601127</td>\n",
       "      <td>0.741956</td>\n",
       "      <td>0.111510</td>\n",
       "    </tr>\n",
       "    <tr>\n",
       "      <th>3</th>\n",
       "      <td>Lasso Regression</td>\n",
       "      <td>172043.219259</td>\n",
       "      <td>6.231464e+10</td>\n",
       "      <td>249629.004151</td>\n",
       "      <td>0.744465</td>\n",
       "      <td>0.110507</td>\n",
       "    </tr>\n",
       "    <tr>\n",
       "      <th>4</th>\n",
       "      <td>Elastic Net Regression</td>\n",
       "      <td>171933.806105</td>\n",
       "      <td>6.230038e+10</td>\n",
       "      <td>249600.445450</td>\n",
       "      <td>0.744524</td>\n",
       "      <td>0.124720</td>\n",
       "    </tr>\n",
       "  </tbody>\n",
       "</table>\n",
       "</div>"
      ],
      "text/plain": [
       "                    Model            MAE           MSE           RMSE  \\\n",
       "0       Linear Regression  172021.545146  6.231131e+10  249622.327654   \n",
       "1       Robust Regression  190259.697174  9.887975e+10  314451.513634   \n",
       "2        Ridge Regression  169159.592547  6.292653e+10  250851.601127   \n",
       "3        Lasso Regression  172043.219259  6.231464e+10  249629.004151   \n",
       "4  Elastic Net Regression  171933.806105  6.230038e+10  249600.445450   \n",
       "\n",
       "   R2 Square  Cross Validation  \n",
       "0   0.744479          0.110507  \n",
       "1   0.594522          0.335220  \n",
       "2   0.741956          0.111510  \n",
       "3   0.744465          0.110507  \n",
       "4   0.744524          0.124720  "
      ]
     },
     "execution_count": 93,
     "metadata": {},
     "output_type": "execute_result"
    }
   ],
   "source": [
    "results_df_2 = pd.DataFrame(data=[[\"Elastic Net Regression\", *evaluate(Y_test, test_pred), cross_val(ElasticNet())]],\n",
    "                           columns=['Model', 'MAE', 'MSE', 'RMSE', 'R2 Square', 'Cross Validation'])\n",
    "results_df = results_df.append(results_df_2, ignore_index=True)\n",
    "results_df"
   ]
  },
  {
   "cell_type": "code",
   "execution_count": 145,
   "id": "6c89ca14",
   "metadata": {},
   "outputs": [
    {
     "name": "stdout",
     "output_type": "stream",
     "text": [
      "Test set evaluation:\n",
      "_____________________________________\n",
      "MAE:  157010.1806372169\n",
      "MSE:  49098429848.27578\n",
      "RMSE:  221581.65503551005\n",
      "R2 Square:  0.7986612888172754\n",
      "_________________________________\n",
      "====================================\n",
      "Train set evaluation:\n",
      "_____________________________________\n",
      "MAE:  216997.56232256937\n",
      "MSE:  109372673546.4724\n",
      "RMSE:  330715.396597244\n",
      "R2 Square:  0.8646812282583515\n",
      "_________________________________\n"
     ]
    }
   ],
   "source": [
    "from sklearn.preprocessing import PolynomialFeatures\n",
    "\n",
    "poly_reg = PolynomialFeatures(degree=2)\n",
    "\n",
    "X_train_2_d = poly_reg.fit_transform(X_train)\n",
    "X_test_2_d = poly_reg.fit_transform(X_test)\n",
    "\n",
    "lin_reg2 = LinearRegression(normalize=True)\n",
    "lin_reg2.fit(X_train_2_d, Y_train)\n",
    "\n",
    "# lin_reg2 = make_pipeline(poly_reg, LinearRegression())\n",
    "# lin_reg2.fit(X_train_2_d, Y_train)\n",
    "\n",
    "test_pred = lin_reg2.predict(X_test_2_d)\n",
    "train_pref = lin_reg2.predict(X_train_2_d)\n",
    "\n",
    "print('Test set evaluation:\\n_____________________________________')\n",
    "print_evaluate(Y_test, test_pred)\n",
    "print('====================================')\n",
    "print('Train set evaluation:\\n_____________________________________')\n",
    "print_evaluate(Y_train, train_pred)"
   ]
  },
  {
   "cell_type": "code",
   "execution_count": 178,
   "id": "76708179",
   "metadata": {},
   "outputs": [
    {
     "data": {
      "text/plain": [
       "Text(0, 0.5, 'Predicted Values')"
      ]
     },
     "execution_count": 178,
     "metadata": {},
     "output_type": "execute_result"
    },
    {
     "data": {
      "image/png": "[encoded data removed]",
      "text/plain": [
       "<Figure size 720x432 with 1 Axes>"
      ]
     },
     "metadata": {
      "needs_background": "light"
     },
     "output_type": "display_data"
    }
   ],
   "source": [
    "pred = lin_reg2.predict(X_test_2_d)\n",
    "# pd.DataFrame({'True Values': Y_test, 'Predicted Values': pred}).hvplot.scatter(x='True Values', y='Predicted Values')\n",
    "fig, ax = plt.subplots(figsize = ( 10 , 6 ))\n",
    "plt.scatter(Y_test, pred)\n",
    "plt.xlabel('True Values')\n",
    "plt.ylabel('Predicted Values')"
   ]
  },
  {
   "cell_type": "code",
   "execution_count": 116,
   "id": "0013b45b",
   "metadata": {},
   "outputs": [
    {
     "data": {
      "text/html": [
       "<div>\n",
       "<style scoped>\n",
       "    .dataframe tbody tr th:only-of-type {\n",
       "        vertical-align: middle;\n",
       "    }\n",
       "\n",
       "    .dataframe tbody tr th {\n",
       "        vertical-align: top;\n",
       "    }\n",
       "\n",
       "    .dataframe thead th {\n",
       "        text-align: right;\n",
       "    }\n",
       "</style>\n",
       "<table border=\"1\" class=\"dataframe\">\n",
       "  <thead>\n",
       "    <tr style=\"text-align: right;\">\n",
       "      <th></th>\n",
       "      <th>Model</th>\n",
       "      <th>MAE</th>\n",
       "      <th>MSE</th>\n",
       "      <th>RMSE</th>\n",
       "      <th>R2 Square</th>\n",
       "      <th>Cross Validation</th>\n",
       "    </tr>\n",
       "  </thead>\n",
       "  <tbody>\n",
       "    <tr>\n",
       "      <th>0</th>\n",
       "      <td>Linear Regression</td>\n",
       "      <td>172021.545146</td>\n",
       "      <td>6.231131e+10</td>\n",
       "      <td>249622.327654</td>\n",
       "      <td>0.744479</td>\n",
       "      <td>0.110507</td>\n",
       "    </tr>\n",
       "    <tr>\n",
       "      <th>1</th>\n",
       "      <td>Robust Regression</td>\n",
       "      <td>190259.697174</td>\n",
       "      <td>9.887975e+10</td>\n",
       "      <td>314451.513634</td>\n",
       "      <td>0.594522</td>\n",
       "      <td>0.335220</td>\n",
       "    </tr>\n",
       "    <tr>\n",
       "      <th>2</th>\n",
       "      <td>Ridge Regression</td>\n",
       "      <td>169159.592547</td>\n",
       "      <td>6.292653e+10</td>\n",
       "      <td>250851.601127</td>\n",
       "      <td>0.741956</td>\n",
       "      <td>0.111510</td>\n",
       "    </tr>\n",
       "    <tr>\n",
       "      <th>3</th>\n",
       "      <td>Lasso Regression</td>\n",
       "      <td>172043.219259</td>\n",
       "      <td>6.231464e+10</td>\n",
       "      <td>249629.004151</td>\n",
       "      <td>0.744465</td>\n",
       "      <td>0.110507</td>\n",
       "    </tr>\n",
       "    <tr>\n",
       "      <th>4</th>\n",
       "      <td>Elastic Net Regression</td>\n",
       "      <td>171933.806105</td>\n",
       "      <td>6.230038e+10</td>\n",
       "      <td>249600.445450</td>\n",
       "      <td>0.744524</td>\n",
       "      <td>0.124720</td>\n",
       "    </tr>\n",
       "    <tr>\n",
       "      <th>5</th>\n",
       "      <td>Polynomial Regression</td>\n",
       "      <td>157010.180637</td>\n",
       "      <td>4.909843e+10</td>\n",
       "      <td>221581.655036</td>\n",
       "      <td>0.798661</td>\n",
       "      <td>0.000000</td>\n",
       "    </tr>\n",
       "  </tbody>\n",
       "</table>\n",
       "</div>"
      ],
      "text/plain": [
       "                    Model            MAE           MSE           RMSE  \\\n",
       "0       Linear Regression  172021.545146  6.231131e+10  249622.327654   \n",
       "1       Robust Regression  190259.697174  9.887975e+10  314451.513634   \n",
       "2        Ridge Regression  169159.592547  6.292653e+10  250851.601127   \n",
       "3        Lasso Regression  172043.219259  6.231464e+10  249629.004151   \n",
       "4  Elastic Net Regression  171933.806105  6.230038e+10  249600.445450   \n",
       "5   Polynomial Regression  157010.180637  4.909843e+10  221581.655036   \n",
       "\n",
       "   R2 Square  Cross Validation  \n",
       "0   0.744479          0.110507  \n",
       "1   0.594522          0.335220  \n",
       "2   0.741956          0.111510  \n",
       "3   0.744465          0.110507  \n",
       "4   0.744524          0.124720  \n",
       "5   0.798661          0.000000  "
      ]
     },
     "execution_count": 116,
     "metadata": {},
     "output_type": "execute_result"
    }
   ],
   "source": [
    "results_df_2 = pd.DataFrame(data=[[\"Polynomial Regression\", *evaluate(Y_test, test_pred), 0]],\n",
    "                           columns=['Model', 'MAE', 'MSE', 'RMSE', 'R2 Square', 'Cross Validation'])\n",
    "results_df = results_df.append(results_df_2, ignore_index=True)\n",
    "results_df"
   ]
  },
  {
   "cell_type": "code",
   "execution_count": 117,
   "id": "354f5e3e",
   "metadata": {},
   "outputs": [
    {
     "data": {
      "text/plain": [
       "Text(0, 0.5, 'RMSE')"
      ]
     },
     "execution_count": 117,
     "metadata": {},
     "output_type": "execute_result"
    },
    {
     "data": {
      "image/png": "[encoded data removed]",
      "text/plain": [
       "<Figure size 432x288 with 1 Axes>"
      ]
     },
     "metadata": {
      "needs_background": "light"
     },
     "output_type": "display_data"
    }
   ],
   "source": [
    "plt.bar(results_df['Model'], results_df['RMSE'])\n",
    "plt.xticks(rotation=60)\n",
    "plt.ylabel('RMSE')\n",
    "#elastic net and linear regression best in terms of RMSE, robust regression is the worst"
   ]
  },
  {
   "cell_type": "code",
   "execution_count": 118,
   "id": "ffc3d483",
   "metadata": {},
   "outputs": [
    {
     "data": {
      "text/plain": [
       "Text(0, 0.5, 'R2 Square')"
      ]
     },
     "execution_count": 118,
     "metadata": {},
     "output_type": "execute_result"
    },
    {
     "data": {
      "image/png": "[encoded data removed]",
      "text/plain": [
       "<Figure size 432x288 with 1 Axes>"
      ]
     },
     "metadata": {
      "needs_background": "light"
     },
     "output_type": "display_data"
    }
   ],
   "source": [
    "plt.bar(results_df['Model'], results_df['R2 Square'])\n",
    "plt.xticks(rotation=60)\n",
    "plt.ylabel('R2 Square')\n",
    "#linear and lasso regressions perform the same in terms of R2, robust regression is the worst"
   ]
  },
  {
   "cell_type": "raw",
   "id": "74687f78",
   "metadata": {},
   "source": [
    "pip install nbconvert"
   ]
  },
  {
   "cell_type": "code",
   "execution_count": 184,
   "id": "f95fe345",
   "metadata": {},
   "outputs": [
    {
     "data": {
      "text/html": [
       "<div>\n",
       "<style scoped>\n",
       "    .dataframe tbody tr th:only-of-type {\n",
       "        vertical-align: middle;\n",
       "    }\n",
       "\n",
       "    .dataframe tbody tr th {\n",
       "        vertical-align: top;\n",
       "    }\n",
       "\n",
       "    .dataframe thead th {\n",
       "        text-align: right;\n",
       "    }\n",
       "</style>\n",
       "<table border=\"1\" class=\"dataframe\">\n",
       "  <thead>\n",
       "    <tr style=\"text-align: right;\">\n",
       "      <th></th>\n",
       "      <th>1</th>\n",
       "      <th>const</th>\n",
       "      <th>Sqft</th>\n",
       "      <th>No_ba</th>\n",
       "      <th>No_bd</th>\n",
       "      <th>City_med_income</th>\n",
       "      <th>const^2</th>\n",
       "      <th>const Sqft</th>\n",
       "      <th>const No_ba</th>\n",
       "      <th>const No_bd</th>\n",
       "      <th>...</th>\n",
       "      <th>Sqft^2</th>\n",
       "      <th>Sqft No_ba</th>\n",
       "      <th>Sqft No_bd</th>\n",
       "      <th>Sqft City_med_income</th>\n",
       "      <th>No_ba^2</th>\n",
       "      <th>No_ba No_bd</th>\n",
       "      <th>No_ba City_med_income</th>\n",
       "      <th>No_bd^2</th>\n",
       "      <th>No_bd City_med_income</th>\n",
       "      <th>City_med_income^2</th>\n",
       "    </tr>\n",
       "  </thead>\n",
       "  <tbody>\n",
       "    <tr>\n",
       "      <th>0</th>\n",
       "      <td>0.0</td>\n",
       "      <td>9.313226e-09</td>\n",
       "      <td>-68.703288</td>\n",
       "      <td>91407.0568</td>\n",
       "      <td>233094.18</td>\n",
       "      <td>3.644976</td>\n",
       "      <td>-7.916242e-09</td>\n",
       "      <td>-68.703288</td>\n",
       "      <td>91407.0568</td>\n",
       "      <td>233094.18</td>\n",
       "      <td>...</td>\n",
       "      <td>-0.057401</td>\n",
       "      <td>140.612269</td>\n",
       "      <td>-10.153863</td>\n",
       "      <td>0.00154</td>\n",
       "      <td>-32723.6547</td>\n",
       "      <td>-61798.1128</td>\n",
       "      <td>-0.477916</td>\n",
       "      <td>-27082.5216</td>\n",
       "      <td>1.014572</td>\n",
       "      <td>-0.000043</td>\n",
       "    </tr>\n",
       "  </tbody>\n",
       "</table>\n",
       "<p>1 rows × 21 columns</p>\n",
       "</div>"
      ],
      "text/plain": [
       "     1         const       Sqft       No_ba      No_bd  City_med_income  \\\n",
       "0  0.0  9.313226e-09 -68.703288  91407.0568  233094.18         3.644976   \n",
       "\n",
       "        const^2  const Sqft  const No_ba  const No_bd  ...    Sqft^2  \\\n",
       "0 -7.916242e-09  -68.703288   91407.0568    233094.18  ... -0.057401   \n",
       "\n",
       "   Sqft No_ba  Sqft No_bd  Sqft City_med_income     No_ba^2  No_ba No_bd  \\\n",
       "0  140.612269  -10.153863               0.00154 -32723.6547  -61798.1128   \n",
       "\n",
       "   No_ba City_med_income     No_bd^2  No_bd City_med_income  City_med_income^2  \n",
       "0              -0.477916 -27082.5216               1.014572          -0.000043  \n",
       "\n",
       "[1 rows x 21 columns]"
      ]
     },
     "execution_count": 184,
     "metadata": {},
     "output_type": "execute_result"
    }
   ],
   "source": [
    "poly_feature_names = poly_reg.get_feature_names(X_train.columns)\n",
    "# poly_coefs = lin_reg2.coef_\n",
    "# poly_coefs = [0.00000000e+00,  9.31322575e-09, -6.87032878e+01,  9.14070568e+04, 2.33094180e+05,  3.64497627e+00, -7.91624188e-09, -6.87032878e+01, 9.14070568e+04,  2.33094180e+05,  3.64497627e+00, -5.74013690e-02, 1.40612269e+02, -1.01538626e+01,  1.53994989e-03, -3.27236547e+04, -6.17981128e+04, -4.77916043e-01, -2.70825216e+04,  1.01457191e+00, -4.26346840e-05]\n",
    "features = pd.DataFrame(data=[[0.00000000e+00,  9.31322575e-09, -6.87032878e+01,  9.14070568e+04, 2.33094180e+05,  3.64497627e+00, -7.91624188e-09, -6.87032878e+01, 9.14070568e+04,  2.33094180e+05,  3.64497627e+00, -5.74013690e-02, 1.40612269e+02, -1.01538626e+01,  1.53994989e-03, -3.27236547e+04, -6.17981128e+04, -4.77916043e-01, -2.70825216e+04,  1.01457191e+00, -4.26346840e-05]], columns=['1', 'const', 'Sqft', 'No_ba', 'No_bd', 'City_med_income', 'const^2', 'const Sqft', 'const No_ba', 'const No_bd', 'const City_med_income', 'Sqft^2', 'Sqft No_ba', 'Sqft No_bd', 'Sqft City_med_income', 'No_ba^2', 'No_ba No_bd', 'No_ba City_med_income', 'No_bd^2', 'No_bd City_med_income', 'City_med_income^2'])\n",
    "# features = pd.concat([poly_feature_names, poly_coefs], axis=1)\n",
    "features"
   ]
  },
  {
   "cell_type": "code",
   "execution_count": 105,
   "id": "d7981ce3",
   "metadata": {},
   "outputs": [
    {
     "data": {
      "text/html": [
       "<div>\n",
       "<style scoped>\n",
       "    .dataframe tbody tr th:only-of-type {\n",
       "        vertical-align: middle;\n",
       "    }\n",
       "\n",
       "    .dataframe tbody tr th {\n",
       "        vertical-align: top;\n",
       "    }\n",
       "\n",
       "    .dataframe thead th {\n",
       "        text-align: right;\n",
       "    }\n",
       "</style>\n",
       "<table border=\"1\" class=\"dataframe\">\n",
       "  <thead>\n",
       "    <tr style=\"text-align: right;\">\n",
       "      <th></th>\n",
       "      <th>Coefficient</th>\n",
       "    </tr>\n",
       "  </thead>\n",
       "  <tbody>\n",
       "    <tr>\n",
       "      <th>Intercept</th>\n",
       "      <td>-606829.577185</td>\n",
       "    </tr>\n",
       "    <tr>\n",
       "      <th>Sqft</th>\n",
       "      <td>226.601902</td>\n",
       "    </tr>\n",
       "    <tr>\n",
       "      <th>No_ba</th>\n",
       "      <td>65746.586772</td>\n",
       "    </tr>\n",
       "    <tr>\n",
       "      <th>No_bd</th>\n",
       "      <td>29308.430727</td>\n",
       "    </tr>\n",
       "    <tr>\n",
       "      <th>City_med_income</th>\n",
       "      <td>4.600980</td>\n",
       "    </tr>\n",
       "  </tbody>\n",
       "</table>\n",
       "</div>"
      ],
      "text/plain": [
       "                   Coefficient\n",
       "Intercept       -606829.577185\n",
       "Sqft                226.601902\n",
       "No_ba             65746.586772\n",
       "No_bd             29308.430727\n",
       "City_med_income       4.600980"
      ]
     },
     "execution_count": 105,
     "metadata": {},
     "output_type": "execute_result"
    }
   ],
   "source": [
    "#Intercept: expected mean value of y when all x=0\n",
    "intercept = elasticnet_reg.intercept_\n",
    "intercept_df = pd.DataFrame(data=[intercept], columns=['Coefficient'], index=['Intercept'])\n",
    "\n",
    "#Coefficients: A unit increase of each will result in this much increase in Price\n",
    "coeff_df = pd.DataFrame(elasticnet_reg.coef_, X.columns, columns=['Coefficient'])\n",
    "\n",
    "model_coeff_df = pd.concat([intercept_df2, coeff_df2])\n",
    "model_coeff_df = model_coeff_df.drop(model_coeff_df[model_coeff_df['Coefficient']==0].index)\n",
    "model_coeff_df"
   ]
  }
 ],
 "metadata": {
  "kernelspec": {
   "display_name": "Python 3",
   "language": "python",
   "name": "python3"
  },
  "language_info": {
   "codemirror_mode": {
    "name": "ipython",
    "version": 3
   },
   "file_extension": ".py",
   "mimetype": "text/x-python",
   "name": "python",
   "nbconvert_exporter": "python",
   "pygments_lexer": "ipython3",
   "version": "3.8.8"
  }
 },
 "nbformat": 4,
 "nbformat_minor": 5
}
